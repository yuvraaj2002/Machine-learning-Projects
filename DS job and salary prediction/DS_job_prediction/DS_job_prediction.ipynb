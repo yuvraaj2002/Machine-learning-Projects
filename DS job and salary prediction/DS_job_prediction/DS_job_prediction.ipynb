{
 "cells": [
  {
   "cell_type": "markdown",
   "id": "f5e299c7",
   "metadata": {
    "tags": []
   },
   "source": [
    "# Importing dependencies "
   ]
  },
  {
   "cell_type": "code",
   "execution_count": null,
   "id": "22912a78",
   "metadata": {},
   "outputs": [],
   "source": [
    "import pandas as pd\n",
    "import numpy as np\n",
    "import matplotlib.pyplot as plt\n",
    "plt.style.use('fast')\n",
    "import seaborn as sns\n",
    "from sklearn.model_selection import train_test_split\n",
    "from sklearn.impute import SimpleImputer\n",
    "from sklearn.linear_model import LinearRegression\n",
    "from sklearn.compose import ColumnTransformer\n",
    "from sklearn.pipeline import Pipeline\n",
    "from sklearn.preprocessing import OneHotEncoder, OrdinalEncoder\n",
    "import sklearn\n",
    "from sklearn.experimental import enable_iterative_imputer\n",
    "from sklearn.impute import IterativeImputer\n",
    "from sklearn.naive_bayes import GaussianNB\n",
    "from sklearn.linear_model import LogisticRegression\n",
    "from sklearn.preprocessing import MinMaxScaler\n",
    "from sklearn.metrics import accuracy_score, precision_score, recall_score, f1_score\n",
    "\n",
    "# Loading csv file\n",
    "df = pd.read_csv('data_science_job.csv')\n",
    "\n",
    "# Chossing a style ( can see the list using the code : plt.style.available\n",
    "plt.style.use('default')"
   ]
  },
  {
   "cell_type": "markdown",
   "id": "c72f243f",
   "metadata": {
    "tags": []
   },
   "source": [
    "# Introductory EDA"
   ]
  },
  {
   "cell_type": "code",
   "execution_count": null,
   "id": "4f995c21",
   "metadata": {},
   "outputs": [],
   "source": [
    "# Checking the shape of the dataframe\n",
    "df.shape"
   ]
  },
  {
   "cell_type": "code",
   "execution_count": null,
   "id": "6c8c6b8a",
   "metadata": {},
   "outputs": [],
   "source": [
    "# Checking any 5 random rows\n",
    "df.sample(5)"
   ]
  },
  {
   "cell_type": "code",
   "execution_count": null,
   "id": "41c7ae31",
   "metadata": {},
   "outputs": [],
   "source": [
    "# Checking data type of the features\n",
    "df.info()"
   ]
  },
  {
   "cell_type": "code",
   "execution_count": null,
   "id": "4a1dcaab",
   "metadata": {},
   "outputs": [],
   "source": [
    "# Optimizing the memory by using appropriate data types\n",
    "int_cols = df.select_dtypes(include=np.int64)\n",
    "float_cols = df.select_dtypes(include=np.float64)\n",
    "\n",
    "df[int_cols.columns] = df[int_cols.columns].astype(np.int32)\n",
    "df[float_cols.columns] = df[float_cols.columns].astype(np.float32)"
   ]
  },
  {
   "cell_type": "code",
   "execution_count": null,
   "id": "644fb00f",
   "metadata": {},
   "outputs": [],
   "source": [
    "# Descriptive information about the data\n",
    "df.describe()"
   ]
  },
  {
   "cell_type": "code",
   "execution_count": null,
   "id": "f040cd0d",
   "metadata": {},
   "outputs": [],
   "source": [
    "# Checking percentage of null values\n",
    "df.isnull().mean()*100"
   ]
  },
  {
   "cell_type": "code",
   "execution_count": null,
   "id": "da7a7cc1",
   "metadata": {},
   "outputs": [],
   "source": [
    "# Checking duplicated values\n",
    "df.duplicated().sum()"
   ]
  },
  {
   "cell_type": "code",
   "execution_count": null,
   "id": "5cda9ba2",
   "metadata": {},
   "outputs": [],
   "source": [
    "# Let's visualize distribution of the classes in the target variable\n",
    "ex = (0,0.2)\n",
    "df['target'].value_counts().plot(kind='pie',autopct='%.2f',explode= ex)"
   ]
  },
  {
   "cell_type": "markdown",
   "id": "6fe570cb",
   "metadata": {
    "tags": []
   },
   "source": [
    "# Data Cleaning\n",
    "\n",
    "In this step we will be handling the missing values,outliers and will also work on dealing with imbalanced data\n"
   ]
  },
  {
   "cell_type": "code",
   "execution_count": null,
   "id": "9c418e9e",
   "metadata": {},
   "outputs": [],
   "source": [
    "# Dropping the unnecessary columns from the dataframe\n",
    "df = df.drop(['enrollee_id','city'],axis=1)\n",
    "df.head(3)"
   ]
  },
  {
   "cell_type": "code",
   "execution_count": null,
   "id": "920f10f4",
   "metadata": {},
   "outputs": [],
   "source": [
    "# Let's take out features having missing value percentage less than 5% \n",
    "cols_less5_per = [col for col in df.columns if df[col].isnull().mean()*100 <5 and df[col].isnull().mean()*100>0]\n",
    "\n",
    "\n",
    "# Let's create 2 copy to compare the change in distribution\n",
    "remove_nan = df[cols_less5_per].copy()\n",
    "impute_nan = df[cols_less5_per].copy()"
   ]
  },
  {
   "cell_type": "code",
   "execution_count": null,
   "id": "5ff4a319-51a1-47db-86c8-e624087d048a",
   "metadata": {},
   "outputs": [],
   "source": [
    "# Dropping all the rows having column values as NaN\n",
    "remove_nan.dropna(inplace=True)"
   ]
  },
  {
   "cell_type": "markdown",
   "id": "626ca2bc-d473-4cb8-b62e-453bfb9235c5",
   "metadata": {},
   "source": [
    "Since city_development_index, experience and training hours are numerical features so we will use mean imputation, whereas for the remaining features we will do mode imputation."
   ]
  },
  {
   "cell_type": "code",
   "execution_count": null,
   "id": "122a9d5d-cd85-4aee-9c76-15ed57c54187",
   "metadata": {},
   "outputs": [],
   "source": [
    "# Mean imputation\n",
    "impute_nan['city_development_index'].fillna(df['city_development_index'].mean(),inplace=True)\n",
    "impute_nan['experience'].fillna(df['city_development_index'].mean(),inplace=True)\n",
    "impute_nan['training_hours'].fillna(df['city_development_index'].mean(),inplace=True)\n",
    "\n",
    "# Mode imputation\n",
    "impute_nan['enrolled_university'].fillna(impute_nan['enrolled_university'].mode().values[0],inplace=True)\n",
    "impute_nan['education_level'].fillna(impute_nan['education_level'].mode().values[0],inplace=True)"
   ]
  },
  {
   "cell_type": "code",
   "execution_count": null,
   "id": "00a07cd2",
   "metadata": {},
   "outputs": [],
   "source": [
    "# Now let's visualize the distributions before and after implemnting CCA on numerical features\n",
    "fig, ax = plt.subplots(1, 3, figsize=(17, 3.5))\n",
    "\n",
    "sns.kdeplot(df['city_development_index'], fill=True,ax=ax[0], color='green', label='Origial')\n",
    "sns.kdeplot(remove_nan['city_development_index'], fill=True,ax=ax[0], label='After removing')\n",
    "sns.kdeplot(impute_nan['city_development_index'], fill=True,ax=ax[0], label='After imputation')\n",
    "ax[0].legend(loc='upper center')\n",
    "ax[0].set(title='Distribution comparision of City_development_index')\n",
    "\n",
    "sns.kdeplot(df['experience'], fill=True,ax=ax[1], color='blue', label='Original')\n",
    "sns.kdeplot(remove_nan['experience'], fill=True,ax=ax[1], label='After removing')\n",
    "sns.kdeplot(impute_nan['experience'], fill=True,ax=ax[1], label='After imputing')\n",
    "ax[1].legend(loc='upper center')\n",
    "ax[1].set(title='Distribution comparision of Experience feature')\n",
    "\n",
    "sns.kdeplot(df['training_hours'], fill=True,ax=ax[2], color='red', label='Original')\n",
    "sns.kdeplot(remove_nan['training_hours'], fill=True,ax=ax[2], label='After removing')\n",
    "sns.kdeplot(impute_nan['training_hours'], fill=True,ax=ax[2], label='After imputation')\n",
    "ax[2].legend(loc='upper center')\n",
    "ax[2].set(title='Distribution comparision of training hours')"
   ]
  },
  {
   "cell_type": "markdown",
   "id": "171f4be2",
   "metadata": {},
   "source": [
    "For the categorical columns we will check the ratio of categories before and after applying PCA"
   ]
  },
  {
   "cell_type": "code",
   "execution_count": null,
   "id": "45818bc7",
   "metadata": {
    "scrolled": true
   },
   "outputs": [],
   "source": [
    "# For the categorical features we will check the ratio of classes before and after implementing CCA\n",
    "compare_eu = pd.concat([df['enrolled_university'].value_counts() / len(df),\n",
    "                    remove_nan['enrolled_university'].value_counts() / len(remove_nan),\n",
    "                    impute_nan['enrolled_university'].value_counts()/len(impute_nan)],axis=1)\n",
    "\n",
    "compare_eu.columns = ['Original','After removing','After imputation']\n",
    "compare_eu"
   ]
  },
  {
   "cell_type": "code",
   "execution_count": null,
   "id": "ab92fdc8",
   "metadata": {
    "scrolled": true
   },
   "outputs": [],
   "source": [
    "compare_edu_level = pd.concat([ df['education_level'].value_counts() / len(df),\n",
    "                        remove_nan['education_level'].value_counts() / len(remove_nan),\n",
    "                        impute_nan['education_level'].value_counts()/len(impute_nan)],axis=1)\n",
    "\n",
    "compare_edu_level.columns = ['Original','After removing','After imputation']\n",
    "compare_edu_level"
   ]
  },
  {
   "cell_type": "markdown",
   "id": "27359c22-dbe8-4478-8fb8-117b2a721ce6",
   "metadata": {},
   "source": [
    "Let's now impute and remove missing values based the above analysis."
   ]
  },
  {
   "cell_type": "code",
   "execution_count": null,
   "id": "0982b07b",
   "metadata": {},
   "outputs": [],
   "source": [
    "# Dropping missing values in original dataframe\n",
    "df.dropna(subset = ['city_development_index'],inplace=True)\n",
    "\n",
    "# Mean value imputation in original dataframe\n",
    "df['experience'].fillna(df['city_development_index'].mean(),inplace=True)\n",
    "df['training_hours'].fillna(df['city_development_index'].mean(),inplace=True)\n",
    "\n",
    "# Mode value imputation in original dataframe\n",
    "df['enrolled_university'].fillna(df['enrolled_university'].mode().values[0],inplace=True)\n",
    "df['education_level'].fillna(df['education_level'].mode().values[0],inplace=True)"
   ]
  },
  {
   "cell_type": "markdown",
   "id": "eb77b6bc-c605-418c-a513-b3d8d2c6dc0f",
   "metadata": {},
   "source": [
    "Before dealing with features having missing value more than 5% let's first visualize the distribution of city_development_index and training_hours to decide which method to use for the detection and removal of outliers. "
   ]
  },
  {
   "cell_type": "markdown",
   "id": "b1bd4062-0150-40b4-927c-9b3c9616eb83",
   "metadata": {
    "tags": []
   },
   "source": [
    "## Detection and removal of outliers"
   ]
  },
  {
   "cell_type": "code",
   "execution_count": null,
   "id": "4e8352ab-adfd-4b7f-9ab9-564121156fd3",
   "metadata": {},
   "outputs": [],
   "source": [
    "fig,ax = plt.subplots(1,2,figsize = (15,3.5))\n",
    "\n",
    "sns.kdeplot(df['training_hours'],shade=True,ax = ax[0])\n",
    "ax[0].set(title='Distribution of training_hours')\n",
    "ax[0].axvline(df['training_hours'].mean(),label = 'mean',color = 'red')\n",
    "ax[0].axvline(df['training_hours'].median(),label = 'median',color = 'blue')\n",
    "ax[0].axvline(df['training_hours'].mode().values[0],label = 'mode',color = 'green')\n",
    "ax[0].legend()\n",
    "\n",
    "sns.kdeplot(df['city_development_index'],shade=True,ax = ax[1])\n",
    "ax[1].set(title='Distribution of city development index ')\n",
    "ax[1].axvline(df['city_development_index'].mean(),label = 'mean',color = 'red')\n",
    "ax[1].axvline(df['city_development_index'].median(),label = 'median',color = 'blue')\n",
    "ax[1].axvline(df['city_development_index'].mode().values[0],label = 'mode',color = 'green')\n",
    "ax[1].legend()"
   ]
  },
  {
   "cell_type": "markdown",
   "id": "38fa1c86-b256-4b94-85df-944b3281f970",
   "metadata": {},
   "source": [
    "From the distributions we can clearly see that both the features are skewed. Training_hours feature is right skewed whereas city_development_index feature is left skewed. So we will use IQR method to detect outliers and handle outliers."
   ]
  },
  {
   "cell_type": "code",
   "execution_count": null,
   "id": "ae21f3f6-64e4-447f-a6da-d2f79bf6ad8b",
   "metadata": {},
   "outputs": [],
   "source": [
    "# Create a figure and axes\n",
    "fig, ax = plt.subplots(1, 2, figsize=(18, 3))\n",
    "\n",
    "# Let's visualize the outliers using the boxplots\n",
    "sns.boxplot(x = df['city_development_index'],ax = ax[0]).set(title='Boxplot of city develoment index feature')\n",
    "sns.boxplot(x = df['training_hours'],ax = ax[1]).set(title='Boxplot of training hours feature')\n",
    "\n",
    "# Show the plot\n",
    "plt.show()"
   ]
  },
  {
   "cell_type": "markdown",
   "id": "514a6f3c-55a1-4dbb-b308-782ee261ffaf",
   "metadata": {},
   "source": [
    "Before removing or capping outliers let's create a copy of these features so that after either removing or capping outliers we could visualize the change in the distribution."
   ]
  },
  {
   "cell_type": "code",
   "execution_count": null,
   "id": "a5443023-b9a8-473a-913a-18f8918775f5",
   "metadata": {},
   "outputs": [],
   "source": [
    "remove_outliers = df[['city_development_index','training_hours']].copy()\n",
    "cap_outliers = df[['city_development_index','training_hours']].copy()"
   ]
  },
  {
   "cell_type": "code",
   "execution_count": null,
   "id": "a83aeeea",
   "metadata": {},
   "outputs": [],
   "source": [
    "# Let's create a function for finding Uppper and lower limit\n",
    "def find_limits(series):\n",
    "    q1 = series.quantile(0.25)\n",
    "    q3 = series.quantile(0.75)\n",
    "    IQR = q3-q1\n",
    "    Upper_lmt = q3 + 1.5*IQR\n",
    "    Lower_lmt = q1 - 1.5*IQR\n",
    "    return [Upper_lmt,Lower_lmt]"
   ]
  },
  {
   "cell_type": "code",
   "execution_count": null,
   "id": "31133619-b662-4354-9be0-84235444e9fd",
   "metadata": {},
   "outputs": [],
   "source": [
    "# Calling the function to find the limits\n",
    "lmts_city_dev_index = find_limits(remove_outliers['city_development_index'])\n",
    "lmts_trainng_hrs = find_limits(remove_outliers['training_hours'])"
   ]
  },
  {
   "cell_type": "code",
   "execution_count": null,
   "id": "baa0e6a2-a2f2-4929-8a94-3f47607500a3",
   "metadata": {},
   "outputs": [],
   "source": [
    "# Let's first cap the outliers\n",
    "cap_outliers['city_development_index'] = np.where(\n",
    "                                            cap_outliers['city_development_index']>lmts_city_dev_index[0],lmts_city_dev_index[0],\n",
    "                                            np.where(cap_outliers['city_development_index']<lmts_city_dev_index[1],lmts_city_dev_index[1],\n",
    "                                            cap_outliers['city_development_index']))\n",
    "    \n",
    "cap_outliers['training_hours'] = np.where(\n",
    "                                            cap_outliers['training_hours']>lmts_trainng_hrs[0],lmts_trainng_hrs[0],\n",
    "                                            np.where(cap_outliers['training_hours']<lmts_trainng_hrs[1],lmts_trainng_hrs[1],\n",
    "                                            cap_outliers['training_hours']))"
   ]
  },
  {
   "cell_type": "code",
   "execution_count": null,
   "id": "32caf4a1-1cee-45be-bcb1-264f9ee26b95",
   "metadata": {},
   "outputs": [],
   "source": [
    "# Let's now remove the outliers\n",
    "remove_outliers['city_development_index'] = remove_outliers['city_development_index'][remove_outliers['city_development_index'] > lmts_city_dev_index[1]]\n",
    "remove_outliers['training_hours'] = remove_outliers['training_hours'][remove_outliers['training_hours'] < lmts_trainng_hrs[0]]"
   ]
  },
  {
   "cell_type": "code",
   "execution_count": null,
   "id": "ff5c0336-9ed9-42f0-95d0-5ffb37847b2e",
   "metadata": {},
   "outputs": [],
   "source": [
    "# Now lets visualize the change in the distribution before and after capping the outliers\n",
    "fig,ax = plt.subplots(1,2,figsize = (14,3.5))\n",
    "\n",
    "sns.kdeplot(df['city_development_index'],fill=True,color='red',label='Original',ax = ax[0]).legend(loc='upper center')\n",
    "sns.kdeplot(remove_outliers['city_development_index'],fill=True,color='green',label='After removal',ax = ax[0]).legend(loc='upper center')\n",
    "sns.kdeplot(cap_outliers['city_development_index'],fill=True,color='blue',label='After capping',ax = ax[0]).legend(loc='upper center')\n",
    "\n",
    "sns.kdeplot(df['training_hours'],fill=True,color='red',label='Original',ax = ax[1]).legend(loc='upper center')\n",
    "sns.kdeplot(remove_outliers['training_hours'],fill=True,color='green',label='After removal',ax = ax[1]).legend(loc='upper center')\n",
    "sns.kdeplot(cap_outliers['training_hours'],fill=True,color='blue',label='After capping',ax = ax[1]).legend(loc='upper center')"
   ]
  },
  {
   "cell_type": "markdown",
   "id": "29bdc8ed-6d16-48e3-abfb-44e7162db05e",
   "metadata": {},
   "source": [
    "In training_hours feature becasue of presence of a lot of outliers the distribution is chaning a lot after capping so we will move on with removing the outliers, whereas in city_development_index there is no significant change in distributuion even after removing or capping outliers so we will move on with capping the outliers."
   ]
  },
  {
   "cell_type": "code",
   "execution_count": null,
   "id": "27090f34-79e9-4651-a78f-8309fc9ff612",
   "metadata": {},
   "outputs": [],
   "source": [
    "# Let's cap outiers in city_development_index of original dataframe\n",
    "df['city_development_index'] = np.where(\n",
    "                                        df['city_development_index']>lmts_city_dev_index[0],lmts_city_dev_index[0],\n",
    "                                        np.where(df['city_development_index']<lmts_city_dev_index[1],lmts_city_dev_index[1],\n",
    "                                        df['city_development_index'])\n",
    "                                        )"
   ]
  },
  {
   "cell_type": "code",
   "execution_count": null,
   "id": "7c4fba3a-2993-4049-bfc1-0a9ef00014cc",
   "metadata": {},
   "outputs": [],
   "source": [
    "# Let's remove outliers in training_hours feature of original dataframe\n",
    "df = df[df['training_hours'] < lmts_trainng_hrs[0]]"
   ]
  },
  {
   "cell_type": "code",
   "execution_count": null,
   "id": "c42c0136-9bf3-47cd-8acd-0b3c241cd25c",
   "metadata": {},
   "outputs": [],
   "source": [
    "sns.boxplot(x = df['training_hours'])"
   ]
  },
  {
   "cell_type": "markdown",
   "id": "c9d25345-03b5-4142-92c3-977dc26d9f8d",
   "metadata": {
    "tags": []
   },
   "source": [
    "## Imputing missing values using MICE"
   ]
  },
  {
   "cell_type": "code",
   "execution_count": null,
   "id": "339656d3-c10d-4f81-833d-06e035a97783",
   "metadata": {
    "tags": []
   },
   "outputs": [],
   "source": [
    "# Let's take all those features in which percentage of missing value is more than 5%\n",
    "cols_more5_per = [cols for cols in df.columns if df[cols].isnull().mean()*100 >5]\n",
    "Temp_df = df[cols_more5_per].copy()"
   ]
  },
  {
   "cell_type": "code",
   "execution_count": null,
   "id": "2a7ab522-48e1-4281-bc8d-917769d823be",
   "metadata": {
    "tags": []
   },
   "outputs": [],
   "source": [
    "# Let's do the mode imputation\n",
    "for cols in Temp_df.columns:\n",
    "    Temp_df[cols].fillna(Temp_df[cols].mode()[0],inplace=True)"
   ]
  },
  {
   "cell_type": "code",
   "execution_count": null,
   "id": "4fccde09-9b28-4d0c-9a9c-350cec3c3baa",
   "metadata": {
    "tags": []
   },
   "outputs": [],
   "source": [
    "# Create a dataframe to compare the original and imputed values of 'gender'\n",
    "compare_gender = pd.concat([df['gender'].value_counts(normalize=True), Temp_df['gender'].value_counts(normalize=True)], axis=1)\n",
    "compare_gender.columns = ['Original', 'After Imputation']\n",
    "compare_gender"
   ]
  },
  {
   "cell_type": "markdown",
   "id": "26b321d3-0b00-4240-9de7-93d6f9bf1e57",
   "metadata": {},
   "source": [
    "The ratio of categorical values is changin but for now just to keep gonig we will do mode imputation"
   ]
  },
  {
   "cell_type": "code",
   "execution_count": null,
   "id": "a2833f40-0b6f-4f0e-81a4-d91be5adafbf",
   "metadata": {
    "tags": []
   },
   "outputs": [],
   "source": [
    "# Mode imputtion in the original dataframe\n",
    "for cols in Temp_df.columns:\n",
    "    df[cols].fillna(df[cols].mode()[0],inplace=True)"
   ]
  },
  {
   "cell_type": "markdown",
   "id": "5db2ab3b-6609-4f43-90e6-8459bd8aa959",
   "metadata": {
    "jp-MarkdownHeadingCollapsed": true,
    "tags": []
   },
   "source": [
    "# Understanding data through visualizations\n",
    "\n",
    "1. Does individuals with relevent experience gets more job ?\n",
    "2. Does the individuals with full time enrollment gets more job than part time enrollment or no enrollment at all?\n",
    "3. Individuals with which education level get most jobs ?\n",
    "4. Does individuals with STEM backgroun get more jobs?\n",
    "5. In which company size inidividuals gets more jobs ?\n",
    "6. Which type of company hires the most ?"
   ]
  },
  {
   "cell_type": "code",
   "execution_count": null,
   "id": "535696e7-9f2d-49cc-94ec-50acc9ee1dbe",
   "metadata": {},
   "outputs": [],
   "source": [
    "# Let's create subplots\n",
    "fig,ax = plt.subplots(3,2 ,figsize = (17,16))\n",
    "\n",
    "temp1 = df.groupby('relevent_experience')['target'].sum()\n",
    "temp2 = df.groupby('enrolled_university')['target'].sum()\n",
    "temp3 = df.groupby('education_level')['target'].sum()\n",
    "temp4 = df.groupby('major_discipline')['target'].sum()\n",
    "temp5 = df.groupby('company_size')['target'].sum()\n",
    "temp6 = df.groupby('company_type')['target'].sum()\n",
    "\n",
    "sns.barplot(x = temp1.index,y = temp1,ax = ax[0][0],saturation=2).set(title='Relevent experience Vs Number of jobs')\n",
    "sns.barplot(x = temp2.index,y = temp2,ax = ax[0][1],saturation=2).set(title='Univesity enrollment Vs Number of jobs')\n",
    "sns.barplot(x = temp3.index,y = temp3,ax = ax[1][0],saturation=2).set(title='Education level Vs Number of jobs')\n",
    "sns.barplot(x = temp4.index,y = temp4,ax = ax[1][1],saturation=2).set(title='Major discipline Vs Number of jobs')\n",
    "sns.barplot(x = temp5.index,y = temp5,ax = ax[2][0],saturation=2).set(title='Company Size Vs Number of jobs')\n",
    "sns.barplot(x = temp6.index,y = temp6,ax = ax[2][1],saturation=2).set(title='Company type Vs Number of jobs')"
   ]
  },
  {
   "cell_type": "markdown",
   "id": "132e213a-7cd5-49fc-a52a-fa176de922fe",
   "metadata": {
    "tags": []
   },
   "source": [
    "# Feature engineering\n",
    "\n",
    "- Encode the categorical variables\n",
    "- Feature scaling"
   ]
  },
  {
   "cell_type": "code",
   "execution_count": null,
   "id": "53a6f2d3-ac62-4fa6-91a9-b7b5bca2aa1d",
   "metadata": {
    "tags": []
   },
   "outputs": [],
   "source": [
    "categorical_cols = df.select_dtypes(include='object')\n",
    "categorical_cols.head(5)"
   ]
  },
  {
   "cell_type": "markdown",
   "id": "2f021af4-3953-4a59-9e3b-27e82dbb5482",
   "metadata": {},
   "source": [
    "Out of all the categorical columns : enrolled_university,company_size,relevent_experience and education level are ordinal categorical columns, rest all are nominal categorical columns."
   ]
  },
  {
   "cell_type": "code",
   "execution_count": null,
   "id": "1c5f2786-7d66-466f-802d-12f2758b4141",
   "metadata": {
    "tags": []
   },
   "outputs": [],
   "source": [
    "# Let's do ordinal encoding \n",
    "map_enrolled_uni = {'no_enrollment':1, 'Full time course':3, 'Part time course':2}\n",
    "map_edu_level = {'Graduate':3, 'Masters':4, 'High School':2, 'Phd':5, 'Primary School':1}\n",
    "map_exp = {'Has relevent experience':2,'No relevent experience':1}\n",
    "\n",
    "df['enrolled_university'] = df['enrolled_university'].map(map_enrolled_uni)\n",
    "df['education_level'] = df['education_level'].map(map_edu_level)\n",
    "df['relevent_experience'] = df['education_level'].map(map_exp)"
   ]
  },
  {
   "cell_type": "code",
   "execution_count": null,
   "id": "cf380842-54e1-453e-b9a9-4e26f4669ae6",
   "metadata": {
    "tags": []
   },
   "outputs": [],
   "source": [
    "fig,ax = plt.subplots(figsize=(25,12))\n",
    "sns.heatmap(round(df.corr(numeric_only=True),2), annot=True, cmap='Blues')"
   ]
  },
  {
   "cell_type": "code",
   "execution_count": null,
   "id": "b999a1bb-d73a-4c3a-a09d-a4b0b20b3f56",
   "metadata": {},
   "outputs": [],
   "source": [
    "# Reducing number of features\n"
   ]
  },
  {
   "cell_type": "code",
   "execution_count": null,
   "id": "bf09aa7b-cfb6-4f45-9358-dac36b8eabc9",
   "metadata": {},
   "outputs": [],
   "source": []
  },
  {
   "cell_type": "code",
   "execution_count": null,
   "id": "36eab136-fbba-4d2f-b5e0-beab850ae014",
   "metadata": {},
   "outputs": [],
   "source": [
    "# One hot encoding \n",
    "pd.get_dummies(df,columns = ['gender'],drop_first=True)"
   ]
  },
  {
   "cell_type": "code",
   "execution_count": null,
   "id": "21bf7a68-7ea9-422f-8417-a6e02ee30770",
   "metadata": {},
   "outputs": [],
   "source": []
  },
  {
   "cell_type": "code",
   "execution_count": null,
   "id": "a224a645-cbba-47d1-a738-9e5673c1f27b",
   "metadata": {},
   "outputs": [],
   "source": []
  },
  {
   "cell_type": "code",
   "execution_count": null,
   "id": "0fe55264-7fdc-4bc0-8675-2e87740bbff9",
   "metadata": {},
   "outputs": [],
   "source": []
  },
  {
   "cell_type": "code",
   "execution_count": 51,
   "id": "64ba0cb7-3b75-4a37-b501-4e4218164e38",
   "metadata": {},
   "outputs": [],
   "source": [
    "# Let's create an object of MinMax scaler\n",
    "scaler = MinMaxScaler()"
   ]
  },
  {
   "cell_type": "code",
   "execution_count": 52,
   "id": "5ea18fc4-cdf9-48fa-966e-67bf726ba88f",
   "metadata": {},
   "outputs": [],
   "source": [
    "y = new_df['target']\n",
    "X = new_df.drop(['target'],axis=1)\n",
    "X_train,X_test,y_train,y_test = train_test_split(X,y,test_size=0.3, random_state=42,stratify=y) "
   ]
  },
  {
   "cell_type": "code",
   "execution_count": 53,
   "id": "a0f9fd2f-5e2c-4844-a2d9-9678469bc984",
   "metadata": {},
   "outputs": [],
   "source": [
    "X_train = scaler.fit_transform(X_train)\n",
    "X_test = scaler.transform(X_test)"
   ]
  },
  {
   "cell_type": "markdown",
   "id": "3a12527b-fb77-4881-b571-93b551cda7e8",
   "metadata": {
    "tags": []
   },
   "source": [
    "# Model training "
   ]
  },
  {
   "cell_type": "code",
   "execution_count": 63,
   "id": "73515457-41db-48b4-8816-792fc52d8a47",
   "metadata": {},
   "outputs": [],
   "source": [
    "X_train = pd.DataFrame(X_train)\n",
    "X_train.columns = ['Has relevent experience', 'STEM', 'NGO', 'Public Sector', 'Pvt Ltd',\n",
    "       'city_development_index', 'experience', 'training_hours',\n",
    "       'Enrolled_Uni', 'higher_edu', 'small_comp', 'medium_comp', 'large_comp',\n",
    "       'Startup']"
   ]
  },
  {
   "cell_type": "code",
   "execution_count": 64,
   "id": "54b4f395-e690-4c2c-b970-3fab6726eb3d",
   "metadata": {},
   "outputs": [
    {
     "data": {
      "text/html": [
       "<style>#sk-container-id-2 {color: black;background-color: white;}#sk-container-id-2 pre{padding: 0;}#sk-container-id-2 div.sk-toggleable {background-color: white;}#sk-container-id-2 label.sk-toggleable__label {cursor: pointer;display: block;width: 100%;margin-bottom: 0;padding: 0.3em;box-sizing: border-box;text-align: center;}#sk-container-id-2 label.sk-toggleable__label-arrow:before {content: \"▸\";float: left;margin-right: 0.25em;color: #696969;}#sk-container-id-2 label.sk-toggleable__label-arrow:hover:before {color: black;}#sk-container-id-2 div.sk-estimator:hover label.sk-toggleable__label-arrow:before {color: black;}#sk-container-id-2 div.sk-toggleable__content {max-height: 0;max-width: 0;overflow: hidden;text-align: left;background-color: #f0f8ff;}#sk-container-id-2 div.sk-toggleable__content pre {margin: 0.2em;color: black;border-radius: 0.25em;background-color: #f0f8ff;}#sk-container-id-2 input.sk-toggleable__control:checked~div.sk-toggleable__content {max-height: 200px;max-width: 100%;overflow: auto;}#sk-container-id-2 input.sk-toggleable__control:checked~label.sk-toggleable__label-arrow:before {content: \"▾\";}#sk-container-id-2 div.sk-estimator input.sk-toggleable__control:checked~label.sk-toggleable__label {background-color: #d4ebff;}#sk-container-id-2 div.sk-label input.sk-toggleable__control:checked~label.sk-toggleable__label {background-color: #d4ebff;}#sk-container-id-2 input.sk-hidden--visually {border: 0;clip: rect(1px 1px 1px 1px);clip: rect(1px, 1px, 1px, 1px);height: 1px;margin: -1px;overflow: hidden;padding: 0;position: absolute;width: 1px;}#sk-container-id-2 div.sk-estimator {font-family: monospace;background-color: #f0f8ff;border: 1px dotted black;border-radius: 0.25em;box-sizing: border-box;margin-bottom: 0.5em;}#sk-container-id-2 div.sk-estimator:hover {background-color: #d4ebff;}#sk-container-id-2 div.sk-parallel-item::after {content: \"\";width: 100%;border-bottom: 1px solid gray;flex-grow: 1;}#sk-container-id-2 div.sk-label:hover label.sk-toggleable__label {background-color: #d4ebff;}#sk-container-id-2 div.sk-serial::before {content: \"\";position: absolute;border-left: 1px solid gray;box-sizing: border-box;top: 0;bottom: 0;left: 50%;z-index: 0;}#sk-container-id-2 div.sk-serial {display: flex;flex-direction: column;align-items: center;background-color: white;padding-right: 0.2em;padding-left: 0.2em;position: relative;}#sk-container-id-2 div.sk-item {position: relative;z-index: 1;}#sk-container-id-2 div.sk-parallel {display: flex;align-items: stretch;justify-content: center;background-color: white;position: relative;}#sk-container-id-2 div.sk-item::before, #sk-container-id-2 div.sk-parallel-item::before {content: \"\";position: absolute;border-left: 1px solid gray;box-sizing: border-box;top: 0;bottom: 0;left: 50%;z-index: -1;}#sk-container-id-2 div.sk-parallel-item {display: flex;flex-direction: column;z-index: 1;position: relative;background-color: white;}#sk-container-id-2 div.sk-parallel-item:first-child::after {align-self: flex-end;width: 50%;}#sk-container-id-2 div.sk-parallel-item:last-child::after {align-self: flex-start;width: 50%;}#sk-container-id-2 div.sk-parallel-item:only-child::after {width: 0;}#sk-container-id-2 div.sk-dashed-wrapped {border: 1px dashed gray;margin: 0 0.4em 0.5em 0.4em;box-sizing: border-box;padding-bottom: 0.4em;background-color: white;}#sk-container-id-2 div.sk-label label {font-family: monospace;font-weight: bold;display: inline-block;line-height: 1.2em;}#sk-container-id-2 div.sk-label-container {text-align: center;}#sk-container-id-2 div.sk-container {/* jupyter's `normalize.less` sets `[hidden] { display: none; }` but bootstrap.min.css set `[hidden] { display: none !important; }` so we also need the `!important` here to be able to override the default hidden behavior on the sphinx rendered scikit-learn.org. See: https://github.com/scikit-learn/scikit-learn/issues/21755 */display: inline-block !important;position: relative;}#sk-container-id-2 div.sk-text-repr-fallback {display: none;}</style><div id=\"sk-container-id-2\" class=\"sk-top-container\"><div class=\"sk-text-repr-fallback\"><pre>LogisticRegression()</pre><b>In a Jupyter environment, please rerun this cell to show the HTML representation or trust the notebook. <br />On GitHub, the HTML representation is unable to render, please try loading this page with nbviewer.org.</b></div><div class=\"sk-container\" hidden><div class=\"sk-item\"><div class=\"sk-estimator sk-toggleable\"><input class=\"sk-toggleable__control sk-hidden--visually\" id=\"sk-estimator-id-2\" type=\"checkbox\" checked><label for=\"sk-estimator-id-2\" class=\"sk-toggleable__label sk-toggleable__label-arrow\">LogisticRegression</label><div class=\"sk-toggleable__content\"><pre>LogisticRegression()</pre></div></div></div></div></div>"
      ],
      "text/plain": [
       "LogisticRegression()"
      ]
     },
     "execution_count": 64,
     "metadata": {},
     "output_type": "execute_result"
    }
   ],
   "source": [
    "model = LogisticRegression()\n",
    "model.fit(X_train, y_train)"
   ]
  },
  {
   "cell_type": "code",
   "execution_count": 65,
   "id": "0edee74d-7467-411c-82d6-7b23dd23dd82",
   "metadata": {},
   "outputs": [
    {
     "name": "stderr",
     "output_type": "stream",
     "text": [
      "C:\\Users\\YUVRAJ\\AppData\\Local\\Programs\\Python\\Python310\\lib\\site-packages\\sklearn\\base.py:450: UserWarning: X does not have valid feature names, but LogisticRegression was fitted with feature names\n",
      "  warnings.warn(\n"
     ]
    }
   ],
   "source": [
    "y_pred  =  model.predict(X_test)"
   ]
  },
  {
   "cell_type": "code",
   "execution_count": 71,
   "id": "e4b6a4b0-528f-4707-b99d-82d049769b8f",
   "metadata": {},
   "outputs": [],
   "source": [
    "importances = pd.DataFrame(data={\n",
    "    'Attribute': X_train.columns,\n",
    "    'Importance': model.coef_[0]\n",
    "})\n",
    "importances = importances.sort_values(by='Importance', ascending=False)"
   ]
  },
  {
   "cell_type": "code",
   "execution_count": 72,
   "id": "10a56156-3b94-4ec5-93fa-5fddb43ca317",
   "metadata": {},
   "outputs": [
    {
     "data": {
      "image/png": "[encoded data removed]",
      "text/plain": [
       "<Figure size 432x288 with 1 Axes>"
      ]
     },
     "metadata": {
      "needs_background": "light"
     },
     "output_type": "display_data"
    }
   ],
   "source": [
    "plt.bar(x=importances['Attribute'], height=importances['Importance'], color='#087E8B')\n",
    "plt.title('Feature importances obtained from coefficients', size=20)\n",
    "plt.xticks(rotation='vertical')\n",
    "plt.show()"
   ]
  },
  {
   "cell_type": "code",
   "execution_count": null,
   "id": "fa76dd43-1edf-4022-b9b7-fe5ff26b766e",
   "metadata": {},
   "outputs": [],
   "source": []
  },
  {
   "cell_type": "code",
   "execution_count": null,
   "id": "c5da5cda-793e-4356-9341-7fb531e49143",
   "metadata": {},
   "outputs": [],
   "source": []
  },
  {
   "cell_type": "code",
   "execution_count": 54,
   "id": "c55475f0-fc6e-40cc-b002-eca5871b34cb",
   "metadata": {},
   "outputs": [
    {
     "data": {
      "text/html": [
       "<style>#sk-container-id-1 {color: black;background-color: white;}#sk-container-id-1 pre{padding: 0;}#sk-container-id-1 div.sk-toggleable {background-color: white;}#sk-container-id-1 label.sk-toggleable__label {cursor: pointer;display: block;width: 100%;margin-bottom: 0;padding: 0.3em;box-sizing: border-box;text-align: center;}#sk-container-id-1 label.sk-toggleable__label-arrow:before {content: \"▸\";float: left;margin-right: 0.25em;color: #696969;}#sk-container-id-1 label.sk-toggleable__label-arrow:hover:before {color: black;}#sk-container-id-1 div.sk-estimator:hover label.sk-toggleable__label-arrow:before {color: black;}#sk-container-id-1 div.sk-toggleable__content {max-height: 0;max-width: 0;overflow: hidden;text-align: left;background-color: #f0f8ff;}#sk-container-id-1 div.sk-toggleable__content pre {margin: 0.2em;color: black;border-radius: 0.25em;background-color: #f0f8ff;}#sk-container-id-1 input.sk-toggleable__control:checked~div.sk-toggleable__content {max-height: 200px;max-width: 100%;overflow: auto;}#sk-container-id-1 input.sk-toggleable__control:checked~label.sk-toggleable__label-arrow:before {content: \"▾\";}#sk-container-id-1 div.sk-estimator input.sk-toggleable__control:checked~label.sk-toggleable__label {background-color: #d4ebff;}#sk-container-id-1 div.sk-label input.sk-toggleable__control:checked~label.sk-toggleable__label {background-color: #d4ebff;}#sk-container-id-1 input.sk-hidden--visually {border: 0;clip: rect(1px 1px 1px 1px);clip: rect(1px, 1px, 1px, 1px);height: 1px;margin: -1px;overflow: hidden;padding: 0;position: absolute;width: 1px;}#sk-container-id-1 div.sk-estimator {font-family: monospace;background-color: #f0f8ff;border: 1px dotted black;border-radius: 0.25em;box-sizing: border-box;margin-bottom: 0.5em;}#sk-container-id-1 div.sk-estimator:hover {background-color: #d4ebff;}#sk-container-id-1 div.sk-parallel-item::after {content: \"\";width: 100%;border-bottom: 1px solid gray;flex-grow: 1;}#sk-container-id-1 div.sk-label:hover label.sk-toggleable__label {background-color: #d4ebff;}#sk-container-id-1 div.sk-serial::before {content: \"\";position: absolute;border-left: 1px solid gray;box-sizing: border-box;top: 0;bottom: 0;left: 50%;z-index: 0;}#sk-container-id-1 div.sk-serial {display: flex;flex-direction: column;align-items: center;background-color: white;padding-right: 0.2em;padding-left: 0.2em;position: relative;}#sk-container-id-1 div.sk-item {position: relative;z-index: 1;}#sk-container-id-1 div.sk-parallel {display: flex;align-items: stretch;justify-content: center;background-color: white;position: relative;}#sk-container-id-1 div.sk-item::before, #sk-container-id-1 div.sk-parallel-item::before {content: \"\";position: absolute;border-left: 1px solid gray;box-sizing: border-box;top: 0;bottom: 0;left: 50%;z-index: -1;}#sk-container-id-1 div.sk-parallel-item {display: flex;flex-direction: column;z-index: 1;position: relative;background-color: white;}#sk-container-id-1 div.sk-parallel-item:first-child::after {align-self: flex-end;width: 50%;}#sk-container-id-1 div.sk-parallel-item:last-child::after {align-self: flex-start;width: 50%;}#sk-container-id-1 div.sk-parallel-item:only-child::after {width: 0;}#sk-container-id-1 div.sk-dashed-wrapped {border: 1px dashed gray;margin: 0 0.4em 0.5em 0.4em;box-sizing: border-box;padding-bottom: 0.4em;background-color: white;}#sk-container-id-1 div.sk-label label {font-family: monospace;font-weight: bold;display: inline-block;line-height: 1.2em;}#sk-container-id-1 div.sk-label-container {text-align: center;}#sk-container-id-1 div.sk-container {/* jupyter's `normalize.less` sets `[hidden] { display: none; }` but bootstrap.min.css set `[hidden] { display: none !important; }` so we also need the `!important` here to be able to override the default hidden behavior on the sphinx rendered scikit-learn.org. See: https://github.com/scikit-learn/scikit-learn/issues/21755 */display: inline-block !important;position: relative;}#sk-container-id-1 div.sk-text-repr-fallback {display: none;}</style><div id=\"sk-container-id-1\" class=\"sk-top-container\"><div class=\"sk-text-repr-fallback\"><pre>GaussianNB()</pre><b>In a Jupyter environment, please rerun this cell to show the HTML representation or trust the notebook. <br />On GitHub, the HTML representation is unable to render, please try loading this page with nbviewer.org.</b></div><div class=\"sk-container\" hidden><div class=\"sk-item\"><div class=\"sk-estimator sk-toggleable\"><input class=\"sk-toggleable__control sk-hidden--visually\" id=\"sk-estimator-id-1\" type=\"checkbox\" checked><label for=\"sk-estimator-id-1\" class=\"sk-toggleable__label sk-toggleable__label-arrow\">GaussianNB</label><div class=\"sk-toggleable__content\"><pre>GaussianNB()</pre></div></div></div></div></div>"
      ],
      "text/plain": [
       "GaussianNB()"
      ]
     },
     "execution_count": 54,
     "metadata": {},
     "output_type": "execute_result"
    }
   ],
   "source": [
    "# Let's create an object of GaussianNB class\n",
    "classifier = GaussianNB()\n",
    "classifier.fit(X_train, y_train)"
   ]
  },
  {
   "cell_type": "code",
   "execution_count": 55,
   "id": "7aa3c7c4-7a2a-49b7-a823-fc84dd0de31c",
   "metadata": {},
   "outputs": [],
   "source": [
    "y_pred  =  classifier.predict(X_test)"
   ]
  },
  {
   "cell_type": "code",
   "execution_count": 56,
   "id": "cd84f875-6eb6-4f6d-baf7-efabdd7c1c34",
   "metadata": {},
   "outputs": [],
   "source": [
    "# Now let's train the model and make predictions\n",
    "lr.fit(X_train,y_train)\n",
    "y_pred = lr.predict(X_test)"
   ]
  },
  {
   "cell_type": "code",
   "execution_count": 57,
   "id": "88631a70-c4e2-416a-9811-b83deb8be9d6",
   "metadata": {},
   "outputs": [],
   "source": [
    "y_pred = np.around(y_pred)\n",
    "y_pred = y_pred.astype(np.int32)"
   ]
  },
  {
   "cell_type": "markdown",
   "id": "59cc2f96-56d5-47a5-9b91-27541dd5802d",
   "metadata": {
    "tags": []
   },
   "source": [
    "# Model evaluation"
   ]
  },
  {
   "cell_type": "code",
   "execution_count": 69,
   "id": "f16b44ed-24b5-4246-bc27-3850f1e709da",
   "metadata": {},
   "outputs": [
    {
     "name": "stdout",
     "output_type": "stream",
     "text": [
      "Accuracy:  0.7693501454898157\n",
      "Precision:  0.6851267244214739\n",
      "Recall:  0.6030378024193548\n",
      "F1 Score:  0.6143691022908293\n"
     ]
    }
   ],
   "source": [
    "# Calculating accuracy\n",
    "accuracy = accuracy_score(y_test, y_pred)\n",
    "print(\"Accuracy: \", accuracy)\n",
    "\n",
    "# Calculating precision\n",
    "precision = precision_score(y_test, y_pred, average='macro')\n",
    "print(\"Precision: \", precision)\n",
    "\n",
    "# Calculating recall\n",
    "recall = recall_score(y_test, y_pred, average='macro')\n",
    "print(\"Recall: \", recall)\n",
    "\n",
    "# Calculating F1 score\n",
    "f1 = f1_score(y_test, y_pred, average='macro')\n",
    "print(\"F1 Score: \", f1)"
   ]
  },
  {
   "cell_type": "code",
   "execution_count": 43,
   "id": "d042b855-af0a-433e-9e77-fb55dec3105e",
   "metadata": {},
   "outputs": [
    {
     "data": {
      "text/plain": [
       "'Resulst with NB\\nAccuracy:  0.7668283220174588\\nPrecision:  0.6805685519692035\\nRecall:  0.5922046370967742\\nF1 Score:  0.6007120579441181\\n'"
      ]
     },
     "execution_count": 43,
     "metadata": {},
     "output_type": "execute_result"
    }
   ],
   "source": [
    "'''Resulst with NB\n",
    "Accuracy:  0.7668283220174588\n",
    "Precision:  0.6805685519692035\n",
    "Recall:  0.5922046370967742\n",
    "F1 Score:  0.6007120579441181\n",
    "''' "
   ]
  }
 ],
 "metadata": {
  "kernelspec": {
   "display_name": "Python 3 (ipykernel)",
   "language": "python",
   "name": "python3"
  },
  "language_info": {
   "codemirror_mode": {
    "name": "ipython",
    "version": 3
   },
   "file_extension": ".py",
   "mimetype": "text/x-python",
   "name": "python",
   "nbconvert_exporter": "python",
   "pygments_lexer": "ipython3",
   "version": "3.11.2"
  }
 },
 "nbformat": 4,
 "nbformat_minor": 5
}
