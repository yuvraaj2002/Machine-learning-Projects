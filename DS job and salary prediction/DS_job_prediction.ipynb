{
 "cells": [
  {
   "cell_type": "markdown",
   "id": "f5e299c7",
   "metadata": {
    "tags": []
   },
   "source": [
    "# Importing dependencies "
   ]
  },
  {
   "cell_type": "code",
   "execution_count": 1,
   "id": "22912a78",
   "metadata": {},
   "outputs": [],
   "source": [
    "import pandas as pd\n",
    "import numpy as np\n",
    "import matplotlib.pyplot as plt\n",
    "plt.style.use('fast')\n",
    "import seaborn as sns\n",
    "from sklearn.model_selection import train_test_split\n",
    "from sklearn.impute import SimpleImputer\n",
    "from sklearn.linear_model import LinearRegression\n",
    "from sklearn.compose import ColumnTransformer\n",
    "from sklearn.pipeline import Pipeline\n",
    "from sklearn.preprocessing import OneHotEncoder, OrdinalEncoder\n",
    "import sklearn\n",
    "from sklearn.experimental import enable_iterative_imputer\n",
    "from sklearn.impute import IterativeImputer\n",
    "from sklearn.naive_bayes import GaussianNB\n",
    "from sklearn.linear_model import LogisticRegression\n",
    "from sklearn.preprocessing import MinMaxScaler\n",
    "from sklearn.metrics import accuracy_score, precision_score, recall_score, f1_score\n",
    "df = pd.read_csv('data_science_job.csv')\n",
    "\n",
    "# Chossing a style ( can see the list using the code : plt.style.available\n",
    "plt.style.use('default')"
   ]
  },
  {
   "cell_type": "markdown",
   "id": "c72f243f",
   "metadata": {
    "tags": []
   },
   "source": [
    "# Introductory EDA"
   ]
  },
  {
   "cell_type": "code",
   "execution_count": 2,
   "id": "4f995c21",
   "metadata": {},
   "outputs": [
    {
     "data": {
      "text/plain": [
       "(19158, 13)"
      ]
     },
     "execution_count": 2,
     "metadata": {},
     "output_type": "execute_result"
    }
   ],
   "source": [
    "# Checking the shape of the dataframe\n",
    "df.shape"
   ]
  },
  {
   "cell_type": "code",
   "execution_count": 3,
   "id": "6c8c6b8a",
   "metadata": {},
   "outputs": [
    {
     "data": {
      "text/html": [
       "<div>\n",
       "<style scoped>\n",
       "    .dataframe tbody tr th:only-of-type {\n",
       "        vertical-align: middle;\n",
       "    }\n",
       "\n",
       "    .dataframe tbody tr th {\n",
       "        vertical-align: top;\n",
       "    }\n",
       "\n",
       "    .dataframe thead th {\n",
       "        text-align: right;\n",
       "    }\n",
       "</style>\n",
       "<table border=\"1\" class=\"dataframe\">\n",
       "  <thead>\n",
       "    <tr style=\"text-align: right;\">\n",
       "      <th></th>\n",
       "      <th>enrollee_id</th>\n",
       "      <th>city</th>\n",
       "      <th>city_development_index</th>\n",
       "      <th>gender</th>\n",
       "      <th>relevent_experience</th>\n",
       "      <th>enrolled_university</th>\n",
       "      <th>education_level</th>\n",
       "      <th>major_discipline</th>\n",
       "      <th>experience</th>\n",
       "      <th>company_size</th>\n",
       "      <th>company_type</th>\n",
       "      <th>training_hours</th>\n",
       "      <th>target</th>\n",
       "    </tr>\n",
       "  </thead>\n",
       "  <tbody>\n",
       "    <tr>\n",
       "      <th>18063</th>\n",
       "      <td>32228</td>\n",
       "      <td>city_103</td>\n",
       "      <td>0.920</td>\n",
       "      <td>Male</td>\n",
       "      <td>Has relevent experience</td>\n",
       "      <td>no_enrollment</td>\n",
       "      <td>Graduate</td>\n",
       "      <td>STEM</td>\n",
       "      <td>20.0</td>\n",
       "      <td>100-500</td>\n",
       "      <td>Funded Startup</td>\n",
       "      <td>54.0</td>\n",
       "      <td>0.0</td>\n",
       "    </tr>\n",
       "    <tr>\n",
       "      <th>11547</th>\n",
       "      <td>28486</td>\n",
       "      <td>city_16</td>\n",
       "      <td>0.910</td>\n",
       "      <td>Male</td>\n",
       "      <td>No relevent experience</td>\n",
       "      <td>NaN</td>\n",
       "      <td>NaN</td>\n",
       "      <td>NaN</td>\n",
       "      <td>3.0</td>\n",
       "      <td>NaN</td>\n",
       "      <td>NaN</td>\n",
       "      <td>84.0</td>\n",
       "      <td>0.0</td>\n",
       "    </tr>\n",
       "    <tr>\n",
       "      <th>1802</th>\n",
       "      <td>16770</td>\n",
       "      <td>city_16</td>\n",
       "      <td>0.910</td>\n",
       "      <td>Female</td>\n",
       "      <td>No relevent experience</td>\n",
       "      <td>no_enrollment</td>\n",
       "      <td>Masters</td>\n",
       "      <td>STEM</td>\n",
       "      <td>3.0</td>\n",
       "      <td>&lt;10</td>\n",
       "      <td>Early Stage Startup</td>\n",
       "      <td>59.0</td>\n",
       "      <td>1.0</td>\n",
       "    </tr>\n",
       "    <tr>\n",
       "      <th>5997</th>\n",
       "      <td>1721</td>\n",
       "      <td>city_21</td>\n",
       "      <td>0.624</td>\n",
       "      <td>Male</td>\n",
       "      <td>Has relevent experience</td>\n",
       "      <td>no_enrollment</td>\n",
       "      <td>Graduate</td>\n",
       "      <td>STEM</td>\n",
       "      <td>3.0</td>\n",
       "      <td>500-999</td>\n",
       "      <td>Pvt Ltd</td>\n",
       "      <td>NaN</td>\n",
       "      <td>1.0</td>\n",
       "    </tr>\n",
       "    <tr>\n",
       "      <th>13484</th>\n",
       "      <td>28726</td>\n",
       "      <td>city_21</td>\n",
       "      <td>0.624</td>\n",
       "      <td>Male</td>\n",
       "      <td>Has relevent experience</td>\n",
       "      <td>no_enrollment</td>\n",
       "      <td>Masters</td>\n",
       "      <td>Other</td>\n",
       "      <td>20.0</td>\n",
       "      <td>NaN</td>\n",
       "      <td>NaN</td>\n",
       "      <td>11.0</td>\n",
       "      <td>0.0</td>\n",
       "    </tr>\n",
       "  </tbody>\n",
       "</table>\n",
       "</div>"
      ],
      "text/plain": [
       "       enrollee_id      city  city_development_index  gender  \\\n",
       "18063        32228  city_103                   0.920    Male   \n",
       "11547        28486   city_16                   0.910    Male   \n",
       "1802         16770   city_16                   0.910  Female   \n",
       "5997          1721   city_21                   0.624    Male   \n",
       "13484        28726   city_21                   0.624    Male   \n",
       "\n",
       "           relevent_experience enrolled_university education_level  \\\n",
       "18063  Has relevent experience       no_enrollment        Graduate   \n",
       "11547   No relevent experience                 NaN             NaN   \n",
       "1802    No relevent experience       no_enrollment         Masters   \n",
       "5997   Has relevent experience       no_enrollment        Graduate   \n",
       "13484  Has relevent experience       no_enrollment         Masters   \n",
       "\n",
       "      major_discipline  experience company_size         company_type  \\\n",
       "18063             STEM        20.0      100-500       Funded Startup   \n",
       "11547              NaN         3.0          NaN                  NaN   \n",
       "1802              STEM         3.0          <10  Early Stage Startup   \n",
       "5997              STEM         3.0      500-999              Pvt Ltd   \n",
       "13484            Other        20.0          NaN                  NaN   \n",
       "\n",
       "       training_hours  target  \n",
       "18063            54.0     0.0  \n",
       "11547            84.0     0.0  \n",
       "1802             59.0     1.0  \n",
       "5997              NaN     1.0  \n",
       "13484            11.0     0.0  "
      ]
     },
     "execution_count": 3,
     "metadata": {},
     "output_type": "execute_result"
    }
   ],
   "source": [
    "# Checking any 5 random rows\n",
    "df.sample(5)"
   ]
  },
  {
   "cell_type": "code",
   "execution_count": 4,
   "id": "41c7ae31",
   "metadata": {},
   "outputs": [
    {
     "name": "stdout",
     "output_type": "stream",
     "text": [
      "<class 'pandas.core.frame.DataFrame'>\n",
      "RangeIndex: 19158 entries, 0 to 19157\n",
      "Data columns (total 13 columns):\n",
      " #   Column                  Non-Null Count  Dtype  \n",
      "---  ------                  --------------  -----  \n",
      " 0   enrollee_id             19158 non-null  int64  \n",
      " 1   city                    19158 non-null  object \n",
      " 2   city_development_index  18679 non-null  float64\n",
      " 3   gender                  14650 non-null  object \n",
      " 4   relevent_experience     19158 non-null  object \n",
      " 5   enrolled_university     18772 non-null  object \n",
      " 6   education_level         18698 non-null  object \n",
      " 7   major_discipline        16345 non-null  object \n",
      " 8   experience              19093 non-null  float64\n",
      " 9   company_size            13220 non-null  object \n",
      " 10  company_type            13018 non-null  object \n",
      " 11  training_hours          18392 non-null  float64\n",
      " 12  target                  19158 non-null  float64\n",
      "dtypes: float64(4), int64(1), object(8)\n",
      "memory usage: 1.9+ MB\n"
     ]
    }
   ],
   "source": [
    "# Checking data type of the features\n",
    "df.info()"
   ]
  },
  {
   "cell_type": "code",
   "execution_count": 5,
   "id": "4a1dcaab",
   "metadata": {},
   "outputs": [
    {
     "name": "stdout",
     "output_type": "stream",
     "text": [
      "<class 'pandas.core.frame.DataFrame'>\n",
      "RangeIndex: 19158 entries, 0 to 19157\n",
      "Data columns (total 13 columns):\n",
      " #   Column                  Non-Null Count  Dtype  \n",
      "---  ------                  --------------  -----  \n",
      " 0   enrollee_id             19158 non-null  int64  \n",
      " 1   city                    19158 non-null  object \n",
      " 2   city_development_index  18679 non-null  float32\n",
      " 3   gender                  14650 non-null  object \n",
      " 4   relevent_experience     19158 non-null  object \n",
      " 5   enrolled_university     18772 non-null  object \n",
      " 6   education_level         18698 non-null  object \n",
      " 7   major_discipline        16345 non-null  object \n",
      " 8   experience              19093 non-null  float32\n",
      " 9   company_size            13220 non-null  object \n",
      " 10  company_type            13018 non-null  object \n",
      " 11  training_hours          18392 non-null  float32\n",
      " 12  target                  19158 non-null  float32\n",
      "dtypes: float32(4), int64(1), object(8)\n",
      "memory usage: 1.6+ MB\n"
     ]
    }
   ],
   "source": [
    "# Optimizing the memory by using appropriate data types\n",
    "df[['target','training_hours','experience','city_development_index']] = df[['target','training_hours','experience','city_development_index']].astype(np.float32)\n",
    "df.info()"
   ]
  },
  {
   "cell_type": "code",
   "execution_count": 6,
   "id": "644fb00f",
   "metadata": {},
   "outputs": [
    {
     "data": {
      "text/html": [
       "<div>\n",
       "<style scoped>\n",
       "    .dataframe tbody tr th:only-of-type {\n",
       "        vertical-align: middle;\n",
       "    }\n",
       "\n",
       "    .dataframe tbody tr th {\n",
       "        vertical-align: top;\n",
       "    }\n",
       "\n",
       "    .dataframe thead th {\n",
       "        text-align: right;\n",
       "    }\n",
       "</style>\n",
       "<table border=\"1\" class=\"dataframe\">\n",
       "  <thead>\n",
       "    <tr style=\"text-align: right;\">\n",
       "      <th></th>\n",
       "      <th>enrollee_id</th>\n",
       "      <th>city_development_index</th>\n",
       "      <th>experience</th>\n",
       "      <th>training_hours</th>\n",
       "      <th>target</th>\n",
       "    </tr>\n",
       "  </thead>\n",
       "  <tbody>\n",
       "    <tr>\n",
       "      <th>count</th>\n",
       "      <td>19158.000000</td>\n",
       "      <td>18679.000000</td>\n",
       "      <td>19093.000000</td>\n",
       "      <td>18392.000000</td>\n",
       "      <td>19158.000000</td>\n",
       "    </tr>\n",
       "    <tr>\n",
       "      <th>mean</th>\n",
       "      <td>16875.358179</td>\n",
       "      <td>0.828951</td>\n",
       "      <td>9.928037</td>\n",
       "      <td>65.185791</td>\n",
       "      <td>0.249348</td>\n",
       "    </tr>\n",
       "    <tr>\n",
       "      <th>std</th>\n",
       "      <td>9616.292592</td>\n",
       "      <td>0.123334</td>\n",
       "      <td>6.505268</td>\n",
       "      <td>59.885624</td>\n",
       "      <td>0.432647</td>\n",
       "    </tr>\n",
       "    <tr>\n",
       "      <th>min</th>\n",
       "      <td>1.000000</td>\n",
       "      <td>0.448000</td>\n",
       "      <td>0.000000</td>\n",
       "      <td>1.000000</td>\n",
       "      <td>0.000000</td>\n",
       "    </tr>\n",
       "    <tr>\n",
       "      <th>25%</th>\n",
       "      <td>8554.250000</td>\n",
       "      <td>0.740000</td>\n",
       "      <td>4.000000</td>\n",
       "      <td>23.000000</td>\n",
       "      <td>0.000000</td>\n",
       "    </tr>\n",
       "    <tr>\n",
       "      <th>50%</th>\n",
       "      <td>16982.500000</td>\n",
       "      <td>0.903000</td>\n",
       "      <td>9.000000</td>\n",
       "      <td>47.000000</td>\n",
       "      <td>0.000000</td>\n",
       "    </tr>\n",
       "    <tr>\n",
       "      <th>75%</th>\n",
       "      <td>25169.750000</td>\n",
       "      <td>0.920000</td>\n",
       "      <td>16.000000</td>\n",
       "      <td>88.000000</td>\n",
       "      <td>0.000000</td>\n",
       "    </tr>\n",
       "    <tr>\n",
       "      <th>max</th>\n",
       "      <td>33380.000000</td>\n",
       "      <td>0.949000</td>\n",
       "      <td>20.000000</td>\n",
       "      <td>336.000000</td>\n",
       "      <td>1.000000</td>\n",
       "    </tr>\n",
       "  </tbody>\n",
       "</table>\n",
       "</div>"
      ],
      "text/plain": [
       "        enrollee_id  city_development_index    experience  training_hours  \\\n",
       "count  19158.000000            18679.000000  19093.000000    18392.000000   \n",
       "mean   16875.358179                0.828951      9.928037       65.185791   \n",
       "std     9616.292592                0.123334      6.505268       59.885624   \n",
       "min        1.000000                0.448000      0.000000        1.000000   \n",
       "25%     8554.250000                0.740000      4.000000       23.000000   \n",
       "50%    16982.500000                0.903000      9.000000       47.000000   \n",
       "75%    25169.750000                0.920000     16.000000       88.000000   \n",
       "max    33380.000000                0.949000     20.000000      336.000000   \n",
       "\n",
       "             target  \n",
       "count  19158.000000  \n",
       "mean       0.249348  \n",
       "std        0.432647  \n",
       "min        0.000000  \n",
       "25%        0.000000  \n",
       "50%        0.000000  \n",
       "75%        0.000000  \n",
       "max        1.000000  "
      ]
     },
     "execution_count": 6,
     "metadata": {},
     "output_type": "execute_result"
    }
   ],
   "source": [
    "# Descriptive information about the data\n",
    "df.describe()"
   ]
  },
  {
   "cell_type": "code",
   "execution_count": 7,
   "id": "f040cd0d",
   "metadata": {},
   "outputs": [
    {
     "data": {
      "text/plain": [
       "enrollee_id                0.000000\n",
       "city                       0.000000\n",
       "city_development_index     2.500261\n",
       "gender                    23.530640\n",
       "relevent_experience        0.000000\n",
       "enrolled_university        2.014824\n",
       "education_level            2.401086\n",
       "major_discipline          14.683161\n",
       "experience                 0.339284\n",
       "company_size              30.994885\n",
       "company_type              32.049274\n",
       "training_hours             3.998330\n",
       "target                     0.000000\n",
       "dtype: float64"
      ]
     },
     "execution_count": 7,
     "metadata": {},
     "output_type": "execute_result"
    }
   ],
   "source": [
    "# Checking percentage of null values\n",
    "df.isnull().mean()*100"
   ]
  },
  {
   "cell_type": "code",
   "execution_count": 8,
   "id": "da7a7cc1",
   "metadata": {},
   "outputs": [
    {
     "data": {
      "text/plain": [
       "0"
      ]
     },
     "execution_count": 8,
     "metadata": {},
     "output_type": "execute_result"
    }
   ],
   "source": [
    "# Checking duplicated values\n",
    "df.duplicated().sum()"
   ]
  },
  {
   "cell_type": "code",
   "execution_count": 9,
   "id": "5cda9ba2",
   "metadata": {},
   "outputs": [
    {
     "data": {
      "text/plain": [
       "<AxesSubplot:ylabel='target'>"
      ]
     },
     "execution_count": 9,
     "metadata": {},
     "output_type": "execute_result"
    },
    {
     "data": {
      "image/png": "[encoded data removed]",
      "text/plain": [
       "<Figure size 432x288 with 1 Axes>"
      ]
     },
     "metadata": {},
     "output_type": "display_data"
    }
   ],
   "source": [
    "# Let's visualize distribution of the classes in the target variable\n",
    "ex = (0,0.2)\n",
    "df['target'].value_counts().plot(kind='pie',autopct='%.2f',explode= ex)"
   ]
  },
  {
   "cell_type": "markdown",
   "id": "6fe570cb",
   "metadata": {
    "tags": []
   },
   "source": [
    "# Data Cleaning\n",
    "\n",
    "In this step we will be handling the missing values,outliers and will also work on dealing with imbalanced data\n"
   ]
  },
  {
   "cell_type": "code",
   "execution_count": 10,
   "id": "9c418e9e",
   "metadata": {},
   "outputs": [
    {
     "data": {
      "text/html": [
       "<div>\n",
       "<style scoped>\n",
       "    .dataframe tbody tr th:only-of-type {\n",
       "        vertical-align: middle;\n",
       "    }\n",
       "\n",
       "    .dataframe tbody tr th {\n",
       "        vertical-align: top;\n",
       "    }\n",
       "\n",
       "    .dataframe thead th {\n",
       "        text-align: right;\n",
       "    }\n",
       "</style>\n",
       "<table border=\"1\" class=\"dataframe\">\n",
       "  <thead>\n",
       "    <tr style=\"text-align: right;\">\n",
       "      <th></th>\n",
       "      <th>city_development_index</th>\n",
       "      <th>gender</th>\n",
       "      <th>relevent_experience</th>\n",
       "      <th>enrolled_university</th>\n",
       "      <th>education_level</th>\n",
       "      <th>major_discipline</th>\n",
       "      <th>experience</th>\n",
       "      <th>company_size</th>\n",
       "      <th>company_type</th>\n",
       "      <th>training_hours</th>\n",
       "      <th>target</th>\n",
       "    </tr>\n",
       "  </thead>\n",
       "  <tbody>\n",
       "    <tr>\n",
       "      <th>0</th>\n",
       "      <td>0.920</td>\n",
       "      <td>Male</td>\n",
       "      <td>Has relevent experience</td>\n",
       "      <td>no_enrollment</td>\n",
       "      <td>Graduate</td>\n",
       "      <td>STEM</td>\n",
       "      <td>20.0</td>\n",
       "      <td>NaN</td>\n",
       "      <td>NaN</td>\n",
       "      <td>36.0</td>\n",
       "      <td>1.0</td>\n",
       "    </tr>\n",
       "    <tr>\n",
       "      <th>1</th>\n",
       "      <td>0.776</td>\n",
       "      <td>Male</td>\n",
       "      <td>No relevent experience</td>\n",
       "      <td>no_enrollment</td>\n",
       "      <td>Graduate</td>\n",
       "      <td>STEM</td>\n",
       "      <td>15.0</td>\n",
       "      <td>50-99</td>\n",
       "      <td>Pvt Ltd</td>\n",
       "      <td>47.0</td>\n",
       "      <td>0.0</td>\n",
       "    </tr>\n",
       "    <tr>\n",
       "      <th>2</th>\n",
       "      <td>0.624</td>\n",
       "      <td>NaN</td>\n",
       "      <td>No relevent experience</td>\n",
       "      <td>Full time course</td>\n",
       "      <td>Graduate</td>\n",
       "      <td>STEM</td>\n",
       "      <td>5.0</td>\n",
       "      <td>NaN</td>\n",
       "      <td>NaN</td>\n",
       "      <td>83.0</td>\n",
       "      <td>0.0</td>\n",
       "    </tr>\n",
       "  </tbody>\n",
       "</table>\n",
       "</div>"
      ],
      "text/plain": [
       "   city_development_index gender      relevent_experience enrolled_university  \\\n",
       "0                   0.920   Male  Has relevent experience       no_enrollment   \n",
       "1                   0.776   Male   No relevent experience       no_enrollment   \n",
       "2                   0.624    NaN   No relevent experience    Full time course   \n",
       "\n",
       "  education_level major_discipline  experience company_size company_type  \\\n",
       "0        Graduate             STEM        20.0          NaN          NaN   \n",
       "1        Graduate             STEM        15.0        50-99      Pvt Ltd   \n",
       "2        Graduate             STEM         5.0          NaN          NaN   \n",
       "\n",
       "   training_hours  target  \n",
       "0            36.0     1.0  \n",
       "1            47.0     0.0  \n",
       "2            83.0     0.0  "
      ]
     },
     "execution_count": 10,
     "metadata": {},
     "output_type": "execute_result"
    }
   ],
   "source": [
    "# Dropping the unnecessary columns from the dataframe\n",
    "df = df.drop(['enrollee_id','city'],axis=1)\n",
    "df.head(3)"
   ]
  },
  {
   "cell_type": "code",
   "execution_count": 11,
   "id": "920f10f4",
   "metadata": {},
   "outputs": [
    {
     "data": {
      "text/html": [
       "<div>\n",
       "<style scoped>\n",
       "    .dataframe tbody tr th:only-of-type {\n",
       "        vertical-align: middle;\n",
       "    }\n",
       "\n",
       "    .dataframe tbody tr th {\n",
       "        vertical-align: top;\n",
       "    }\n",
       "\n",
       "    .dataframe thead th {\n",
       "        text-align: right;\n",
       "    }\n",
       "</style>\n",
       "<table border=\"1\" class=\"dataframe\">\n",
       "  <thead>\n",
       "    <tr style=\"text-align: right;\">\n",
       "      <th></th>\n",
       "      <th>city_development_index</th>\n",
       "      <th>enrolled_university</th>\n",
       "      <th>education_level</th>\n",
       "      <th>experience</th>\n",
       "      <th>training_hours</th>\n",
       "    </tr>\n",
       "  </thead>\n",
       "  <tbody>\n",
       "    <tr>\n",
       "      <th>0</th>\n",
       "      <td>0.920</td>\n",
       "      <td>no_enrollment</td>\n",
       "      <td>Graduate</td>\n",
       "      <td>20.0</td>\n",
       "      <td>36.0</td>\n",
       "    </tr>\n",
       "    <tr>\n",
       "      <th>1</th>\n",
       "      <td>0.776</td>\n",
       "      <td>no_enrollment</td>\n",
       "      <td>Graduate</td>\n",
       "      <td>15.0</td>\n",
       "      <td>47.0</td>\n",
       "    </tr>\n",
       "    <tr>\n",
       "      <th>2</th>\n",
       "      <td>0.624</td>\n",
       "      <td>Full time course</td>\n",
       "      <td>Graduate</td>\n",
       "      <td>5.0</td>\n",
       "      <td>83.0</td>\n",
       "    </tr>\n",
       "    <tr>\n",
       "      <th>3</th>\n",
       "      <td>0.789</td>\n",
       "      <td>NaN</td>\n",
       "      <td>Graduate</td>\n",
       "      <td>0.0</td>\n",
       "      <td>52.0</td>\n",
       "    </tr>\n",
       "    <tr>\n",
       "      <th>4</th>\n",
       "      <td>0.767</td>\n",
       "      <td>no_enrollment</td>\n",
       "      <td>Masters</td>\n",
       "      <td>20.0</td>\n",
       "      <td>8.0</td>\n",
       "    </tr>\n",
       "  </tbody>\n",
       "</table>\n",
       "</div>"
      ],
      "text/plain": [
       "   city_development_index enrolled_university education_level  experience  \\\n",
       "0                   0.920       no_enrollment        Graduate        20.0   \n",
       "1                   0.776       no_enrollment        Graduate        15.0   \n",
       "2                   0.624    Full time course        Graduate         5.0   \n",
       "3                   0.789                 NaN        Graduate         0.0   \n",
       "4                   0.767       no_enrollment         Masters        20.0   \n",
       "\n",
       "   training_hours  \n",
       "0            36.0  \n",
       "1            47.0  \n",
       "2            83.0  \n",
       "3            52.0  \n",
       "4             8.0  "
      ]
     },
     "execution_count": 11,
     "metadata": {},
     "output_type": "execute_result"
    }
   ],
   "source": [
    "# Let's take out features having missing value percentage less than 5% to check if we should apply CCA or not\n",
    "check_cca = [col for col in df.columns if df[col].isnull().mean()*100 <5 and df[col].isnull().mean()*100>0]\n",
    "check = df[check_cca].copy()\n",
    "check.head(5)"
   ]
  },
  {
   "cell_type": "code",
   "execution_count": 12,
   "id": "5ff4a319-51a1-47db-86c8-e624087d048a",
   "metadata": {},
   "outputs": [],
   "source": [
    "# Dropping all the rows having column values as NaN\n",
    "check.dropna(inplace=True)"
   ]
  },
  {
   "cell_type": "code",
   "execution_count": 13,
   "id": "00a07cd2",
   "metadata": {},
   "outputs": [
    {
     "data": {
      "text/plain": [
       "[Text(0.5, 1.0, 'Distribution of training hours feature (Before/After)')]"
      ]
     },
     "execution_count": 13,
     "metadata": {},
     "output_type": "execute_result"
    },
    {
     "data": {
      "image/png": "[encoded data removed]",
      "text/plain": [
       "<Figure size 1224x360 with 3 Axes>"
      ]
     },
     "metadata": {
      "needs_background": "light"
     },
     "output_type": "display_data"
    }
   ],
   "source": [
    "# Now let's visualize the distributions before and after implemnting CCA on numerical features\n",
    "fig, ax = plt.subplots(1, 3, figsize=(17, 5))\n",
    "\n",
    "sns.kdeplot(df['city_development_index'], shade=True,ax=ax[0], color='green', label='df')\n",
    "sns.kdeplot(check['city_development_index'], shade=True,ax=ax[0], label='check')\n",
    "ax[0].legend(loc='upper center')\n",
    "ax[0].set(title='Distribution of City development index feature (Before/After)')\n",
    "\n",
    "sns.kdeplot(df['experience'], shade=True,ax=ax[1], color='blue', label='df')\n",
    "sns.kdeplot(check['experience'], shade=True,ax=ax[1], label='check')\n",
    "ax[1].legend(loc='upper center')\n",
    "ax[1].set(title='Distribution of Experience feature (Before/After)')\n",
    "\n",
    "sns.kdeplot(df['training_hours'], shade=True,ax=ax[2], color='red', label='df')\n",
    "sns.kdeplot(check['training_hours'], shade=True,ax=ax[2], label='check')\n",
    "ax[2].legend(loc='upper center')\n",
    "ax[2].set(title='Distribution of training hours feature (Before/After)')"
   ]
  },
  {
   "cell_type": "markdown",
   "id": "171f4be2",
   "metadata": {},
   "source": [
    "For the categorical columns we will check the ratio of categories before and after applying PCA"
   ]
  },
  {
   "cell_type": "code",
   "execution_count": 14,
   "id": "45818bc7",
   "metadata": {
    "scrolled": true
   },
   "outputs": [
    {
     "data": {
      "text/html": [
       "<div>\n",
       "<style scoped>\n",
       "    .dataframe tbody tr th:only-of-type {\n",
       "        vertical-align: middle;\n",
       "    }\n",
       "\n",
       "    .dataframe tbody tr th {\n",
       "        vertical-align: top;\n",
       "    }\n",
       "\n",
       "    .dataframe thead th {\n",
       "        text-align: right;\n",
       "    }\n",
       "</style>\n",
       "<table border=\"1\" class=\"dataframe\">\n",
       "  <thead>\n",
       "    <tr style=\"text-align: right;\">\n",
       "      <th></th>\n",
       "      <th>original</th>\n",
       "      <th>aftercca</th>\n",
       "    </tr>\n",
       "  </thead>\n",
       "  <tbody>\n",
       "    <tr>\n",
       "      <th>no_enrollment</th>\n",
       "      <td>0.721213</td>\n",
       "      <td>0.735188</td>\n",
       "    </tr>\n",
       "    <tr>\n",
       "      <th>Full time course</th>\n",
       "      <td>0.196106</td>\n",
       "      <td>0.200733</td>\n",
       "    </tr>\n",
       "    <tr>\n",
       "      <th>Part time course</th>\n",
       "      <td>0.062533</td>\n",
       "      <td>0.064079</td>\n",
       "    </tr>\n",
       "  </tbody>\n",
       "</table>\n",
       "</div>"
      ],
      "text/plain": [
       "                  original  aftercca\n",
       "no_enrollment     0.721213  0.735188\n",
       "Full time course  0.196106  0.200733\n",
       "Part time course  0.062533  0.064079"
      ]
     },
     "execution_count": 14,
     "metadata": {},
     "output_type": "execute_result"
    }
   ],
   "source": [
    "# For the categorical features we will check the ratio of classes before and after implementing CCA\n",
    "compare_eu = pd.concat([df['enrolled_university'].value_counts() / len(df),\n",
    "                    check['enrolled_university'].value_counts() / len(check)],axis=1)\n",
    "\n",
    "compare_eu.columns = ['original','aftercca']\n",
    "compare_eu"
   ]
  },
  {
   "cell_type": "code",
   "execution_count": 15,
   "id": "ab92fdc8",
   "metadata": {
    "scrolled": true
   },
   "outputs": [
    {
     "data": {
      "text/html": [
       "<div>\n",
       "<style scoped>\n",
       "    .dataframe tbody tr th:only-of-type {\n",
       "        vertical-align: middle;\n",
       "    }\n",
       "\n",
       "    .dataframe tbody tr th {\n",
       "        vertical-align: top;\n",
       "    }\n",
       "\n",
       "    .dataframe thead th {\n",
       "        text-align: right;\n",
       "    }\n",
       "</style>\n",
       "<table border=\"1\" class=\"dataframe\">\n",
       "  <thead>\n",
       "    <tr style=\"text-align: right;\">\n",
       "      <th></th>\n",
       "      <th>original</th>\n",
       "      <th>aftercca</th>\n",
       "    </tr>\n",
       "  </thead>\n",
       "  <tbody>\n",
       "    <tr>\n",
       "      <th>Graduate</th>\n",
       "      <td>0.605387</td>\n",
       "      <td>0.619835</td>\n",
       "    </tr>\n",
       "    <tr>\n",
       "      <th>Masters</th>\n",
       "      <td>0.227633</td>\n",
       "      <td>0.234082</td>\n",
       "    </tr>\n",
       "    <tr>\n",
       "      <th>High School</th>\n",
       "      <td>0.105282</td>\n",
       "      <td>0.107380</td>\n",
       "    </tr>\n",
       "    <tr>\n",
       "      <th>Phd</th>\n",
       "      <td>0.021610</td>\n",
       "      <td>0.022116</td>\n",
       "    </tr>\n",
       "    <tr>\n",
       "      <th>Primary School</th>\n",
       "      <td>0.016077</td>\n",
       "      <td>0.016587</td>\n",
       "    </tr>\n",
       "  </tbody>\n",
       "</table>\n",
       "</div>"
      ],
      "text/plain": [
       "                original  aftercca\n",
       "Graduate        0.605387  0.619835\n",
       "Masters         0.227633  0.234082\n",
       "High School     0.105282  0.107380\n",
       "Phd             0.021610  0.022116\n",
       "Primary School  0.016077  0.016587"
      ]
     },
     "execution_count": 15,
     "metadata": {},
     "output_type": "execute_result"
    }
   ],
   "source": [
    "edu_level = pd.concat([ df['education_level'].value_counts() / len(df),\n",
    "                     check['education_level'].value_counts() / len(check) ],axis=1)\n",
    "\n",
    "edu_level.columns = ['original','aftercca']\n",
    "edu_level"
   ]
  },
  {
   "cell_type": "markdown",
   "id": "a52e21ca",
   "metadata": {},
   "source": [
    "From the analysis we can safely remove the rows having missing values of columns in which the percentage of missing values is less than 5%"
   ]
  },
  {
   "cell_type": "code",
   "execution_count": 16,
   "id": "0982b07b",
   "metadata": {},
   "outputs": [],
   "source": [
    "df.dropna(subset = ['city_development_index', 'enrolled_university', 'education_level',\n",
    "                   'experience', 'training_hours'],inplace=True)"
   ]
  },
  {
   "cell_type": "code",
   "execution_count": 17,
   "id": "40e2cdad-0345-4518-9de0-7801a3e02999",
   "metadata": {},
   "outputs": [
    {
     "data": {
      "text/plain": [
       "city_development_index       0\n",
       "gender                    3873\n",
       "relevent_experience          0\n",
       "enrolled_university          0\n",
       "education_level              0\n",
       "major_discipline          2153\n",
       "experience                   0\n",
       "company_size              5118\n",
       "company_type              5292\n",
       "training_hours               0\n",
       "target                       0\n",
       "dtype: int64"
      ]
     },
     "execution_count": 17,
     "metadata": {},
     "output_type": "execute_result"
    }
   ],
   "source": [
    "df.isnull().sum()"
   ]
  },
  {
   "cell_type": "markdown",
   "id": "c9d25345-03b5-4142-92c3-977dc26d9f8d",
   "metadata": {
    "tags": []
   },
   "source": [
    "## Imputing missing values using MICE"
   ]
  },
  {
   "cell_type": "code",
   "execution_count": 18,
   "id": "339656d3-c10d-4f81-833d-06e035a97783",
   "metadata": {},
   "outputs": [
    {
     "data": {
      "text/html": [
       "<div>\n",
       "<style scoped>\n",
       "    .dataframe tbody tr th:only-of-type {\n",
       "        vertical-align: middle;\n",
       "    }\n",
       "\n",
       "    .dataframe tbody tr th {\n",
       "        vertical-align: top;\n",
       "    }\n",
       "\n",
       "    .dataframe thead th {\n",
       "        text-align: right;\n",
       "    }\n",
       "</style>\n",
       "<table border=\"1\" class=\"dataframe\">\n",
       "  <thead>\n",
       "    <tr style=\"text-align: right;\">\n",
       "      <th></th>\n",
       "      <th>gender</th>\n",
       "      <th>major_discipline</th>\n",
       "      <th>company_size</th>\n",
       "      <th>company_type</th>\n",
       "    </tr>\n",
       "  </thead>\n",
       "  <tbody>\n",
       "    <tr>\n",
       "      <th>0</th>\n",
       "      <td>Male</td>\n",
       "      <td>STEM</td>\n",
       "      <td>NaN</td>\n",
       "      <td>NaN</td>\n",
       "    </tr>\n",
       "    <tr>\n",
       "      <th>1</th>\n",
       "      <td>Male</td>\n",
       "      <td>STEM</td>\n",
       "      <td>50-99</td>\n",
       "      <td>Pvt Ltd</td>\n",
       "    </tr>\n",
       "    <tr>\n",
       "      <th>2</th>\n",
       "      <td>NaN</td>\n",
       "      <td>STEM</td>\n",
       "      <td>NaN</td>\n",
       "      <td>NaN</td>\n",
       "    </tr>\n",
       "    <tr>\n",
       "      <th>4</th>\n",
       "      <td>Male</td>\n",
       "      <td>STEM</td>\n",
       "      <td>50-99</td>\n",
       "      <td>Funded Startup</td>\n",
       "    </tr>\n",
       "  </tbody>\n",
       "</table>\n",
       "</div>"
      ],
      "text/plain": [
       "  gender major_discipline company_size    company_type\n",
       "0   Male             STEM          NaN             NaN\n",
       "1   Male             STEM        50-99         Pvt Ltd\n",
       "2    NaN             STEM          NaN             NaN\n",
       "4   Male             STEM        50-99  Funded Startup"
      ]
     },
     "execution_count": 18,
     "metadata": {},
     "output_type": "execute_result"
    }
   ],
   "source": [
    "# Let's take all those features in which percentage of missing value is more than 5%\n",
    "check_cols = [cols for cols in df.columns if df[cols].isnull().mean()*100 >5]\n",
    "df[check_cols].head(4)"
   ]
  },
  {
   "cell_type": "code",
   "execution_count": 19,
   "id": "897d3453-0d6f-43c3-9db7-6321b2b1a28f",
   "metadata": {},
   "outputs": [],
   "source": [
    "\"\"\"\n",
    "    For encoding these features we will use MICE : Multiple imputation by chanied equation but before we need to encode these \n",
    "    features by treating them as ordinal categorical data even though the features are nominal and we need to do this for implmenting\n",
    "    MICE because with OHE the dataset will become sparse.\n",
    "\"\"\"\n",
    "map_gender = {'Male':0,'Female':1,'Other':2}\n",
    "map_disciline = {'STEM':5,'Humanities':4,'Other':3,'Business Degree':2,'Arts':1,'No Major':0}\n",
    "map_comp_size = {'<10':0,'10/49':1,'50-99':2,'100-500':3,'500-999':4,'1000-4999':5,'5000-9999':6,'10000+':7 }\n",
    "map_comp_type = {'Other':0,'NGO':1,'Early Stage Startup':2,'Public Sector':3,'Funded Startup':4,'Pvt Ltd':5}\n",
    "\n",
    "df['gender'] = df['gender'].map(map_gender)\n",
    "df['major_discipline'] = df['major_discipline'].map(map_disciline)\n",
    "df['company_size'] = df['company_size'].map(map_comp_size)\n",
    "df['company_type'] = df['company_type'].map(map_comp_type)"
   ]
  },
  {
   "cell_type": "code",
   "execution_count": 20,
   "id": "e70de6c5-f388-4035-9816-fcc8aa4dd621",
   "metadata": {},
   "outputs": [],
   "source": [
    "# Now we will be using MICE for imputing the missing values in company_size variable\n",
    "lr = LinearRegression()\n",
    "imp = IterativeImputer(estimator=lr, verbose=2, max_iter=30, tol=1e-10, imputation_order='roman')"
   ]
  },
  {
   "cell_type": "code",
   "execution_count": 21,
   "id": "606e3b49-d3c5-4b5b-8b49-18f1bbf4f145",
   "metadata": {},
   "outputs": [
    {
     "name": "stdout",
     "output_type": "stream",
     "text": [
      "[IterativeImputer] Completing matrix with shape (17182, 4)\n",
      "[IterativeImputer] Ending imputation round 1/30, elapsed time 0.02\n",
      "[IterativeImputer] Change: 1.2012693158805454, scaled tolerance: 7.000000000000001e-10 \n",
      "[IterativeImputer] Ending imputation round 2/30, elapsed time 0.03\n",
      "[IterativeImputer] Change: 0.1536328134805638, scaled tolerance: 7.000000000000001e-10 \n",
      "[IterativeImputer] Ending imputation round 3/30, elapsed time 0.05\n",
      "[IterativeImputer] Change: 0.029807377562425685, scaled tolerance: 7.000000000000001e-10 \n",
      "[IterativeImputer] Ending imputation round 4/30, elapsed time 0.06\n",
      "[IterativeImputer] Change: 0.005767774600674347, scaled tolerance: 7.000000000000001e-10 \n",
      "[IterativeImputer] Ending imputation round 5/30, elapsed time 0.08\n",
      "[IterativeImputer] Change: 0.0010324150229594764, scaled tolerance: 7.000000000000001e-10 \n",
      "[IterativeImputer] Ending imputation round 6/30, elapsed time 0.10\n",
      "[IterativeImputer] Change: 0.00017544954628068155, scaled tolerance: 7.000000000000001e-10 \n",
      "[IterativeImputer] Ending imputation round 7/30, elapsed time 0.11\n",
      "[IterativeImputer] Change: 2.882913811985688e-05, scaled tolerance: 7.000000000000001e-10 \n",
      "[IterativeImputer] Ending imputation round 8/30, elapsed time 0.12\n",
      "[IterativeImputer] Change: 4.629892655483303e-06, scaled tolerance: 7.000000000000001e-10 \n",
      "[IterativeImputer] Ending imputation round 9/30, elapsed time 0.13\n",
      "[IterativeImputer] Change: 7.316192398576504e-07, scaled tolerance: 7.000000000000001e-10 \n",
      "[IterativeImputer] Ending imputation round 10/30, elapsed time 0.14\n",
      "[IterativeImputer] Change: 1.1425715262802782e-07, scaled tolerance: 7.000000000000001e-10 \n",
      "[IterativeImputer] Ending imputation round 11/30, elapsed time 0.16\n",
      "[IterativeImputer] Change: 1.768770241383777e-08, scaled tolerance: 7.000000000000001e-10 \n",
      "[IterativeImputer] Ending imputation round 12/30, elapsed time 0.17\n",
      "[IterativeImputer] Change: 2.7199931196264515e-09, scaled tolerance: 7.000000000000001e-10 \n",
      "[IterativeImputer] Ending imputation round 13/30, elapsed time 0.18\n",
      "[IterativeImputer] Change: 4.1615377810444443e-10, scaled tolerance: 7.000000000000001e-10 \n",
      "[IterativeImputer] Early stopping criterion reached.\n"
     ]
    }
   ],
   "source": [
    "cols = ['gender','major_discipline','company_size','company_type']\n",
    "df[cols] = imp.fit_transform(df[cols])\n",
    "df[cols] = round(df[cols])"
   ]
  },
  {
   "cell_type": "code",
   "execution_count": 22,
   "id": "aa4bc244-c5fe-41a5-8848-a965e31d0d37",
   "metadata": {},
   "outputs": [],
   "source": [
    "# Now after imputing let's change the values back to category for the analysis and doing one hot encoding\n",
    "map_gender = {0.0:'Male',1.0:'Female',2.0:'Other'}\n",
    "map_disciline = {5.0:'STEM',4.0:'Humanities',3.0:'Other',2.0:'Business Degree',1.0:'Arts',0.0:'No Major'}\n",
    "map_comp_size = {0.0:'<10',1.0:'10/49',2.0:'50-99',3.0:'100-500',4.0:'500-999',5.0:'1000-4999',6.0:'5000-9999',7.0:'10000+' }\n",
    "map_comp_type = {0.0:'Other',1.0:'NGO',2.0:'Early Stage Startup',3.0:'Public Sector',4.0:'Funded Startup',5.0:'Pvt Ltd'}\n",
    "\n",
    "df['gender'] = df['gender'].map(map_gender)\n",
    "df['major_discipline'] = df['major_discipline'].map(map_disciline)\n",
    "df['company_size'] = df['company_size'].map(map_comp_size)\n",
    "df['company_type'] = df['company_type'].map(map_comp_type)"
   ]
  },
  {
   "cell_type": "code",
   "execution_count": 23,
   "id": "b2f4ae70-cc9f-4e31-a0e5-43a1dbb2d1af",
   "metadata": {},
   "outputs": [
    {
     "name": "stdout",
     "output_type": "stream",
     "text": [
      "<class 'pandas.core.frame.DataFrame'>\n",
      "Int64Index: 17182 entries, 0 to 19157\n",
      "Data columns (total 11 columns):\n",
      " #   Column                  Non-Null Count  Dtype  \n",
      "---  ------                  --------------  -----  \n",
      " 0   city_development_index  17182 non-null  float32\n",
      " 1   gender                  17182 non-null  object \n",
      " 2   relevent_experience     17182 non-null  object \n",
      " 3   enrolled_university     17182 non-null  object \n",
      " 4   education_level         17182 non-null  object \n",
      " 5   major_discipline        17182 non-null  object \n",
      " 6   experience              17182 non-null  float32\n",
      " 7   company_size            17182 non-null  object \n",
      " 8   company_type            17182 non-null  object \n",
      " 9   training_hours          17182 non-null  float32\n",
      " 10  target                  17182 non-null  float32\n",
      "dtypes: float32(4), object(7)\n",
      "memory usage: 1.3+ MB\n"
     ]
    }
   ],
   "source": [
    "df.info()"
   ]
  },
  {
   "cell_type": "markdown",
   "id": "b1bd4062-0150-40b4-927c-9b3c9616eb83",
   "metadata": {
    "tags": []
   },
   "source": [
    "## Detection and removal of outliers"
   ]
  },
  {
   "cell_type": "code",
   "execution_count": 24,
   "id": "4e8352ab-adfd-4b7f-9ab9-564121156fd3",
   "metadata": {},
   "outputs": [
    {
     "data": {
      "text/plain": [
       "[Text(0.5, 1.0, 'Distribution of city development index ')]"
      ]
     },
     "execution_count": 24,
     "metadata": {},
     "output_type": "execute_result"
    },
    {
     "data": {
      "image/png": "[encoded data removed]",
      "text/plain": [
       "<Figure size 1296x360 with 3 Axes>"
      ]
     },
     "metadata": {
      "needs_background": "light"
     },
     "output_type": "display_data"
    }
   ],
   "source": [
    "fig,ax = plt.subplots(1,3,figsize = (18,5))\n",
    "\n",
    "sns.kdeplot(df['training_hours'],shade=True,ax = ax[0])\n",
    "ax[0].set(title='Distribution of training_hours')\n",
    "\n",
    "sns.kdeplot(df['experience'],shade=True,ax = ax[1])\n",
    "ax[1].set(title='Distribution of experience ')\n",
    "\n",
    "sns.kdeplot(df['city_development_index'],shade=True,ax = ax[2])\n",
    "ax[2].set(title='Distribution of city development index ')"
   ]
  },
  {
   "cell_type": "markdown",
   "id": "38fa1c86-b256-4b94-85df-944b3281f970",
   "metadata": {},
   "source": [
    "From the distributions we can clearly see that all the features are skewed. Training hours and experience are right skewed , whereas city development index distribution is left skewed. So we will use boxplots to detect outliers"
   ]
  },
  {
   "cell_type": "code",
   "execution_count": 25,
   "id": "ae21f3f6-64e4-447f-a6da-d2f79bf6ad8b",
   "metadata": {},
   "outputs": [
    {
     "data": {
      "image/png": "[encoded data removed]",
      "text/plain": [
       "<Figure size 1296x360 with 3 Axes>"
      ]
     },
     "metadata": {
      "needs_background": "light"
     },
     "output_type": "display_data"
    }
   ],
   "source": [
    "# Create a figure and axes\n",
    "fig, ax = plt.subplots(1, 3, figsize=(18, 5))\n",
    "\n",
    "# Plot the first distplot on the first axes\n",
    "sns.boxplot(x = df['city_development_index'],ax = ax[0]).set(title='Boxplot of city develoment index feature')\n",
    "sns.boxplot(x = df['experience'],ax = ax[1]).set(title='Boxplot of experience feature')\n",
    "sns.boxplot(x = df['training_hours'],ax = ax[2]).set(title='Boxplot of training hours feature')\n",
    "\n",
    "# Show the plot\n",
    "plt.show()"
   ]
  },
  {
   "cell_type": "markdown",
   "id": "514a6f3c-55a1-4dbb-b308-782ee261ffaf",
   "metadata": {},
   "source": [
    "Before removing or capping outliers let's create a copy of these features so that after either removing or capping outliers we could visualize the change in the distribution"
   ]
  },
  {
   "cell_type": "code",
   "execution_count": 26,
   "id": "a5443023-b9a8-473a-913a-18f8918775f5",
   "metadata": {},
   "outputs": [],
   "source": [
    "temp_df = df[['city_development_index','experience','training_hours']].copy()"
   ]
  },
  {
   "cell_type": "code",
   "execution_count": 27,
   "id": "a83aeeea",
   "metadata": {},
   "outputs": [
    {
     "data": {
      "text/plain": [
       "<matplotlib.legend.Legend at 0x15048137280>"
      ]
     },
     "execution_count": 27,
     "metadata": {},
     "output_type": "execute_result"
    },
    {
     "data": {
      "image/png": "[encoded data removed]",
      "text/plain": [
       "<Figure size 504x288 with 1 Axes>"
      ]
     },
     "metadata": {
      "needs_background": "light"
     },
     "output_type": "display_data"
    }
   ],
   "source": [
    "# let's do capping of outliers in city_development index feature\n",
    "q1 = temp_df['city_development_index'].quantile(0.25)\n",
    "q3 = temp_df['city_development_index'].quantile(0.75)\n",
    "\n",
    "IQR = q3-q1\n",
    "Lower_lmt_cdi = q1-(1.5*IQR)\n",
    "Upper_lmt_cdi = q3 + (1.5*IQR)\n",
    "\n",
    "temp_df['city_development_index'] = np.where(\n",
    "    temp_df['city_development_index'] > Upper_lmt_cdi,\n",
    "    Upper_lmt_cdi,\n",
    "    np.where(\n",
    "        temp_df['city_development_index'] < Lower_lmt_cdi,\n",
    "        Lower_lmt_cdi,\n",
    "        temp_df['city_development_index']\n",
    "    )\n",
    ")\n",
    "\n",
    "# Now lets visualize the change in the distribution before and after capping the outliers\n",
    "fig,ax = plt.subplots(figsize = (7,4))\n",
    "\n",
    "sns.kdeplot(df['city_development_index'],shade=True,color='red',label='Before').legend(loc='upper center')\n",
    "sns.kdeplot(temp_df['city_development_index'],shade=True,color='green',label='After').legend(loc='upper center')"
   ]
  },
  {
   "cell_type": "markdown",
   "id": "29bdc8ed-6d16-48e3-abfb-44e7162db05e",
   "metadata": {},
   "source": [
    "In training hours feature there are a lot of outliers so we need to compare the distributions both after removing or capping the outliers and then we will decide what to do"
   ]
  },
  {
   "cell_type": "code",
   "execution_count": 28,
   "id": "7c950422-bd89-48fb-b5f0-89cee67a5cc0",
   "metadata": {},
   "outputs": [],
   "source": [
    "q1 = temp_df['training_hours'].quantile(0.25)\n",
    "q3 = temp_df['training_hours'].quantile(0.75)\n",
    "\n",
    "IQR = q3-q1\n",
    "Lower_lmt_th = q1-(1.5*IQR)\n",
    "Upper_lmt_th = q3 + (1.5*IQR)"
   ]
  },
  {
   "cell_type": "code",
   "execution_count": 29,
   "id": "f5eb133f-f9f6-44b4-b35f-bdc80ae6ec63",
   "metadata": {},
   "outputs": [],
   "source": [
    "# Trimming the outliers\n",
    "temp_Df = temp_df.copy()\n",
    "temp_Df = temp_df[temp_df['training_hours'] < Upper_lmt_th]"
   ]
  },
  {
   "cell_type": "code",
   "execution_count": 30,
   "id": "3ffb2b03-042c-4255-9a17-daf1c743b3d6",
   "metadata": {},
   "outputs": [],
   "source": [
    "# Capping the outliers\n",
    "temp_df['training_hours'] = np.where(\n",
    "    temp_df['training_hours'] > Upper_lmt_th,\n",
    "    Upper_lmt_th,\n",
    "    np.where(\n",
    "        temp_df['training_hours'] < Lower_lmt_th,\n",
    "        Lower_lmt_th,\n",
    "        temp_df['training_hours']\n",
    "    )\n",
    ")"
   ]
  },
  {
   "cell_type": "code",
   "execution_count": 31,
   "id": "73b0861b-1ad4-4719-a693-39f728c6b280",
   "metadata": {
    "tags": []
   },
   "outputs": [
    {
     "data": {
      "text/plain": [
       "[Text(0.5, 1.0, 'Distribution comparision before and after Trimming')]"
      ]
     },
     "execution_count": 31,
     "metadata": {},
     "output_type": "execute_result"
    },
    {
     "data": {
      "image/png": "[encoded data removed]",
      "text/plain": [
       "<Figure size 1080x360 with 2 Axes>"
      ]
     },
     "metadata": {
      "needs_background": "light"
     },
     "output_type": "display_data"
    }
   ],
   "source": [
    "# Now lets visualize the change in the distribution before and after capping/trimming the outliers\n",
    "fig,ax = plt.subplots(1,2,figsize = (15,5))\n",
    "\n",
    "# Trimming vs Original distribution\n",
    "sns.kdeplot(df['training_hours'],shade=True,color='red',label='Before',ax = ax[0]).legend(loc='upper center')\n",
    "sns.kdeplot(temp_df['training_hours'],shade=True,color='green',label='After',ax = ax[0]).legend(loc='upper center')\n",
    "ax[0].set(title ='Distribution comparision before and after Capping')\n",
    "\n",
    "# Capping vs original distribution\n",
    "sns.kdeplot(df['training_hours'],shade=True,color='red',label='Before',ax = ax[1]).legend(loc='upper center')\n",
    "sns.kdeplot(temp_Df['training_hours'],shade=True,color='green',label='After',ax = ax[1]).legend(loc='upper center')\n",
    "ax[1].set(title ='Distribution comparision before and after Trimming')"
   ]
  },
  {
   "cell_type": "markdown",
   "id": "fcbd9d65-259c-487c-a264-13283e368d7c",
   "metadata": {},
   "source": [
    "For now let's move on with removing the outliers in the training_hours feature and capping the outliers in the city_development_index feature"
   ]
  },
  {
   "cell_type": "code",
   "execution_count": 32,
   "id": "e15af23e-a946-4609-9289-1cbc51d81cb6",
   "metadata": {},
   "outputs": [],
   "source": [
    "# Capping the outliers\n",
    "df['training_hours'] = np.where(\n",
    "    df['training_hours'] > Upper_lmt_th,\n",
    "    Upper_lmt_th,\n",
    "    np.where(\n",
    "        df['training_hours'] < Lower_lmt_th,\n",
    "        Lower_lmt_th,\n",
    "        df['training_hours']\n",
    "    )\n",
    ")"
   ]
  },
  {
   "cell_type": "code",
   "execution_count": 33,
   "id": "e16e8b00-eb9e-4acb-b0cd-bb747ca75825",
   "metadata": {},
   "outputs": [],
   "source": [
    "# Trimming the outliers\n",
    "# df = df[df['training_hours'] < Upper_lmt_th]\n",
    "# sns.boxplot(x = df['training_hours'])"
   ]
  },
  {
   "cell_type": "code",
   "execution_count": 34,
   "id": "3e83109f-ab0a-449f-8a65-6474ebeb2e18",
   "metadata": {},
   "outputs": [
    {
     "data": {
      "text/plain": [
       "<AxesSubplot:xlabel='training_hours'>"
      ]
     },
     "execution_count": 34,
     "metadata": {},
     "output_type": "execute_result"
    },
    {
     "data": {
      "image/png": "[encoded data removed]",
      "text/plain": [
       "<Figure size 432x288 with 1 Axes>"
      ]
     },
     "metadata": {
      "needs_background": "light"
     },
     "output_type": "display_data"
    }
   ],
   "source": [
    "sns.boxplot(x = df['training_hours'])"
   ]
  },
  {
   "cell_type": "markdown",
   "id": "5db2ab3b-6609-4f43-90e6-8459bd8aa959",
   "metadata": {
    "tags": []
   },
   "source": [
    "# Understanding data through visualizations\n",
    "\n",
    "1. Does individuals with relevent experience gets more job ?\n",
    "2. Does the individuals with full time enrollment gets more job than part time enrollment or no enrollment at all?\n",
    "3. Individuals with which education level get most jobs ?\n",
    "4. Does individuals with STEM backgroun get more jobs?\n",
    "5. In which company size inidividuals gets more jobs ?\n",
    "6. Which type of company hires the most ?"
   ]
  },
  {
   "cell_type": "code",
   "execution_count": 35,
   "id": "535696e7-9f2d-49cc-94ec-50acc9ee1dbe",
   "metadata": {},
   "outputs": [
    {
     "data": {
      "text/plain": [
       "[Text(0.5, 1.0, 'Company type Vs Number of jobs')]"
      ]
     },
     "execution_count": 35,
     "metadata": {},
     "output_type": "execute_result"
    },
    {
     "data": {
      "image/png": "[encoded data removed]",
      "text/plain": [
       "<Figure size 1224x1152 with 6 Axes>"
      ]
     },
     "metadata": {
      "needs_background": "light"
     },
     "output_type": "display_data"
    }
   ],
   "source": [
    "# Let's create subplots\n",
    "fig,ax = plt.subplots(3,2 ,figsize = (17,16))\n",
    "\n",
    "temp1 = df.groupby('relevent_experience')['target'].sum()\n",
    "temp2 = df.groupby('enrolled_university')['target'].sum()\n",
    "temp3 = df.groupby('education_level')['target'].sum()\n",
    "temp4 = df.groupby('major_discipline')['target'].sum()\n",
    "temp5 = df.groupby('company_size')['target'].sum()\n",
    "temp6 = df.groupby('company_type')['target'].sum()\n",
    "\n",
    "sns.barplot(x = temp1.index,y = temp1,ax = ax[0][0],saturation=2).set(title='Relevent experience Vs Number of jobs')\n",
    "sns.barplot(x = temp2.index,y = temp2,ax = ax[0][1],saturation=2).set(title='Univesity enrollment Vs Number of jobs')\n",
    "sns.barplot(x = temp3.index,y = temp3,ax = ax[1][0],saturation=2).set(title='Education level Vs Number of jobs')\n",
    "sns.barplot(x = temp4.index,y = temp4,ax = ax[1][1],saturation=2).set(title='Major discipline Vs Number of jobs')\n",
    "sns.barplot(x = temp5.index,y = temp5,ax = ax[2][0],saturation=2).set(title='Company Size Vs Number of jobs')\n",
    "sns.barplot(x = temp6.index,y = temp6,ax = ax[2][1],saturation=2).set(title='Company type Vs Number of jobs')"
   ]
  },
  {
   "cell_type": "markdown",
   "id": "132e213a-7cd5-49fc-a52a-fa176de922fe",
   "metadata": {
    "tags": []
   },
   "source": [
    "# Data processing before Modeling\n",
    "\n",
    "- Encode the categorical variables"
   ]
  },
  {
   "cell_type": "code",
   "execution_count": 36,
   "id": "53a6f2d3-ac62-4fa6-91a9-b7b5bca2aa1d",
   "metadata": {},
   "outputs": [
    {
     "data": {
      "text/html": [
       "<div>\n",
       "<style scoped>\n",
       "    .dataframe tbody tr th:only-of-type {\n",
       "        vertical-align: middle;\n",
       "    }\n",
       "\n",
       "    .dataframe tbody tr th {\n",
       "        vertical-align: top;\n",
       "    }\n",
       "\n",
       "    .dataframe thead th {\n",
       "        text-align: right;\n",
       "    }\n",
       "</style>\n",
       "<table border=\"1\" class=\"dataframe\">\n",
       "  <thead>\n",
       "    <tr style=\"text-align: right;\">\n",
       "      <th></th>\n",
       "      <th>gender</th>\n",
       "      <th>relevent_experience</th>\n",
       "      <th>enrolled_university</th>\n",
       "      <th>education_level</th>\n",
       "      <th>major_discipline</th>\n",
       "      <th>company_size</th>\n",
       "      <th>company_type</th>\n",
       "    </tr>\n",
       "  </thead>\n",
       "  <tbody>\n",
       "    <tr>\n",
       "      <th>0</th>\n",
       "      <td>Male</td>\n",
       "      <td>Has relevent experience</td>\n",
       "      <td>no_enrollment</td>\n",
       "      <td>Graduate</td>\n",
       "      <td>STEM</td>\n",
       "      <td>100-500</td>\n",
       "      <td>Funded Startup</td>\n",
       "    </tr>\n",
       "    <tr>\n",
       "      <th>1</th>\n",
       "      <td>Male</td>\n",
       "      <td>No relevent experience</td>\n",
       "      <td>no_enrollment</td>\n",
       "      <td>Graduate</td>\n",
       "      <td>STEM</td>\n",
       "      <td>50-99</td>\n",
       "      <td>Pvt Ltd</td>\n",
       "    </tr>\n",
       "    <tr>\n",
       "      <th>2</th>\n",
       "      <td>Male</td>\n",
       "      <td>No relevent experience</td>\n",
       "      <td>Full time course</td>\n",
       "      <td>Graduate</td>\n",
       "      <td>STEM</td>\n",
       "      <td>100-500</td>\n",
       "      <td>Funded Startup</td>\n",
       "    </tr>\n",
       "    <tr>\n",
       "      <th>4</th>\n",
       "      <td>Male</td>\n",
       "      <td>Has relevent experience</td>\n",
       "      <td>no_enrollment</td>\n",
       "      <td>Masters</td>\n",
       "      <td>STEM</td>\n",
       "      <td>50-99</td>\n",
       "      <td>Funded Startup</td>\n",
       "    </tr>\n",
       "    <tr>\n",
       "      <th>5</th>\n",
       "      <td>Male</td>\n",
       "      <td>Has relevent experience</td>\n",
       "      <td>Part time course</td>\n",
       "      <td>Graduate</td>\n",
       "      <td>STEM</td>\n",
       "      <td>100-500</td>\n",
       "      <td>Funded Startup</td>\n",
       "    </tr>\n",
       "  </tbody>\n",
       "</table>\n",
       "</div>"
      ],
      "text/plain": [
       "  gender      relevent_experience enrolled_university education_level  \\\n",
       "0   Male  Has relevent experience       no_enrollment        Graduate   \n",
       "1   Male   No relevent experience       no_enrollment        Graduate   \n",
       "2   Male   No relevent experience    Full time course        Graduate   \n",
       "4   Male  Has relevent experience       no_enrollment         Masters   \n",
       "5   Male  Has relevent experience    Part time course        Graduate   \n",
       "\n",
       "  major_discipline company_size    company_type  \n",
       "0             STEM      100-500  Funded Startup  \n",
       "1             STEM        50-99         Pvt Ltd  \n",
       "2             STEM      100-500  Funded Startup  \n",
       "4             STEM        50-99  Funded Startup  \n",
       "5             STEM      100-500  Funded Startup  "
      ]
     },
     "execution_count": 36,
     "metadata": {},
     "output_type": "execute_result"
    }
   ],
   "source": [
    "categorical_cols = df.select_dtypes(include='object')\n",
    "categorical_cols.head(5)"
   ]
  },
  {
   "cell_type": "code",
   "execution_count": 37,
   "id": "0d7528a5-744c-4b7d-9d35-94e5badfe0da",
   "metadata": {},
   "outputs": [],
   "source": [
    "# Creating 2d numpy array\n",
    "temp_relev_exp = np.array(categorical_cols['relevent_experience']).reshape(-1, 1)\n",
    "temp_enrolled_uni = np.array(categorical_cols['enrolled_university']).reshape(-1, 1)\n",
    "temp_edu_level = np.array(categorical_cols['education_level']).reshape(-1, 1)\n",
    "temp_Gender = np.array(categorical_cols['gender']).reshape(-1, 1)\n",
    "temp_Major_disciline = np.array(categorical_cols['major_discipline']).reshape(-1, 1)\n",
    "temp_company_size = np.array(categorical_cols['company_size']).reshape(-1, 1)\n",
    "temp_Company_Type = np.array(categorical_cols['company_type']).reshape(-1, 1)\n",
    "\n",
    "\n",
    "# Creating objects of OneHotEncoder class\n",
    "encoder1 = OneHotEncoder(sparse=False)\n",
    "encoder2 = OneHotEncoder(sparse=False)\n",
    "encoder3 = OneHotEncoder(sparse=False)\n",
    "encoder4 = OneHotEncoder(sparse=False)\n",
    "encoder5 = OneHotEncoder(sparse=False)\n",
    "encoder6 = OneHotEncoder(sparse=False)\n",
    "encoder7 = OneHotEncoder(sparse=False)\n",
    "\n",
    "# Lets encode the values\n",
    "encoded_relv_evp = encoder1.fit_transform(temp_relev_exp)\n",
    "encoded_enrolled_uni = encoder2.fit_transform(temp_enrolled_uni)\n",
    "encoded_edu_level = encoder3.fit_transform(temp_edu_level)\n",
    "encoded_gender = encoder4.fit_transform(temp_Gender)\n",
    "encoded_Major_disciline = encoder5.fit_transform(temp_Major_disciline)\n",
    "encoded_company_size = encoder6.fit_transform(temp_company_size)\n",
    "encoded_Company_Type = encoder7.fit_transform(temp_Company_Type)"
   ]
  },
  {
   "cell_type": "code",
   "execution_count": 38,
   "id": "a3024e01-7b7f-4bca-b2d7-c63d72c47b5d",
   "metadata": {},
   "outputs": [],
   "source": [
    "# Creating dataframes and adding columns (encoder3.categories_)\n",
    "encoded_relv_evp = pd.DataFrame(encoded_relv_evp)\n",
    "encoded_relv_evp.columns = ['Has relevent experience', 'No relevent experience']\n",
    "\n",
    "encoded_enrolled_uni = pd.DataFrame(encoded_enrolled_uni)\n",
    "encoded_enrolled_uni.columns = ['Full time', 'Part time', 'no_enrollment']\n",
    "\n",
    "encoded_edu_level = pd.DataFrame(encoded_edu_level)\n",
    "encoded_edu_level.columns = ['Graduate', 'High School', 'Masters','Phd','Primary School']\n",
    "\n",
    "encoded_gender = pd.DataFrame(encoded_gender)\n",
    "encoded_gender.columns = ['Female', 'Male', 'Other']\n",
    "\n",
    "encoded_Major_disciline = pd.DataFrame(encoded_Major_disciline)\n",
    "encoded_Major_disciline.columns = ['Arts', 'Business Degree', 'Humanities', 'No Major', 'Other','STEM']\n",
    "\n",
    "encoded_company_size = pd.DataFrame(encoded_company_size)\n",
    "encoded_company_size.columns = ['10/49', '100-500', '1000-4999', '10000+', '50-99','500-999','5000-9999','<10']\n",
    "\n",
    "encoded_Company_Type = pd.DataFrame(encoded_Company_Type)\n",
    "encoded_Company_Type.columns = ['Early Stage Startup', 'Funded Startup', 'NGO', 'Other','Public Sector', 'Pvt Ltd']\n",
    "\n",
    "# Concatinating all the dataframes\n",
    "new_df = pd.concat([encoded_relv_evp, encoded_enrolled_uni, encoded_edu_level, encoded_gender,\n",
    "                        encoded_Major_disciline,encoded_company_size,encoded_Company_Type],axis=1)"
   ]
  },
  {
   "cell_type": "code",
   "execution_count": 39,
   "id": "cc3a5ce3-f9cc-4bb9-860d-ad158c68e1d9",
   "metadata": {},
   "outputs": [],
   "source": [
    "# let's reset the index of both the dataframes\n",
    "new_df.reset_index(drop=True, inplace=True)\n",
    "df.reset_index(drop=True, inplace=True)"
   ]
  },
  {
   "cell_type": "code",
   "execution_count": 40,
   "id": "aa5a466c-d306-4bef-b0b5-91d1c889b65c",
   "metadata": {},
   "outputs": [
    {
     "data": {
      "text/html": [
       "<div>\n",
       "<style scoped>\n",
       "    .dataframe tbody tr th:only-of-type {\n",
       "        vertical-align: middle;\n",
       "    }\n",
       "\n",
       "    .dataframe tbody tr th {\n",
       "        vertical-align: top;\n",
       "    }\n",
       "\n",
       "    .dataframe thead th {\n",
       "        text-align: right;\n",
       "    }\n",
       "</style>\n",
       "<table border=\"1\" class=\"dataframe\">\n",
       "  <thead>\n",
       "    <tr style=\"text-align: right;\">\n",
       "      <th></th>\n",
       "      <th>Has relevent experience</th>\n",
       "      <th>No relevent experience</th>\n",
       "      <th>Full time</th>\n",
       "      <th>Part time</th>\n",
       "      <th>no_enrollment</th>\n",
       "      <th>Graduate</th>\n",
       "      <th>High School</th>\n",
       "      <th>Masters</th>\n",
       "      <th>Phd</th>\n",
       "      <th>Primary School</th>\n",
       "      <th>...</th>\n",
       "      <th>Early Stage Startup</th>\n",
       "      <th>Funded Startup</th>\n",
       "      <th>NGO</th>\n",
       "      <th>Other</th>\n",
       "      <th>Public Sector</th>\n",
       "      <th>Pvt Ltd</th>\n",
       "      <th>city_development_index</th>\n",
       "      <th>experience</th>\n",
       "      <th>training_hours</th>\n",
       "      <th>target</th>\n",
       "    </tr>\n",
       "  </thead>\n",
       "  <tbody>\n",
       "    <tr>\n",
       "      <th>0</th>\n",
       "      <td>1.0</td>\n",
       "      <td>0.0</td>\n",
       "      <td>0.0</td>\n",
       "      <td>0.0</td>\n",
       "      <td>1.0</td>\n",
       "      <td>1.0</td>\n",
       "      <td>0.0</td>\n",
       "      <td>0.0</td>\n",
       "      <td>0.0</td>\n",
       "      <td>0.0</td>\n",
       "      <td>...</td>\n",
       "      <td>0.0</td>\n",
       "      <td>1.0</td>\n",
       "      <td>0.0</td>\n",
       "      <td>0.0</td>\n",
       "      <td>0.0</td>\n",
       "      <td>0.0</td>\n",
       "      <td>0.920</td>\n",
       "      <td>20.0</td>\n",
       "      <td>36.0</td>\n",
       "      <td>1.0</td>\n",
       "    </tr>\n",
       "    <tr>\n",
       "      <th>1</th>\n",
       "      <td>0.0</td>\n",
       "      <td>1.0</td>\n",
       "      <td>0.0</td>\n",
       "      <td>0.0</td>\n",
       "      <td>1.0</td>\n",
       "      <td>1.0</td>\n",
       "      <td>0.0</td>\n",
       "      <td>0.0</td>\n",
       "      <td>0.0</td>\n",
       "      <td>0.0</td>\n",
       "      <td>...</td>\n",
       "      <td>0.0</td>\n",
       "      <td>0.0</td>\n",
       "      <td>0.0</td>\n",
       "      <td>0.0</td>\n",
       "      <td>0.0</td>\n",
       "      <td>1.0</td>\n",
       "      <td>0.776</td>\n",
       "      <td>15.0</td>\n",
       "      <td>47.0</td>\n",
       "      <td>0.0</td>\n",
       "    </tr>\n",
       "    <tr>\n",
       "      <th>2</th>\n",
       "      <td>0.0</td>\n",
       "      <td>1.0</td>\n",
       "      <td>1.0</td>\n",
       "      <td>0.0</td>\n",
       "      <td>0.0</td>\n",
       "      <td>1.0</td>\n",
       "      <td>0.0</td>\n",
       "      <td>0.0</td>\n",
       "      <td>0.0</td>\n",
       "      <td>0.0</td>\n",
       "      <td>...</td>\n",
       "      <td>0.0</td>\n",
       "      <td>1.0</td>\n",
       "      <td>0.0</td>\n",
       "      <td>0.0</td>\n",
       "      <td>0.0</td>\n",
       "      <td>0.0</td>\n",
       "      <td>0.624</td>\n",
       "      <td>5.0</td>\n",
       "      <td>83.0</td>\n",
       "      <td>0.0</td>\n",
       "    </tr>\n",
       "    <tr>\n",
       "      <th>3</th>\n",
       "      <td>1.0</td>\n",
       "      <td>0.0</td>\n",
       "      <td>0.0</td>\n",
       "      <td>0.0</td>\n",
       "      <td>1.0</td>\n",
       "      <td>0.0</td>\n",
       "      <td>0.0</td>\n",
       "      <td>1.0</td>\n",
       "      <td>0.0</td>\n",
       "      <td>0.0</td>\n",
       "      <td>...</td>\n",
       "      <td>0.0</td>\n",
       "      <td>1.0</td>\n",
       "      <td>0.0</td>\n",
       "      <td>0.0</td>\n",
       "      <td>0.0</td>\n",
       "      <td>0.0</td>\n",
       "      <td>0.767</td>\n",
       "      <td>20.0</td>\n",
       "      <td>8.0</td>\n",
       "      <td>0.0</td>\n",
       "    </tr>\n",
       "    <tr>\n",
       "      <th>4</th>\n",
       "      <td>1.0</td>\n",
       "      <td>0.0</td>\n",
       "      <td>0.0</td>\n",
       "      <td>1.0</td>\n",
       "      <td>0.0</td>\n",
       "      <td>1.0</td>\n",
       "      <td>0.0</td>\n",
       "      <td>0.0</td>\n",
       "      <td>0.0</td>\n",
       "      <td>0.0</td>\n",
       "      <td>...</td>\n",
       "      <td>0.0</td>\n",
       "      <td>1.0</td>\n",
       "      <td>0.0</td>\n",
       "      <td>0.0</td>\n",
       "      <td>0.0</td>\n",
       "      <td>0.0</td>\n",
       "      <td>0.764</td>\n",
       "      <td>11.0</td>\n",
       "      <td>24.0</td>\n",
       "      <td>1.0</td>\n",
       "    </tr>\n",
       "  </tbody>\n",
       "</table>\n",
       "<p>5 rows × 37 columns</p>\n",
       "</div>"
      ],
      "text/plain": [
       "   Has relevent experience  No relevent experience  Full time  Part time  \\\n",
       "0                      1.0                     0.0        0.0        0.0   \n",
       "1                      0.0                     1.0        0.0        0.0   \n",
       "2                      0.0                     1.0        1.0        0.0   \n",
       "3                      1.0                     0.0        0.0        0.0   \n",
       "4                      1.0                     0.0        0.0        1.0   \n",
       "\n",
       "   no_enrollment  Graduate  High School  Masters  Phd  Primary School  ...  \\\n",
       "0            1.0       1.0          0.0      0.0  0.0             0.0  ...   \n",
       "1            1.0       1.0          0.0      0.0  0.0             0.0  ...   \n",
       "2            0.0       1.0          0.0      0.0  0.0             0.0  ...   \n",
       "3            1.0       0.0          0.0      1.0  0.0             0.0  ...   \n",
       "4            0.0       1.0          0.0      0.0  0.0             0.0  ...   \n",
       "\n",
       "   Early Stage Startup  Funded Startup  NGO  Other  Public Sector  Pvt Ltd  \\\n",
       "0                  0.0             1.0  0.0    0.0            0.0      0.0   \n",
       "1                  0.0             0.0  0.0    0.0            0.0      1.0   \n",
       "2                  0.0             1.0  0.0    0.0            0.0      0.0   \n",
       "3                  0.0             1.0  0.0    0.0            0.0      0.0   \n",
       "4                  0.0             1.0  0.0    0.0            0.0      0.0   \n",
       "\n",
       "   city_development_index  experience  training_hours  target  \n",
       "0                   0.920        20.0            36.0     1.0  \n",
       "1                   0.776        15.0            47.0     0.0  \n",
       "2                   0.624         5.0            83.0     0.0  \n",
       "3                   0.767        20.0             8.0     0.0  \n",
       "4                   0.764        11.0            24.0     1.0  \n",
       "\n",
       "[5 rows x 37 columns]"
      ]
     },
     "execution_count": 40,
     "metadata": {},
     "output_type": "execute_result"
    }
   ],
   "source": [
    "remaining_num_cols = df.select_dtypes(include=np.float32)\n",
    "new_df = pd.concat([new_df,remaining_num_cols],axis=1)\n",
    "new_df.head(5)"
   ]
  },
  {
   "cell_type": "code",
   "execution_count": 41,
   "id": "72fdb2a7-e62a-4d31-b8a1-145a0ccd64b4",
   "metadata": {},
   "outputs": [
    {
     "data": {
      "text/plain": [
       "Index(['Has relevent experience', 'No relevent experience', 'Full time',\n",
       "       'Part time', 'no_enrollment', 'Graduate', 'High School', 'Masters',\n",
       "       'Phd', 'Primary School', 'Female', 'Male', 'Other', 'Arts',\n",
       "       'Business Degree', 'Humanities', 'No Major', 'Other', 'STEM', '10/49',\n",
       "       '100-500', '1000-4999', '10000+', '50-99', '500-999', '5000-9999',\n",
       "       '<10', 'Early Stage Startup', 'Funded Startup', 'NGO', 'Other',\n",
       "       'Public Sector', 'Pvt Ltd', 'city_development_index', 'experience',\n",
       "       'training_hours', 'target'],\n",
       "      dtype='object')"
      ]
     },
     "execution_count": 41,
     "metadata": {},
     "output_type": "execute_result"
    }
   ],
   "source": [
    "new_df.columns"
   ]
  },
  {
   "cell_type": "markdown",
   "id": "5643d11c-b398-48d0-b68e-aa2b1045b4cd",
   "metadata": {
    "tags": []
   },
   "source": [
    "# Feature engineering\n",
    "\n",
    "- Feature importance"
   ]
  },
  {
   "cell_type": "code",
   "execution_count": 42,
   "id": "6ad318f2-089f-408c-80f4-da7d8fdfcd25",
   "metadata": {},
   "outputs": [],
   "source": [
    "new_df.drop(['Arts','Business Degree', 'Humanities', 'No Major', 'Other','No relevent experience',\n",
    "             'Female','Male','Other'],axis=1,inplace=True)"
   ]
  },
  {
   "cell_type": "code",
   "execution_count": 43,
   "id": "b815577e-cc20-4cf5-a606-ef05d5afdc8c",
   "metadata": {},
   "outputs": [],
   "source": [
    "enrolled_Uni = []\n",
    "for i,j in zip(new_df['Full time'],new_df['Part time']):\n",
    "    if i == 1.0 or j == 1.0:\n",
    "        enrolled_Uni.append(1.0)\n",
    "    else:\n",
    "        enrolled_Uni.append(0.0)\n",
    "        \n",
    "new_df['Enrolled_Uni'] = enrolled_Uni\n",
    "new_df.drop(['Full time','Part time', 'no_enrollment'],axis=1,inplace=True)"
   ]
  },
  {
   "cell_type": "code",
   "execution_count": 45,
   "id": "6d3ef9f8-2352-4f27-82fb-154f95cb9e2b",
   "metadata": {},
   "outputs": [],
   "source": [
    "higher_edu = []\n",
    "for i,j,k in zip(new_df['Graduate'],new_df['Masters'],new_df['Phd']):\n",
    "    if i == 1.0 or j == 1.0 or k == 1.0:\n",
    "        higher_edu.append(1.0)\n",
    "    else:\n",
    "        higher_edu.append(0.0)\n",
    "        \n",
    "new_df['higher_edu'] = higher_edu\n",
    "new_df.drop(['Graduate','Masters', 'Phd','High School','Primary School'],axis=1,inplace=True)"
   ]
  },
  {
   "cell_type": "code",
   "execution_count": 46,
   "id": "440a9c9f-ae4f-4c2d-b703-c92beb397093",
   "metadata": {},
   "outputs": [],
   "source": [
    "small_comp = []\n",
    "for i,j,k in zip(new_df['50-99'],new_df['10/49'],new_df['<10']):\n",
    "    if i == 1.0 or j == 1.0 or k == 1.0:\n",
    "        small_comp.append(1.0)\n",
    "    else:\n",
    "        small_comp.append(0.0)\n",
    "        \n",
    "new_df['small_comp'] = small_comp\n",
    "new_df.drop(['50-99','10/49', '<10'],axis=1,inplace=True)"
   ]
  },
  {
   "cell_type": "code",
   "execution_count": 47,
   "id": "4588c204-fc57-4281-a572-d34a8aea0608",
   "metadata": {},
   "outputs": [],
   "source": [
    "medium_comp = []\n",
    "for i,j in zip(new_df['100-500'],new_df['500-999']):\n",
    "    if i == 1.0 or j == 1.0:\n",
    "        medium_comp.append(1.0)\n",
    "    else:\n",
    "        medium_comp.append(0.0)\n",
    "        \n",
    "new_df['medium_comp'] = medium_comp\n",
    "new_df.drop(['100-500','500-999'],axis=1,inplace=True)"
   ]
  },
  {
   "cell_type": "code",
   "execution_count": 48,
   "id": "ab8ba37a-e03c-48a0-b04a-6d82478a2282",
   "metadata": {},
   "outputs": [],
   "source": [
    "large_comp = []\n",
    "for i,j,k in zip(new_df['1000-4999'],new_df['10000+'],new_df['5000-9999']):\n",
    "    if i == 1.0 or j == 1.0 or k == 1.0:\n",
    "        large_comp.append(1.0)\n",
    "    else:\n",
    "        large_comp.append(0.0)\n",
    "        \n",
    "new_df['large_comp'] = large_comp\n",
    "new_df.drop(['1000-4999', '10000+', '5000-9999'],axis=1,inplace=True)"
   ]
  },
  {
   "cell_type": "code",
   "execution_count": 49,
   "id": "48fd68a3-9801-4447-8283-21a3b7cfba04",
   "metadata": {},
   "outputs": [],
   "source": [
    "Startup = []\n",
    "for i,j in zip(new_df['Early Stage Startup'],new_df['Funded Startup']):\n",
    "    if i == 1.0 or j == 1.0:\n",
    "        Startup.append(1.0)\n",
    "    else:\n",
    "        Startup.append(0.0)\n",
    "        \n",
    "new_df['Startup'] = Startup\n",
    "new_df.drop(['Funded Startup','Early Stage Startup'],axis=1,inplace=True)"
   ]
  },
  {
   "cell_type": "code",
   "execution_count": 60,
   "id": "4d70910a-6ceb-464d-b38e-45bf662bc329",
   "metadata": {},
   "outputs": [
    {
     "data": {
      "text/plain": [
       "Index(['Has relevent experience', 'STEM', 'NGO', 'Public Sector', 'Pvt Ltd',\n",
       "       'city_development_index', 'experience', 'training_hours', 'target',\n",
       "       'Enrolled_Uni', 'higher_edu', 'small_comp', 'medium_comp', 'large_comp',\n",
       "       'Startup'],\n",
       "      dtype='object')"
      ]
     },
     "execution_count": 60,
     "metadata": {},
     "output_type": "execute_result"
    }
   ],
   "source": [
    "new_df.columns"
   ]
  },
  {
   "cell_type": "code",
   "execution_count": 50,
   "id": "582e093f-2ee8-4275-a5c9-887e5e5ce546",
   "metadata": {},
   "outputs": [
    {
     "data": {
      "text/plain": [
       "<AxesSubplot:>"
      ]
     },
     "execution_count": 50,
     "metadata": {},
     "output_type": "execute_result"
    },
    {
     "data": {
      "image/png": "[encoded data removed]",
      "text/plain": [
       "<Figure size 1800x864 with 2 Axes>"
      ]
     },
     "metadata": {
      "needs_background": "light"
     },
     "output_type": "display_data"
    }
   ],
   "source": [
    "fig,ax = plt.subplots(figsize=(25,12))\n",
    "sns.heatmap(round(new_df.corr(),2),annot=True)"
   ]
  },
  {
   "cell_type": "code",
   "execution_count": 51,
   "id": "64ba0cb7-3b75-4a37-b501-4e4218164e38",
   "metadata": {},
   "outputs": [],
   "source": [
    "# Let's create an object of MinMax scaler\n",
    "scaler = MinMaxScaler()"
   ]
  },
  {
   "cell_type": "code",
   "execution_count": 52,
   "id": "5ea18fc4-cdf9-48fa-966e-67bf726ba88f",
   "metadata": {},
   "outputs": [],
   "source": [
    "y = new_df['target']\n",
    "X = new_df.drop(['target'],axis=1)\n",
    "X_train,X_test,y_train,y_test = train_test_split(X,y,test_size=0.3, random_state=42,stratify=y) "
   ]
  },
  {
   "cell_type": "code",
   "execution_count": 53,
   "id": "a0f9fd2f-5e2c-4844-a2d9-9678469bc984",
   "metadata": {},
   "outputs": [],
   "source": [
    "X_train = scaler.fit_transform(X_train)\n",
    "X_test = scaler.transform(X_test)"
   ]
  },
  {
   "cell_type": "markdown",
   "id": "3a12527b-fb77-4881-b571-93b551cda7e8",
   "metadata": {},
   "source": [
    "# Model training "
   ]
  },
  {
   "cell_type": "code",
   "execution_count": 63,
   "id": "73515457-41db-48b4-8816-792fc52d8a47",
   "metadata": {},
   "outputs": [],
   "source": [
    "X_train = pd.DataFrame(X_train)\n",
    "X_train.columns = ['Has relevent experience', 'STEM', 'NGO', 'Public Sector', 'Pvt Ltd',\n",
    "       'city_development_index', 'experience', 'training_hours',\n",
    "       'Enrolled_Uni', 'higher_edu', 'small_comp', 'medium_comp', 'large_comp',\n",
    "       'Startup']"
   ]
  },
  {
   "cell_type": "code",
   "execution_count": 64,
   "id": "54b4f395-e690-4c2c-b970-3fab6726eb3d",
   "metadata": {},
   "outputs": [
    {
     "data": {
      "text/html": [
       "<style>#sk-container-id-2 {color: black;background-color: white;}#sk-container-id-2 pre{padding: 0;}#sk-container-id-2 div.sk-toggleable {background-color: white;}#sk-container-id-2 label.sk-toggleable__label {cursor: pointer;display: block;width: 100%;margin-bottom: 0;padding: 0.3em;box-sizing: border-box;text-align: center;}#sk-container-id-2 label.sk-toggleable__label-arrow:before {content: \"▸\";float: left;margin-right: 0.25em;color: #696969;}#sk-container-id-2 label.sk-toggleable__label-arrow:hover:before {color: black;}#sk-container-id-2 div.sk-estimator:hover label.sk-toggleable__label-arrow:before {color: black;}#sk-container-id-2 div.sk-toggleable__content {max-height: 0;max-width: 0;overflow: hidden;text-align: left;background-color: #f0f8ff;}#sk-container-id-2 div.sk-toggleable__content pre {margin: 0.2em;color: black;border-radius: 0.25em;background-color: #f0f8ff;}#sk-container-id-2 input.sk-toggleable__control:checked~div.sk-toggleable__content {max-height: 200px;max-width: 100%;overflow: auto;}#sk-container-id-2 input.sk-toggleable__control:checked~label.sk-toggleable__label-arrow:before {content: \"▾\";}#sk-container-id-2 div.sk-estimator input.sk-toggleable__control:checked~label.sk-toggleable__label {background-color: #d4ebff;}#sk-container-id-2 div.sk-label input.sk-toggleable__control:checked~label.sk-toggleable__label {background-color: #d4ebff;}#sk-container-id-2 input.sk-hidden--visually {border: 0;clip: rect(1px 1px 1px 1px);clip: rect(1px, 1px, 1px, 1px);height: 1px;margin: -1px;overflow: hidden;padding: 0;position: absolute;width: 1px;}#sk-container-id-2 div.sk-estimator {font-family: monospace;background-color: #f0f8ff;border: 1px dotted black;border-radius: 0.25em;box-sizing: border-box;margin-bottom: 0.5em;}#sk-container-id-2 div.sk-estimator:hover {background-color: #d4ebff;}#sk-container-id-2 div.sk-parallel-item::after {content: \"\";width: 100%;border-bottom: 1px solid gray;flex-grow: 1;}#sk-container-id-2 div.sk-label:hover label.sk-toggleable__label {background-color: #d4ebff;}#sk-container-id-2 div.sk-serial::before {content: \"\";position: absolute;border-left: 1px solid gray;box-sizing: border-box;top: 0;bottom: 0;left: 50%;z-index: 0;}#sk-container-id-2 div.sk-serial {display: flex;flex-direction: column;align-items: center;background-color: white;padding-right: 0.2em;padding-left: 0.2em;position: relative;}#sk-container-id-2 div.sk-item {position: relative;z-index: 1;}#sk-container-id-2 div.sk-parallel {display: flex;align-items: stretch;justify-content: center;background-color: white;position: relative;}#sk-container-id-2 div.sk-item::before, #sk-container-id-2 div.sk-parallel-item::before {content: \"\";position: absolute;border-left: 1px solid gray;box-sizing: border-box;top: 0;bottom: 0;left: 50%;z-index: -1;}#sk-container-id-2 div.sk-parallel-item {display: flex;flex-direction: column;z-index: 1;position: relative;background-color: white;}#sk-container-id-2 div.sk-parallel-item:first-child::after {align-self: flex-end;width: 50%;}#sk-container-id-2 div.sk-parallel-item:last-child::after {align-self: flex-start;width: 50%;}#sk-container-id-2 div.sk-parallel-item:only-child::after {width: 0;}#sk-container-id-2 div.sk-dashed-wrapped {border: 1px dashed gray;margin: 0 0.4em 0.5em 0.4em;box-sizing: border-box;padding-bottom: 0.4em;background-color: white;}#sk-container-id-2 div.sk-label label {font-family: monospace;font-weight: bold;display: inline-block;line-height: 1.2em;}#sk-container-id-2 div.sk-label-container {text-align: center;}#sk-container-id-2 div.sk-container {/* jupyter's `normalize.less` sets `[hidden] { display: none; }` but bootstrap.min.css set `[hidden] { display: none !important; }` so we also need the `!important` here to be able to override the default hidden behavior on the sphinx rendered scikit-learn.org. See: https://github.com/scikit-learn/scikit-learn/issues/21755 */display: inline-block !important;position: relative;}#sk-container-id-2 div.sk-text-repr-fallback {display: none;}</style><div id=\"sk-container-id-2\" class=\"sk-top-container\"><div class=\"sk-text-repr-fallback\"><pre>LogisticRegression()</pre><b>In a Jupyter environment, please rerun this cell to show the HTML representation or trust the notebook. <br />On GitHub, the HTML representation is unable to render, please try loading this page with nbviewer.org.</b></div><div class=\"sk-container\" hidden><div class=\"sk-item\"><div class=\"sk-estimator sk-toggleable\"><input class=\"sk-toggleable__control sk-hidden--visually\" id=\"sk-estimator-id-2\" type=\"checkbox\" checked><label for=\"sk-estimator-id-2\" class=\"sk-toggleable__label sk-toggleable__label-arrow\">LogisticRegression</label><div class=\"sk-toggleable__content\"><pre>LogisticRegression()</pre></div></div></div></div></div>"
      ],
      "text/plain": [
       "LogisticRegression()"
      ]
     },
     "execution_count": 64,
     "metadata": {},
     "output_type": "execute_result"
    }
   ],
   "source": [
    "model = LogisticRegression()\n",
    "model.fit(X_train, y_train)"
   ]
  },
  {
   "cell_type": "code",
   "execution_count": 65,
   "id": "0edee74d-7467-411c-82d6-7b23dd23dd82",
   "metadata": {},
   "outputs": [
    {
     "name": "stderr",
     "output_type": "stream",
     "text": [
      "C:\\Users\\YUVRAJ\\AppData\\Local\\Programs\\Python\\Python310\\lib\\site-packages\\sklearn\\base.py:450: UserWarning: X does not have valid feature names, but LogisticRegression was fitted with feature names\n",
      "  warnings.warn(\n"
     ]
    }
   ],
   "source": [
    "y_pred  =  model.predict(X_test)"
   ]
  },
  {
   "cell_type": "code",
   "execution_count": null,
   "id": "ed848a70-a502-48fd-b350-b6e2367a8e0d",
   "metadata": {},
   "outputs": [],
   "source": []
  },
  {
   "cell_type": "code",
   "execution_count": 54,
   "id": "c55475f0-fc6e-40cc-b002-eca5871b34cb",
   "metadata": {},
   "outputs": [
    {
     "data": {
      "text/html": [
       "<style>#sk-container-id-1 {color: black;background-color: white;}#sk-container-id-1 pre{padding: 0;}#sk-container-id-1 div.sk-toggleable {background-color: white;}#sk-container-id-1 label.sk-toggleable__label {cursor: pointer;display: block;width: 100%;margin-bottom: 0;padding: 0.3em;box-sizing: border-box;text-align: center;}#sk-container-id-1 label.sk-toggleable__label-arrow:before {content: \"▸\";float: left;margin-right: 0.25em;color: #696969;}#sk-container-id-1 label.sk-toggleable__label-arrow:hover:before {color: black;}#sk-container-id-1 div.sk-estimator:hover label.sk-toggleable__label-arrow:before {color: black;}#sk-container-id-1 div.sk-toggleable__content {max-height: 0;max-width: 0;overflow: hidden;text-align: left;background-color: #f0f8ff;}#sk-container-id-1 div.sk-toggleable__content pre {margin: 0.2em;color: black;border-radius: 0.25em;background-color: #f0f8ff;}#sk-container-id-1 input.sk-toggleable__control:checked~div.sk-toggleable__content {max-height: 200px;max-width: 100%;overflow: auto;}#sk-container-id-1 input.sk-toggleable__control:checked~label.sk-toggleable__label-arrow:before {content: \"▾\";}#sk-container-id-1 div.sk-estimator input.sk-toggleable__control:checked~label.sk-toggleable__label {background-color: #d4ebff;}#sk-container-id-1 div.sk-label input.sk-toggleable__control:checked~label.sk-toggleable__label {background-color: #d4ebff;}#sk-container-id-1 input.sk-hidden--visually {border: 0;clip: rect(1px 1px 1px 1px);clip: rect(1px, 1px, 1px, 1px);height: 1px;margin: -1px;overflow: hidden;padding: 0;position: absolute;width: 1px;}#sk-container-id-1 div.sk-estimator {font-family: monospace;background-color: #f0f8ff;border: 1px dotted black;border-radius: 0.25em;box-sizing: border-box;margin-bottom: 0.5em;}#sk-container-id-1 div.sk-estimator:hover {background-color: #d4ebff;}#sk-container-id-1 div.sk-parallel-item::after {content: \"\";width: 100%;border-bottom: 1px solid gray;flex-grow: 1;}#sk-container-id-1 div.sk-label:hover label.sk-toggleable__label {background-color: #d4ebff;}#sk-container-id-1 div.sk-serial::before {content: \"\";position: absolute;border-left: 1px solid gray;box-sizing: border-box;top: 0;bottom: 0;left: 50%;z-index: 0;}#sk-container-id-1 div.sk-serial {display: flex;flex-direction: column;align-items: center;background-color: white;padding-right: 0.2em;padding-left: 0.2em;position: relative;}#sk-container-id-1 div.sk-item {position: relative;z-index: 1;}#sk-container-id-1 div.sk-parallel {display: flex;align-items: stretch;justify-content: center;background-color: white;position: relative;}#sk-container-id-1 div.sk-item::before, #sk-container-id-1 div.sk-parallel-item::before {content: \"\";position: absolute;border-left: 1px solid gray;box-sizing: border-box;top: 0;bottom: 0;left: 50%;z-index: -1;}#sk-container-id-1 div.sk-parallel-item {display: flex;flex-direction: column;z-index: 1;position: relative;background-color: white;}#sk-container-id-1 div.sk-parallel-item:first-child::after {align-self: flex-end;width: 50%;}#sk-container-id-1 div.sk-parallel-item:last-child::after {align-self: flex-start;width: 50%;}#sk-container-id-1 div.sk-parallel-item:only-child::after {width: 0;}#sk-container-id-1 div.sk-dashed-wrapped {border: 1px dashed gray;margin: 0 0.4em 0.5em 0.4em;box-sizing: border-box;padding-bottom: 0.4em;background-color: white;}#sk-container-id-1 div.sk-label label {font-family: monospace;font-weight: bold;display: inline-block;line-height: 1.2em;}#sk-container-id-1 div.sk-label-container {text-align: center;}#sk-container-id-1 div.sk-container {/* jupyter's `normalize.less` sets `[hidden] { display: none; }` but bootstrap.min.css set `[hidden] { display: none !important; }` so we also need the `!important` here to be able to override the default hidden behavior on the sphinx rendered scikit-learn.org. See: https://github.com/scikit-learn/scikit-learn/issues/21755 */display: inline-block !important;position: relative;}#sk-container-id-1 div.sk-text-repr-fallback {display: none;}</style><div id=\"sk-container-id-1\" class=\"sk-top-container\"><div class=\"sk-text-repr-fallback\"><pre>GaussianNB()</pre><b>In a Jupyter environment, please rerun this cell to show the HTML representation or trust the notebook. <br />On GitHub, the HTML representation is unable to render, please try loading this page with nbviewer.org.</b></div><div class=\"sk-container\" hidden><div class=\"sk-item\"><div class=\"sk-estimator sk-toggleable\"><input class=\"sk-toggleable__control sk-hidden--visually\" id=\"sk-estimator-id-1\" type=\"checkbox\" checked><label for=\"sk-estimator-id-1\" class=\"sk-toggleable__label sk-toggleable__label-arrow\">GaussianNB</label><div class=\"sk-toggleable__content\"><pre>GaussianNB()</pre></div></div></div></div></div>"
      ],
      "text/plain": [
       "GaussianNB()"
      ]
     },
     "execution_count": 54,
     "metadata": {},
     "output_type": "execute_result"
    }
   ],
   "source": [
    "# Let's create an object of GaussianNB class\n",
    "classifier = GaussianNB()\n",
    "classifier.fit(X_train, y_train)"
   ]
  },
  {
   "cell_type": "code",
   "execution_count": 55,
   "id": "7aa3c7c4-7a2a-49b7-a823-fc84dd0de31c",
   "metadata": {},
   "outputs": [],
   "source": [
    "y_pred  =  classifier.predict(X_test)"
   ]
  },
  {
   "cell_type": "code",
   "execution_count": 56,
   "id": "cd84f875-6eb6-4f6d-baf7-efabdd7c1c34",
   "metadata": {},
   "outputs": [],
   "source": [
    "# Now let's train the model and make predictions\n",
    "lr.fit(X_train,y_train)\n",
    "y_pred = lr.predict(X_test)"
   ]
  },
  {
   "cell_type": "code",
   "execution_count": 57,
   "id": "88631a70-c4e2-416a-9811-b83deb8be9d6",
   "metadata": {},
   "outputs": [],
   "source": [
    "y_pred = np.around(y_pred)\n",
    "y_pred = y_pred.astype(np.int32)"
   ]
  },
  {
   "cell_type": "markdown",
   "id": "59cc2f96-56d5-47a5-9b91-27541dd5802d",
   "metadata": {
    "tags": []
   },
   "source": [
    "# Model evaluation"
   ]
  },
  {
   "cell_type": "code",
   "execution_count": 69,
   "id": "f16b44ed-24b5-4246-bc27-3850f1e709da",
   "metadata": {},
   "outputs": [
    {
     "name": "stdout",
     "output_type": "stream",
     "text": [
      "Accuracy:  0.7693501454898157\n",
      "Precision:  0.6851267244214739\n",
      "Recall:  0.6030378024193548\n",
      "F1 Score:  0.6143691022908293\n"
     ]
    }
   ],
   "source": [
    "# Calculating accuracy\n",
    "accuracy = accuracy_score(y_test, y_pred)\n",
    "print(\"Accuracy: \", accuracy)\n",
    "\n",
    "# Calculating precision\n",
    "precision = precision_score(y_test, y_pred, average='macro')\n",
    "print(\"Precision: \", precision)\n",
    "\n",
    "# Calculating recall\n",
    "recall = recall_score(y_test, y_pred, average='macro')\n",
    "print(\"Recall: \", recall)\n",
    "\n",
    "# Calculating F1 score\n",
    "f1 = f1_score(y_test, y_pred, average='macro')\n",
    "print(\"F1 Score: \", f1)"
   ]
  },
  {
   "cell_type": "code",
   "execution_count": 59,
   "id": "d042b855-af0a-433e-9e77-fb55dec3105e",
   "metadata": {},
   "outputs": [
    {
     "data": {
      "text/plain": [
       "' \\n Results when did removal of outliers\\nAccuracy:  0.7684920310584389\\nPrecision:  0.688503852903029\\nRecall:  0.5962529607665046\\nF1 Score:  0.6056316651293497\\n'"
      ]
     },
     "execution_count": 59,
     "metadata": {},
     "output_type": "execute_result"
    }
   ],
   "source": [
    "'''Resulst with NB\n",
    "Accuracy:  0.7668283220174588\n",
    "Precision:  0.6805685519692035\n",
    "Recall:  0.5922046370967742\n",
    "F1 Score:  0.6007120579441181\n",
    "''' \n"
   ]
  },
  {
   "cell_type": "code",
   "execution_count": null,
   "id": "e95b5d1b-379b-470f-bcf6-bbec45639370",
   "metadata": {},
   "outputs": [],
   "source": []
  },
  {
   "cell_type": "code",
   "execution_count": null,
   "id": "82c5231d-5543-4133-99bf-d4fc17aef2c9",
   "metadata": {},
   "outputs": [],
   "source": []
  }
 ],
 "metadata": {
  "kernelspec": {
   "display_name": "Python 3 (ipykernel)",
   "language": "python",
   "name": "python3"
  },
  "language_info": {
   "codemirror_mode": {
    "name": "ipython",
    "version": 3
   },
   "file_extension": ".py",
   "mimetype": "text/x-python",
   "name": "python",
   "nbconvert_exporter": "python",
   "pygments_lexer": "ipython3",
   "version": "3.10.8"
  }
 },
 "nbformat": 4,
 "nbformat_minor": 5
}
