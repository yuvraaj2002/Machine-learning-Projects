{
 "cells": [
  {
   "cell_type": "markdown",
   "id": "f5e299c7",
   "metadata": {
    "tags": []
   },
   "source": [
    "# Importing dependencies "
   ]
  },
  {
   "cell_type": "code",
   "execution_count": 1,
   "id": "22912a78",
   "metadata": {},
   "outputs": [],
   "source": [
    "import pandas as pd\n",
    "import numpy as np\n",
    "import matplotlib.pyplot as plt\n",
    "plt.style.use('fast')\n",
    "import seaborn as sns\n",
    "from sklearn.model_selection import train_test_split\n",
    "from sklearn.impute import SimpleImputer\n",
    "from sklearn.linear_model import LinearRegression\n",
    "from sklearn.compose import ColumnTransformer\n",
    "from sklearn.pipeline import Pipeline\n",
    "from sklearn.preprocessing import OneHotEncoder, OrdinalEncoder\n",
    "import sklearn\n",
    "from sklearn.experimental import enable_iterative_imputer\n",
    "from sklearn.impute import IterativeImputer\n",
    "df = pd.read_csv('data_science_job.csv')\n",
    "\n",
    "# Chossing a style ( can see the list using the code : plt.style.available\n",
    "plt.style.use('default')"
   ]
  },
  {
   "cell_type": "markdown",
   "id": "c72f243f",
   "metadata": {
    "tags": []
   },
   "source": [
    "# Introductory EDA"
   ]
  },
  {
   "cell_type": "code",
   "execution_count": 2,
   "id": "4f995c21",
   "metadata": {},
   "outputs": [
    {
     "data": {
      "text/plain": [
       "(19158, 13)"
      ]
     },
     "execution_count": 2,
     "metadata": {},
     "output_type": "execute_result"
    }
   ],
   "source": [
    "# Checking the shape of the dataframe\n",
    "df.shape"
   ]
  },
  {
   "cell_type": "code",
   "execution_count": 3,
   "id": "6c8c6b8a",
   "metadata": {},
   "outputs": [
    {
     "data": {
      "text/html": [
       "<div>\n",
       "<style scoped>\n",
       "    .dataframe tbody tr th:only-of-type {\n",
       "        vertical-align: middle;\n",
       "    }\n",
       "\n",
       "    .dataframe tbody tr th {\n",
       "        vertical-align: top;\n",
       "    }\n",
       "\n",
       "    .dataframe thead th {\n",
       "        text-align: right;\n",
       "    }\n",
       "</style>\n",
       "<table border=\"1\" class=\"dataframe\">\n",
       "  <thead>\n",
       "    <tr style=\"text-align: right;\">\n",
       "      <th></th>\n",
       "      <th>enrollee_id</th>\n",
       "      <th>city</th>\n",
       "      <th>city_development_index</th>\n",
       "      <th>gender</th>\n",
       "      <th>relevent_experience</th>\n",
       "      <th>enrolled_university</th>\n",
       "      <th>education_level</th>\n",
       "      <th>major_discipline</th>\n",
       "      <th>experience</th>\n",
       "      <th>company_size</th>\n",
       "      <th>company_type</th>\n",
       "      <th>training_hours</th>\n",
       "      <th>target</th>\n",
       "    </tr>\n",
       "  </thead>\n",
       "  <tbody>\n",
       "    <tr>\n",
       "      <th>10750</th>\n",
       "      <td>3119</td>\n",
       "      <td>city_65</td>\n",
       "      <td>0.802</td>\n",
       "      <td>Female</td>\n",
       "      <td>Has relevent experience</td>\n",
       "      <td>no_enrollment</td>\n",
       "      <td>Graduate</td>\n",
       "      <td>STEM</td>\n",
       "      <td>8.0</td>\n",
       "      <td>50-99</td>\n",
       "      <td>Early Stage Startup</td>\n",
       "      <td>19.0</td>\n",
       "      <td>0.0</td>\n",
       "    </tr>\n",
       "    <tr>\n",
       "      <th>16023</th>\n",
       "      <td>33227</td>\n",
       "      <td>city_21</td>\n",
       "      <td>0.624</td>\n",
       "      <td>NaN</td>\n",
       "      <td>No relevent experience</td>\n",
       "      <td>Full time course</td>\n",
       "      <td>Masters</td>\n",
       "      <td>STEM</td>\n",
       "      <td>0.0</td>\n",
       "      <td>NaN</td>\n",
       "      <td>NaN</td>\n",
       "      <td>15.0</td>\n",
       "      <td>0.0</td>\n",
       "    </tr>\n",
       "    <tr>\n",
       "      <th>118</th>\n",
       "      <td>18819</td>\n",
       "      <td>city_50</td>\n",
       "      <td>0.896</td>\n",
       "      <td>Male</td>\n",
       "      <td>Has relevent experience</td>\n",
       "      <td>no_enrollment</td>\n",
       "      <td>Graduate</td>\n",
       "      <td>STEM</td>\n",
       "      <td>9.0</td>\n",
       "      <td>&lt;10</td>\n",
       "      <td>Pvt Ltd</td>\n",
       "      <td>59.0</td>\n",
       "      <td>0.0</td>\n",
       "    </tr>\n",
       "    <tr>\n",
       "      <th>6413</th>\n",
       "      <td>6091</td>\n",
       "      <td>city_114</td>\n",
       "      <td>0.926</td>\n",
       "      <td>Male</td>\n",
       "      <td>Has relevent experience</td>\n",
       "      <td>no_enrollment</td>\n",
       "      <td>High School</td>\n",
       "      <td>NaN</td>\n",
       "      <td>20.0</td>\n",
       "      <td>NaN</td>\n",
       "      <td>NaN</td>\n",
       "      <td>152.0</td>\n",
       "      <td>0.0</td>\n",
       "    </tr>\n",
       "    <tr>\n",
       "      <th>10694</th>\n",
       "      <td>9100</td>\n",
       "      <td>city_61</td>\n",
       "      <td>0.913</td>\n",
       "      <td>NaN</td>\n",
       "      <td>Has relevent experience</td>\n",
       "      <td>no_enrollment</td>\n",
       "      <td>Masters</td>\n",
       "      <td>STEM</td>\n",
       "      <td>13.0</td>\n",
       "      <td>1000-4999</td>\n",
       "      <td>Pvt Ltd</td>\n",
       "      <td>108.0</td>\n",
       "      <td>0.0</td>\n",
       "    </tr>\n",
       "  </tbody>\n",
       "</table>\n",
       "</div>"
      ],
      "text/plain": [
       "       enrollee_id      city  city_development_index  gender  \\\n",
       "10750         3119   city_65                   0.802  Female   \n",
       "16023        33227   city_21                   0.624     NaN   \n",
       "118          18819   city_50                   0.896    Male   \n",
       "6413          6091  city_114                   0.926    Male   \n",
       "10694         9100   city_61                   0.913     NaN   \n",
       "\n",
       "           relevent_experience enrolled_university education_level  \\\n",
       "10750  Has relevent experience       no_enrollment        Graduate   \n",
       "16023   No relevent experience    Full time course         Masters   \n",
       "118    Has relevent experience       no_enrollment        Graduate   \n",
       "6413   Has relevent experience       no_enrollment     High School   \n",
       "10694  Has relevent experience       no_enrollment         Masters   \n",
       "\n",
       "      major_discipline  experience company_size         company_type  \\\n",
       "10750             STEM         8.0        50-99  Early Stage Startup   \n",
       "16023             STEM         0.0          NaN                  NaN   \n",
       "118               STEM         9.0          <10              Pvt Ltd   \n",
       "6413               NaN        20.0          NaN                  NaN   \n",
       "10694             STEM        13.0    1000-4999              Pvt Ltd   \n",
       "\n",
       "       training_hours  target  \n",
       "10750            19.0     0.0  \n",
       "16023            15.0     0.0  \n",
       "118              59.0     0.0  \n",
       "6413            152.0     0.0  \n",
       "10694           108.0     0.0  "
      ]
     },
     "execution_count": 3,
     "metadata": {},
     "output_type": "execute_result"
    }
   ],
   "source": [
    "# Checking any 5 random rows\n",
    "df.sample(5)"
   ]
  },
  {
   "cell_type": "code",
   "execution_count": 4,
   "id": "41c7ae31",
   "metadata": {},
   "outputs": [
    {
     "name": "stdout",
     "output_type": "stream",
     "text": [
      "<class 'pandas.core.frame.DataFrame'>\n",
      "RangeIndex: 19158 entries, 0 to 19157\n",
      "Data columns (total 13 columns):\n",
      " #   Column                  Non-Null Count  Dtype  \n",
      "---  ------                  --------------  -----  \n",
      " 0   enrollee_id             19158 non-null  int64  \n",
      " 1   city                    19158 non-null  object \n",
      " 2   city_development_index  18679 non-null  float64\n",
      " 3   gender                  14650 non-null  object \n",
      " 4   relevent_experience     19158 non-null  object \n",
      " 5   enrolled_university     18772 non-null  object \n",
      " 6   education_level         18698 non-null  object \n",
      " 7   major_discipline        16345 non-null  object \n",
      " 8   experience              19093 non-null  float64\n",
      " 9   company_size            13220 non-null  object \n",
      " 10  company_type            13018 non-null  object \n",
      " 11  training_hours          18392 non-null  float64\n",
      " 12  target                  19158 non-null  float64\n",
      "dtypes: float64(4), int64(1), object(8)\n",
      "memory usage: 1.9+ MB\n"
     ]
    }
   ],
   "source": [
    "# Checking data type of the features\n",
    "df.info()"
   ]
  },
  {
   "cell_type": "code",
   "execution_count": 5,
   "id": "4a1dcaab",
   "metadata": {},
   "outputs": [
    {
     "name": "stdout",
     "output_type": "stream",
     "text": [
      "<class 'pandas.core.frame.DataFrame'>\n",
      "RangeIndex: 19158 entries, 0 to 19157\n",
      "Data columns (total 13 columns):\n",
      " #   Column                  Non-Null Count  Dtype  \n",
      "---  ------                  --------------  -----  \n",
      " 0   enrollee_id             19158 non-null  int64  \n",
      " 1   city                    19158 non-null  object \n",
      " 2   city_development_index  18679 non-null  float32\n",
      " 3   gender                  14650 non-null  object \n",
      " 4   relevent_experience     19158 non-null  object \n",
      " 5   enrolled_university     18772 non-null  object \n",
      " 6   education_level         18698 non-null  object \n",
      " 7   major_discipline        16345 non-null  object \n",
      " 8   experience              19093 non-null  float32\n",
      " 9   company_size            13220 non-null  object \n",
      " 10  company_type            13018 non-null  object \n",
      " 11  training_hours          18392 non-null  float32\n",
      " 12  target                  19158 non-null  float32\n",
      "dtypes: float32(4), int64(1), object(8)\n",
      "memory usage: 1.6+ MB\n"
     ]
    }
   ],
   "source": [
    "# Optimizing the memory by using appropriate data types\n",
    "df[['target','training_hours','experience','city_development_index']] = df[['target','training_hours','experience','city_development_index']].astype(np.float32)\n",
    "df.info()"
   ]
  },
  {
   "cell_type": "code",
   "execution_count": 6,
   "id": "644fb00f",
   "metadata": {},
   "outputs": [
    {
     "data": {
      "text/html": [
       "<div>\n",
       "<style scoped>\n",
       "    .dataframe tbody tr th:only-of-type {\n",
       "        vertical-align: middle;\n",
       "    }\n",
       "\n",
       "    .dataframe tbody tr th {\n",
       "        vertical-align: top;\n",
       "    }\n",
       "\n",
       "    .dataframe thead th {\n",
       "        text-align: right;\n",
       "    }\n",
       "</style>\n",
       "<table border=\"1\" class=\"dataframe\">\n",
       "  <thead>\n",
       "    <tr style=\"text-align: right;\">\n",
       "      <th></th>\n",
       "      <th>enrollee_id</th>\n",
       "      <th>city_development_index</th>\n",
       "      <th>experience</th>\n",
       "      <th>training_hours</th>\n",
       "      <th>target</th>\n",
       "    </tr>\n",
       "  </thead>\n",
       "  <tbody>\n",
       "    <tr>\n",
       "      <th>count</th>\n",
       "      <td>19158.000000</td>\n",
       "      <td>18679.000000</td>\n",
       "      <td>19093.000000</td>\n",
       "      <td>18392.000000</td>\n",
       "      <td>19158.000000</td>\n",
       "    </tr>\n",
       "    <tr>\n",
       "      <th>mean</th>\n",
       "      <td>16875.358179</td>\n",
       "      <td>0.828951</td>\n",
       "      <td>9.928037</td>\n",
       "      <td>65.185791</td>\n",
       "      <td>0.249348</td>\n",
       "    </tr>\n",
       "    <tr>\n",
       "      <th>std</th>\n",
       "      <td>9616.292592</td>\n",
       "      <td>0.123334</td>\n",
       "      <td>6.505268</td>\n",
       "      <td>59.885624</td>\n",
       "      <td>0.432647</td>\n",
       "    </tr>\n",
       "    <tr>\n",
       "      <th>min</th>\n",
       "      <td>1.000000</td>\n",
       "      <td>0.448000</td>\n",
       "      <td>0.000000</td>\n",
       "      <td>1.000000</td>\n",
       "      <td>0.000000</td>\n",
       "    </tr>\n",
       "    <tr>\n",
       "      <th>25%</th>\n",
       "      <td>8554.250000</td>\n",
       "      <td>0.740000</td>\n",
       "      <td>4.000000</td>\n",
       "      <td>23.000000</td>\n",
       "      <td>0.000000</td>\n",
       "    </tr>\n",
       "    <tr>\n",
       "      <th>50%</th>\n",
       "      <td>16982.500000</td>\n",
       "      <td>0.903000</td>\n",
       "      <td>9.000000</td>\n",
       "      <td>47.000000</td>\n",
       "      <td>0.000000</td>\n",
       "    </tr>\n",
       "    <tr>\n",
       "      <th>75%</th>\n",
       "      <td>25169.750000</td>\n",
       "      <td>0.920000</td>\n",
       "      <td>16.000000</td>\n",
       "      <td>88.000000</td>\n",
       "      <td>0.000000</td>\n",
       "    </tr>\n",
       "    <tr>\n",
       "      <th>max</th>\n",
       "      <td>33380.000000</td>\n",
       "      <td>0.949000</td>\n",
       "      <td>20.000000</td>\n",
       "      <td>336.000000</td>\n",
       "      <td>1.000000</td>\n",
       "    </tr>\n",
       "  </tbody>\n",
       "</table>\n",
       "</div>"
      ],
      "text/plain": [
       "        enrollee_id  city_development_index    experience  training_hours  \\\n",
       "count  19158.000000            18679.000000  19093.000000    18392.000000   \n",
       "mean   16875.358179                0.828951      9.928037       65.185791   \n",
       "std     9616.292592                0.123334      6.505268       59.885624   \n",
       "min        1.000000                0.448000      0.000000        1.000000   \n",
       "25%     8554.250000                0.740000      4.000000       23.000000   \n",
       "50%    16982.500000                0.903000      9.000000       47.000000   \n",
       "75%    25169.750000                0.920000     16.000000       88.000000   \n",
       "max    33380.000000                0.949000     20.000000      336.000000   \n",
       "\n",
       "             target  \n",
       "count  19158.000000  \n",
       "mean       0.249348  \n",
       "std        0.432647  \n",
       "min        0.000000  \n",
       "25%        0.000000  \n",
       "50%        0.000000  \n",
       "75%        0.000000  \n",
       "max        1.000000  "
      ]
     },
     "execution_count": 6,
     "metadata": {},
     "output_type": "execute_result"
    }
   ],
   "source": [
    "# Descriptive information about the data\n",
    "df.describe()"
   ]
  },
  {
   "cell_type": "code",
   "execution_count": 7,
   "id": "f040cd0d",
   "metadata": {},
   "outputs": [
    {
     "data": {
      "text/plain": [
       "enrollee_id                0.000000\n",
       "city                       0.000000\n",
       "city_development_index     2.500261\n",
       "gender                    23.530640\n",
       "relevent_experience        0.000000\n",
       "enrolled_university        2.014824\n",
       "education_level            2.401086\n",
       "major_discipline          14.683161\n",
       "experience                 0.339284\n",
       "company_size              30.994885\n",
       "company_type              32.049274\n",
       "training_hours             3.998330\n",
       "target                     0.000000\n",
       "dtype: float64"
      ]
     },
     "execution_count": 7,
     "metadata": {},
     "output_type": "execute_result"
    }
   ],
   "source": [
    "# Checking percentage of null values\n",
    "df.isnull().mean()*100"
   ]
  },
  {
   "cell_type": "code",
   "execution_count": 8,
   "id": "da7a7cc1",
   "metadata": {},
   "outputs": [
    {
     "data": {
      "text/plain": [
       "0"
      ]
     },
     "execution_count": 8,
     "metadata": {},
     "output_type": "execute_result"
    }
   ],
   "source": [
    "# Checking duplicated values\n",
    "df.duplicated().sum()"
   ]
  },
  {
   "cell_type": "code",
   "execution_count": 9,
   "id": "5cda9ba2",
   "metadata": {},
   "outputs": [
    {
     "data": {
      "text/plain": [
       "<AxesSubplot:ylabel='target'>"
      ]
     },
     "execution_count": 9,
     "metadata": {},
     "output_type": "execute_result"
    },
    {
     "data": {
      "image/png": "[encoded data removed]",
      "text/plain": [
       "<Figure size 432x288 with 1 Axes>"
      ]
     },
     "metadata": {},
     "output_type": "display_data"
    }
   ],
   "source": [
    "# Let's visualize distribution of the classes in the target variable\n",
    "ex = (0,0.2)\n",
    "df['target'].value_counts().plot(kind='pie',autopct='%.2f',explode= ex)"
   ]
  },
  {
   "cell_type": "markdown",
   "id": "6fe570cb",
   "metadata": {
    "tags": []
   },
   "source": [
    "# Data Cleaning\n",
    "\n",
    "In this step we will be handling the missing values,outliers and will also work on dealing with imbalanced data\n"
   ]
  },
  {
   "cell_type": "code",
   "execution_count": 10,
   "id": "9c418e9e",
   "metadata": {},
   "outputs": [
    {
     "data": {
      "text/html": [
       "<div>\n",
       "<style scoped>\n",
       "    .dataframe tbody tr th:only-of-type {\n",
       "        vertical-align: middle;\n",
       "    }\n",
       "\n",
       "    .dataframe tbody tr th {\n",
       "        vertical-align: top;\n",
       "    }\n",
       "\n",
       "    .dataframe thead th {\n",
       "        text-align: right;\n",
       "    }\n",
       "</style>\n",
       "<table border=\"1\" class=\"dataframe\">\n",
       "  <thead>\n",
       "    <tr style=\"text-align: right;\">\n",
       "      <th></th>\n",
       "      <th>city_development_index</th>\n",
       "      <th>gender</th>\n",
       "      <th>relevent_experience</th>\n",
       "      <th>enrolled_university</th>\n",
       "      <th>education_level</th>\n",
       "      <th>major_discipline</th>\n",
       "      <th>experience</th>\n",
       "      <th>company_size</th>\n",
       "      <th>company_type</th>\n",
       "      <th>training_hours</th>\n",
       "      <th>target</th>\n",
       "    </tr>\n",
       "  </thead>\n",
       "  <tbody>\n",
       "    <tr>\n",
       "      <th>0</th>\n",
       "      <td>0.920</td>\n",
       "      <td>Male</td>\n",
       "      <td>Has relevent experience</td>\n",
       "      <td>no_enrollment</td>\n",
       "      <td>Graduate</td>\n",
       "      <td>STEM</td>\n",
       "      <td>20.0</td>\n",
       "      <td>NaN</td>\n",
       "      <td>NaN</td>\n",
       "      <td>36.0</td>\n",
       "      <td>1.0</td>\n",
       "    </tr>\n",
       "    <tr>\n",
       "      <th>1</th>\n",
       "      <td>0.776</td>\n",
       "      <td>Male</td>\n",
       "      <td>No relevent experience</td>\n",
       "      <td>no_enrollment</td>\n",
       "      <td>Graduate</td>\n",
       "      <td>STEM</td>\n",
       "      <td>15.0</td>\n",
       "      <td>50-99</td>\n",
       "      <td>Pvt Ltd</td>\n",
       "      <td>47.0</td>\n",
       "      <td>0.0</td>\n",
       "    </tr>\n",
       "    <tr>\n",
       "      <th>2</th>\n",
       "      <td>0.624</td>\n",
       "      <td>NaN</td>\n",
       "      <td>No relevent experience</td>\n",
       "      <td>Full time course</td>\n",
       "      <td>Graduate</td>\n",
       "      <td>STEM</td>\n",
       "      <td>5.0</td>\n",
       "      <td>NaN</td>\n",
       "      <td>NaN</td>\n",
       "      <td>83.0</td>\n",
       "      <td>0.0</td>\n",
       "    </tr>\n",
       "  </tbody>\n",
       "</table>\n",
       "</div>"
      ],
      "text/plain": [
       "   city_development_index gender      relevent_experience enrolled_university  \\\n",
       "0                   0.920   Male  Has relevent experience       no_enrollment   \n",
       "1                   0.776   Male   No relevent experience       no_enrollment   \n",
       "2                   0.624    NaN   No relevent experience    Full time course   \n",
       "\n",
       "  education_level major_discipline  experience company_size company_type  \\\n",
       "0        Graduate             STEM        20.0          NaN          NaN   \n",
       "1        Graduate             STEM        15.0        50-99      Pvt Ltd   \n",
       "2        Graduate             STEM         5.0          NaN          NaN   \n",
       "\n",
       "   training_hours  target  \n",
       "0            36.0     1.0  \n",
       "1            47.0     0.0  \n",
       "2            83.0     0.0  "
      ]
     },
     "execution_count": 10,
     "metadata": {},
     "output_type": "execute_result"
    }
   ],
   "source": [
    "# Dropping the unnecessary columns from the dataframe\n",
    "df = df.drop(['enrollee_id','city'],axis=1)\n",
    "df.head(3)"
   ]
  },
  {
   "cell_type": "code",
   "execution_count": 11,
   "id": "920f10f4",
   "metadata": {},
   "outputs": [
    {
     "data": {
      "text/html": [
       "<div>\n",
       "<style scoped>\n",
       "    .dataframe tbody tr th:only-of-type {\n",
       "        vertical-align: middle;\n",
       "    }\n",
       "\n",
       "    .dataframe tbody tr th {\n",
       "        vertical-align: top;\n",
       "    }\n",
       "\n",
       "    .dataframe thead th {\n",
       "        text-align: right;\n",
       "    }\n",
       "</style>\n",
       "<table border=\"1\" class=\"dataframe\">\n",
       "  <thead>\n",
       "    <tr style=\"text-align: right;\">\n",
       "      <th></th>\n",
       "      <th>city_development_index</th>\n",
       "      <th>enrolled_university</th>\n",
       "      <th>education_level</th>\n",
       "      <th>experience</th>\n",
       "      <th>training_hours</th>\n",
       "    </tr>\n",
       "  </thead>\n",
       "  <tbody>\n",
       "    <tr>\n",
       "      <th>0</th>\n",
       "      <td>0.920</td>\n",
       "      <td>no_enrollment</td>\n",
       "      <td>Graduate</td>\n",
       "      <td>20.0</td>\n",
       "      <td>36.0</td>\n",
       "    </tr>\n",
       "    <tr>\n",
       "      <th>1</th>\n",
       "      <td>0.776</td>\n",
       "      <td>no_enrollment</td>\n",
       "      <td>Graduate</td>\n",
       "      <td>15.0</td>\n",
       "      <td>47.0</td>\n",
       "    </tr>\n",
       "    <tr>\n",
       "      <th>2</th>\n",
       "      <td>0.624</td>\n",
       "      <td>Full time course</td>\n",
       "      <td>Graduate</td>\n",
       "      <td>5.0</td>\n",
       "      <td>83.0</td>\n",
       "    </tr>\n",
       "    <tr>\n",
       "      <th>3</th>\n",
       "      <td>0.789</td>\n",
       "      <td>NaN</td>\n",
       "      <td>Graduate</td>\n",
       "      <td>0.0</td>\n",
       "      <td>52.0</td>\n",
       "    </tr>\n",
       "    <tr>\n",
       "      <th>4</th>\n",
       "      <td>0.767</td>\n",
       "      <td>no_enrollment</td>\n",
       "      <td>Masters</td>\n",
       "      <td>20.0</td>\n",
       "      <td>8.0</td>\n",
       "    </tr>\n",
       "  </tbody>\n",
       "</table>\n",
       "</div>"
      ],
      "text/plain": [
       "   city_development_index enrolled_university education_level  experience  \\\n",
       "0                   0.920       no_enrollment        Graduate        20.0   \n",
       "1                   0.776       no_enrollment        Graduate        15.0   \n",
       "2                   0.624    Full time course        Graduate         5.0   \n",
       "3                   0.789                 NaN        Graduate         0.0   \n",
       "4                   0.767       no_enrollment         Masters        20.0   \n",
       "\n",
       "   training_hours  \n",
       "0            36.0  \n",
       "1            47.0  \n",
       "2            83.0  \n",
       "3            52.0  \n",
       "4             8.0  "
      ]
     },
     "execution_count": 11,
     "metadata": {},
     "output_type": "execute_result"
    }
   ],
   "source": [
    "# Let's take out features having missing value percentage less than 5% to check if we should apply CCA or not\n",
    "check_cca = [col for col in df.columns if df[col].isnull().mean()*100 <5 and df[col].isnull().mean()*100>0]\n",
    "check = df[check_cca].copy()\n",
    "check.head(5)"
   ]
  },
  {
   "cell_type": "code",
   "execution_count": 12,
   "id": "5ff4a319-51a1-47db-86c8-e624087d048a",
   "metadata": {},
   "outputs": [],
   "source": [
    "# Dropping all the rows having column values as NaN\n",
    "check.dropna(inplace=True)"
   ]
  },
  {
   "cell_type": "code",
   "execution_count": 13,
   "id": "00a07cd2",
   "metadata": {},
   "outputs": [
    {
     "data": {
      "text/plain": [
       "[Text(0.5, 1.0, 'Distribution of training hours feature (Before/After)')]"
      ]
     },
     "execution_count": 13,
     "metadata": {},
     "output_type": "execute_result"
    },
    {
     "data": {
      "image/png": "[encoded data removed]",
      "text/plain": [
       "<Figure size 1224x360 with 3 Axes>"
      ]
     },
     "metadata": {
      "needs_background": "light"
     },
     "output_type": "display_data"
    }
   ],
   "source": [
    "# Now let's visualize the distributions before and after implemnting CCA on numerical features\n",
    "fig, ax = plt.subplots(1, 3, figsize=(17, 5))\n",
    "\n",
    "sns.kdeplot(df['city_development_index'], shade=True,ax=ax[0], color='green', label='df')\n",
    "sns.kdeplot(check['city_development_index'], shade=True,ax=ax[0], label='check')\n",
    "ax[0].legend(loc='upper center')\n",
    "ax[0].set(title='Distribution of City development index feature (Before/After)')\n",
    "\n",
    "sns.kdeplot(df['experience'], shade=True,ax=ax[1], color='blue', label='df')\n",
    "sns.kdeplot(check['experience'], shade=True,ax=ax[1], label='check')\n",
    "ax[1].legend(loc='upper center')\n",
    "ax[1].set(title='Distribution of Experience feature (Before/After)')\n",
    "\n",
    "sns.kdeplot(df['training_hours'], shade=True,ax=ax[2], color='red', label='df')\n",
    "sns.kdeplot(check['training_hours'], shade=True,ax=ax[2], label='check')\n",
    "ax[2].legend(loc='upper center')\n",
    "ax[2].set(title='Distribution of training hours feature (Before/After)')"
   ]
  },
  {
   "cell_type": "markdown",
   "id": "171f4be2",
   "metadata": {},
   "source": [
    "For the categorical columns we will check the ratio of categories before and after applying PCA"
   ]
  },
  {
   "cell_type": "code",
   "execution_count": 14,
   "id": "45818bc7",
   "metadata": {
    "scrolled": true
   },
   "outputs": [
    {
     "data": {
      "text/html": [
       "<div>\n",
       "<style scoped>\n",
       "    .dataframe tbody tr th:only-of-type {\n",
       "        vertical-align: middle;\n",
       "    }\n",
       "\n",
       "    .dataframe tbody tr th {\n",
       "        vertical-align: top;\n",
       "    }\n",
       "\n",
       "    .dataframe thead th {\n",
       "        text-align: right;\n",
       "    }\n",
       "</style>\n",
       "<table border=\"1\" class=\"dataframe\">\n",
       "  <thead>\n",
       "    <tr style=\"text-align: right;\">\n",
       "      <th></th>\n",
       "      <th>original</th>\n",
       "      <th>aftercca</th>\n",
       "    </tr>\n",
       "  </thead>\n",
       "  <tbody>\n",
       "    <tr>\n",
       "      <th>no_enrollment</th>\n",
       "      <td>0.721213</td>\n",
       "      <td>0.735188</td>\n",
       "    </tr>\n",
       "    <tr>\n",
       "      <th>Full time course</th>\n",
       "      <td>0.196106</td>\n",
       "      <td>0.200733</td>\n",
       "    </tr>\n",
       "    <tr>\n",
       "      <th>Part time course</th>\n",
       "      <td>0.062533</td>\n",
       "      <td>0.064079</td>\n",
       "    </tr>\n",
       "  </tbody>\n",
       "</table>\n",
       "</div>"
      ],
      "text/plain": [
       "                  original  aftercca\n",
       "no_enrollment     0.721213  0.735188\n",
       "Full time course  0.196106  0.200733\n",
       "Part time course  0.062533  0.064079"
      ]
     },
     "execution_count": 14,
     "metadata": {},
     "output_type": "execute_result"
    }
   ],
   "source": [
    "# For the categorical features we will check the ratio of classes before and after implementing CCA\n",
    "compare_eu = pd.concat([df['enrolled_university'].value_counts() / len(df),\n",
    "                    check['enrolled_university'].value_counts() / len(check)],axis=1)\n",
    "\n",
    "compare_eu.columns = ['original','aftercca']\n",
    "compare_eu"
   ]
  },
  {
   "cell_type": "code",
   "execution_count": 15,
   "id": "ab92fdc8",
   "metadata": {
    "scrolled": true
   },
   "outputs": [
    {
     "data": {
      "text/html": [
       "<div>\n",
       "<style scoped>\n",
       "    .dataframe tbody tr th:only-of-type {\n",
       "        vertical-align: middle;\n",
       "    }\n",
       "\n",
       "    .dataframe tbody tr th {\n",
       "        vertical-align: top;\n",
       "    }\n",
       "\n",
       "    .dataframe thead th {\n",
       "        text-align: right;\n",
       "    }\n",
       "</style>\n",
       "<table border=\"1\" class=\"dataframe\">\n",
       "  <thead>\n",
       "    <tr style=\"text-align: right;\">\n",
       "      <th></th>\n",
       "      <th>original</th>\n",
       "      <th>aftercca</th>\n",
       "    </tr>\n",
       "  </thead>\n",
       "  <tbody>\n",
       "    <tr>\n",
       "      <th>Graduate</th>\n",
       "      <td>0.605387</td>\n",
       "      <td>0.619835</td>\n",
       "    </tr>\n",
       "    <tr>\n",
       "      <th>Masters</th>\n",
       "      <td>0.227633</td>\n",
       "      <td>0.234082</td>\n",
       "    </tr>\n",
       "    <tr>\n",
       "      <th>High School</th>\n",
       "      <td>0.105282</td>\n",
       "      <td>0.107380</td>\n",
       "    </tr>\n",
       "    <tr>\n",
       "      <th>Phd</th>\n",
       "      <td>0.021610</td>\n",
       "      <td>0.022116</td>\n",
       "    </tr>\n",
       "    <tr>\n",
       "      <th>Primary School</th>\n",
       "      <td>0.016077</td>\n",
       "      <td>0.016587</td>\n",
       "    </tr>\n",
       "  </tbody>\n",
       "</table>\n",
       "</div>"
      ],
      "text/plain": [
       "                original  aftercca\n",
       "Graduate        0.605387  0.619835\n",
       "Masters         0.227633  0.234082\n",
       "High School     0.105282  0.107380\n",
       "Phd             0.021610  0.022116\n",
       "Primary School  0.016077  0.016587"
      ]
     },
     "execution_count": 15,
     "metadata": {},
     "output_type": "execute_result"
    }
   ],
   "source": [
    "edu_level = pd.concat([ df['education_level'].value_counts() / len(df),\n",
    "                     check['education_level'].value_counts() / len(check) ],axis=1)\n",
    "\n",
    "edu_level.columns = ['original','aftercca']\n",
    "edu_level"
   ]
  },
  {
   "cell_type": "markdown",
   "id": "a52e21ca",
   "metadata": {},
   "source": [
    "From the analysis we can safely remove the rows having missing values of columns in which the percentage of missing values is less than 5%"
   ]
  },
  {
   "cell_type": "code",
   "execution_count": 16,
   "id": "0982b07b",
   "metadata": {},
   "outputs": [],
   "source": [
    "df.dropna(subset = ['city_development_index', 'enrolled_university', 'education_level',\n",
    "                   'experience', 'training_hours'],inplace=True)"
   ]
  },
  {
   "cell_type": "markdown",
   "id": "c9d25345-03b5-4142-92c3-977dc26d9f8d",
   "metadata": {
    "tags": []
   },
   "source": [
    "## Imputing missing values using MICE"
   ]
  },
  {
   "cell_type": "code",
   "execution_count": 17,
   "id": "339656d3-c10d-4f81-833d-06e035a97783",
   "metadata": {},
   "outputs": [
    {
     "data": {
      "text/html": [
       "<div>\n",
       "<style scoped>\n",
       "    .dataframe tbody tr th:only-of-type {\n",
       "        vertical-align: middle;\n",
       "    }\n",
       "\n",
       "    .dataframe tbody tr th {\n",
       "        vertical-align: top;\n",
       "    }\n",
       "\n",
       "    .dataframe thead th {\n",
       "        text-align: right;\n",
       "    }\n",
       "</style>\n",
       "<table border=\"1\" class=\"dataframe\">\n",
       "  <thead>\n",
       "    <tr style=\"text-align: right;\">\n",
       "      <th></th>\n",
       "      <th>gender</th>\n",
       "      <th>major_discipline</th>\n",
       "      <th>company_size</th>\n",
       "      <th>company_type</th>\n",
       "    </tr>\n",
       "  </thead>\n",
       "  <tbody>\n",
       "    <tr>\n",
       "      <th>0</th>\n",
       "      <td>Male</td>\n",
       "      <td>STEM</td>\n",
       "      <td>NaN</td>\n",
       "      <td>NaN</td>\n",
       "    </tr>\n",
       "    <tr>\n",
       "      <th>1</th>\n",
       "      <td>Male</td>\n",
       "      <td>STEM</td>\n",
       "      <td>50-99</td>\n",
       "      <td>Pvt Ltd</td>\n",
       "    </tr>\n",
       "    <tr>\n",
       "      <th>2</th>\n",
       "      <td>NaN</td>\n",
       "      <td>STEM</td>\n",
       "      <td>NaN</td>\n",
       "      <td>NaN</td>\n",
       "    </tr>\n",
       "    <tr>\n",
       "      <th>4</th>\n",
       "      <td>Male</td>\n",
       "      <td>STEM</td>\n",
       "      <td>50-99</td>\n",
       "      <td>Funded Startup</td>\n",
       "    </tr>\n",
       "  </tbody>\n",
       "</table>\n",
       "</div>"
      ],
      "text/plain": [
       "  gender major_discipline company_size    company_type\n",
       "0   Male             STEM          NaN             NaN\n",
       "1   Male             STEM        50-99         Pvt Ltd\n",
       "2    NaN             STEM          NaN             NaN\n",
       "4   Male             STEM        50-99  Funded Startup"
      ]
     },
     "execution_count": 17,
     "metadata": {},
     "output_type": "execute_result"
    }
   ],
   "source": [
    "# Let's take all those features in which percentage of missing value is more than 5%\n",
    "check_cols2 = [cols for cols in df.columns if df[cols].isnull().mean()*100 >5]\n",
    "check2 = df[check_cols2].copy()\n",
    "check2.head(4)"
   ]
  },
  {
   "cell_type": "code",
   "execution_count": 18,
   "id": "897d3453-0d6f-43c3-9db7-6321b2b1a28f",
   "metadata": {},
   "outputs": [],
   "source": [
    "\"\"\"\n",
    "    For encoding these features we will use MICE : Multiple imputation by chanied equation but before we need to encode these \n",
    "    features by treating them as ordinal categorical data even though the features are nominal and we need to do this for implmenting\n",
    "    MICE because with OHE the dataset will become sparse.\n",
    "\"\"\"\n",
    "map_gender = {'Male':0,'Female':1,'Other':2}\n",
    "map_disciline = {'STEM':5,'Humanities':4,'Other':3,'Business Degree':2,'Arts':1,'No Major':0}\n",
    "map_comp_size = {'<10':0,'10/49':1,'50-99':2,'100-500':3,'500-999':4,'1000-4999':5,'5000-9999':6,'10000+':7 }\n",
    "map_comp_type = {'Other':0,'NGO':1,'Early Stage Startup':2,'Public Sector':3,'Funded Startup':4,'Pvt Ltd':5}\n",
    "\n",
    "df['gender'] = df['gender'].map(map_gender)\n",
    "df['major_discipline'] = df['major_discipline'].map(map_disciline)\n",
    "df['company_size'] = df['company_size'].map(map_comp_size)\n",
    "df['company_type'] = df['company_type'].map(map_comp_type)"
   ]
  },
  {
   "cell_type": "code",
   "execution_count": 19,
   "id": "e70de6c5-f388-4035-9816-fcc8aa4dd621",
   "metadata": {},
   "outputs": [],
   "source": [
    "# Now we will be using MICE for imputing the missing values in company_size variable\n",
    "lr = LinearRegression()\n",
    "imp = IterativeImputer(estimator=lr, verbose=2, max_iter=30, tol=1e-10, imputation_order='roman')"
   ]
  },
  {
   "cell_type": "code",
   "execution_count": 22,
   "id": "606e3b49-d3c5-4b5b-8b49-18f1bbf4f145",
   "metadata": {},
   "outputs": [
    {
     "name": "stdout",
     "output_type": "stream",
     "text": [
      "[IterativeImputer] Completing matrix with shape (17182, 4)\n",
      "[IterativeImputer] Ending imputation round 1/30, elapsed time 0.02\n",
      "[IterativeImputer] Change: 0.0, scaled tolerance: 7.000000000000001e-10 \n",
      "[IterativeImputer] Early stopping criterion reached.\n"
     ]
    }
   ],
   "source": [
    "cols = ['gender','major_discipline','company_size','company_type']\n",
    "df[cols] = imp.fit_transform(df[cols])\n",
    "df[cols] = round(df[cols])"
   ]
  },
  {
   "cell_type": "code",
   "execution_count": 24,
   "id": "aa4bc244-c5fe-41a5-8848-a965e31d0d37",
   "metadata": {},
   "outputs": [],
   "source": [
    "# Now after imputing let's change the values back to category for the analysis and doing one hot encoding\n",
    "map_gender = {0.0:'Male',1.0:'Female',2.0:'Other'}\n",
    "map_disciline = {5.0:'STEM',4.0:'Humanities',3.0:'Other',2.0:'Business Degree',1.0:'Arts',0.0:'No Major'}\n",
    "map_comp_size = {0.0:'<10',1.0:'10/49',2.0:'50-99',3.0:'100-500',4.0:'500-999',5.0:'1000-4999',6.0:'5000-9999',7.0:'10000+' }\n",
    "map_comp_type = {0.0:'Other',1.0:'NGO',2.0:'Early Stage Startup',3.0:'Public Sector',4.0:'Funded Startup',5.0:'Pvt Ltd'}\n",
    "\n",
    "df['gender'] = df['gender'].map(map_gender)\n",
    "df['major_discipline'] = df['major_discipline'].map(map_disciline)\n",
    "df['company_size'] = df['company_size'].map(map_comp_size)\n",
    "df['company_type'] = df['company_type'].map(map_comp_type)"
   ]
  },
  {
   "cell_type": "markdown",
   "id": "b1bd4062-0150-40b4-927c-9b3c9616eb83",
   "metadata": {
    "tags": []
   },
   "source": [
    "## Detection and removal of outliers"
   ]
  },
  {
   "cell_type": "code",
   "execution_count": 29,
   "id": "4e8352ab-adfd-4b7f-9ab9-564121156fd3",
   "metadata": {},
   "outputs": [
    {
     "data": {
      "text/plain": [
       "[Text(0.5, 1.0, 'Distribution of city development index ')]"
      ]
     },
     "execution_count": 29,
     "metadata": {},
     "output_type": "execute_result"
    },
    {
     "data": {
      "image/png": "[encoded data removed]",
      "text/plain": [
       "<Figure size 1296x360 with 3 Axes>"
      ]
     },
     "metadata": {
      "needs_background": "light"
     },
     "output_type": "display_data"
    }
   ],
   "source": [
    "fig,ax = plt.subplots(1,3,figsize = (18,5))\n",
    "\n",
    "sns.kdeplot(df['training_hours'],shade=True,ax = ax[0])\n",
    "ax[0].set(title='Distribution of training_hours')\n",
    "\n",
    "sns.kdeplot(df['experience'],shade=True,ax = ax[1])\n",
    "ax[1].set(title='Distribution of experience ')\n",
    "\n",
    "sns.kdeplot(df['city_development_index'],shade=True,ax = ax[2])\n",
    "ax[2].set(title='Distribution of city development index ')"
   ]
  },
  {
   "cell_type": "markdown",
   "id": "38fa1c86-b256-4b94-85df-944b3281f970",
   "metadata": {},
   "source": [
    "From the distributions we can clearly see that all the features are skewed. Training hours and experience are right skewed , whereas city development index distribution is left skewed. So we will use boxplots to detect outliers"
   ]
  },
  {
   "cell_type": "code",
   "execution_count": 30,
   "id": "ae21f3f6-64e4-447f-a6da-d2f79bf6ad8b",
   "metadata": {},
   "outputs": [
    {
     "data": {
      "image/png": "[encoded data removed]",
      "text/plain": [
       "<Figure size 1296x360 with 3 Axes>"
      ]
     },
     "metadata": {
      "needs_background": "light"
     },
     "output_type": "display_data"
    }
   ],
   "source": [
    "# Create a figure and axes\n",
    "fig, ax = plt.subplots(1, 3, figsize=(18, 5))\n",
    "\n",
    "# Plot the first distplot on the first axes\n",
    "sns.boxplot(x = df['city_development_index'],ax = ax[0]).set(title='Boxplot of city develoment index feature')\n",
    "sns.boxplot(x = df['experience'],ax = ax[1]).set(title='Boxplot of experience feature')\n",
    "sns.boxplot(x = df['training_hours'],ax = ax[2]).set(title='Boxplot of training hours feature')\n",
    "\n",
    "# Show the plot\n",
    "plt.show()"
   ]
  },
  {
   "cell_type": "markdown",
   "id": "514a6f3c-55a1-4dbb-b308-782ee261ffaf",
   "metadata": {},
   "source": [
    "Before removing or capping outliers let's create a copy of these features so that after either removing or capping outliers we could visualize the change in the distribution"
   ]
  },
  {
   "cell_type": "code",
   "execution_count": 31,
   "id": "a5443023-b9a8-473a-913a-18f8918775f5",
   "metadata": {},
   "outputs": [],
   "source": [
    "temp_df = df[['city_development_index','experience','training_hours']].copy()"
   ]
  },
  {
   "cell_type": "code",
   "execution_count": 32,
   "id": "a83aeeea",
   "metadata": {},
   "outputs": [
    {
     "data": {
      "text/plain": [
       "<matplotlib.legend.Legend at 0x1ecc5a75f30>"
      ]
     },
     "execution_count": 32,
     "metadata": {},
     "output_type": "execute_result"
    },
    {
     "data": {
      "image/png": "[encoded data removed]",
      "text/plain": [
       "<Figure size 504x288 with 1 Axes>"
      ]
     },
     "metadata": {
      "needs_background": "light"
     },
     "output_type": "display_data"
    }
   ],
   "source": [
    "# let's do capping of outliers in city_development index feature\n",
    "q1 = temp_df['city_development_index'].quantile(0.25)\n",
    "q3 = temp_df['city_development_index'].quantile(0.75)\n",
    "\n",
    "IQR = q3-q1\n",
    "Lower_lmt_cdi = q1-(1.5*IQR)\n",
    "Upper_lmt_cdi = q3 + (1.5*IQR)\n",
    "\n",
    "temp_df['city_development_index'] = np.where(\n",
    "    temp_df['city_development_index'] > Upper_lmt_cdi,\n",
    "    Upper_lmt_cdi,\n",
    "    np.where(\n",
    "        temp_df['city_development_index'] < Lower_lmt_cdi,\n",
    "        Lower_lmt_cdi,\n",
    "        temp_df['city_development_index']\n",
    "    )\n",
    ")\n",
    "\n",
    "# Now lets visualize the change in the distribution before and after capping the outliers\n",
    "fig,ax = plt.subplots(figsize = (7,4))\n",
    "\n",
    "sns.kdeplot(df['city_development_index'],shade=True,color='red',label='Before').legend(loc='upper center')\n",
    "sns.kdeplot(temp_df['city_development_index'],shade=True,color='green',label='After').legend(loc='upper center')"
   ]
  },
  {
   "cell_type": "markdown",
   "id": "29bdc8ed-6d16-48e3-abfb-44e7162db05e",
   "metadata": {},
   "source": [
    "In training hours feature there are a lot of outliers so we need to compare the distributions both after removing or capping the outliers and then we will decide what to do"
   ]
  },
  {
   "cell_type": "code",
   "execution_count": 33,
   "id": "7c950422-bd89-48fb-b5f0-89cee67a5cc0",
   "metadata": {},
   "outputs": [],
   "source": [
    "q1 = temp_df['training_hours'].quantile(0.25)\n",
    "q3 = temp_df['training_hours'].quantile(0.75)\n",
    "\n",
    "IQR = q3-q1\n",
    "Lower_lmt_th = q1-(1.5*IQR)\n",
    "Upper_lmt_th = q3 + (1.5*IQR)"
   ]
  },
  {
   "cell_type": "code",
   "execution_count": 34,
   "id": "f5eb133f-f9f6-44b4-b35f-bdc80ae6ec63",
   "metadata": {},
   "outputs": [],
   "source": [
    "# Trimming the outliers\n",
    "temp_Df = temp_df.copy()\n",
    "temp_Df = temp_df[temp_df['training_hours'] < Upper_lmt_th]"
   ]
  },
  {
   "cell_type": "code",
   "execution_count": 35,
   "id": "3ffb2b03-042c-4255-9a17-daf1c743b3d6",
   "metadata": {},
   "outputs": [],
   "source": [
    "# Capping the outliers\n",
    "temp_df['training_hours'] = np.where(\n",
    "    temp_df['training_hours'] > Upper_lmt_th,\n",
    "    Upper_lmt_th,\n",
    "    np.where(\n",
    "        temp_df['training_hours'] < Lower_lmt_th,\n",
    "        Lower_lmt_th,\n",
    "        temp_df['training_hours']\n",
    "    )\n",
    ")"
   ]
  },
  {
   "cell_type": "code",
   "execution_count": 36,
   "id": "73b0861b-1ad4-4719-a693-39f728c6b280",
   "metadata": {
    "tags": []
   },
   "outputs": [
    {
     "data": {
      "text/plain": [
       "[Text(0.5, 1.0, 'Distribution comparision before and after Trimming')]"
      ]
     },
     "execution_count": 36,
     "metadata": {},
     "output_type": "execute_result"
    },
    {
     "data": {
      "image/png": "[encoded data removed]",
      "text/plain": [
       "<Figure size 1080x360 with 2 Axes>"
      ]
     },
     "metadata": {
      "needs_background": "light"
     },
     "output_type": "display_data"
    }
   ],
   "source": [
    "# Now lets visualize the change in the distribution before and after capping/trimming the outliers\n",
    "fig,ax = plt.subplots(1,2,figsize = (15,5))\n",
    "\n",
    "# Trimming vs Original distribution\n",
    "sns.kdeplot(df['training_hours'],shade=True,color='red',label='Before',ax = ax[0]).legend(loc='upper center')\n",
    "sns.kdeplot(temp_df['training_hours'],shade=True,color='green',label='After',ax = ax[0]).legend(loc='upper center')\n",
    "ax[0].set(title ='Distribution comparision before and after Capping')\n",
    "\n",
    "# Capping vs original distribution\n",
    "sns.kdeplot(df['training_hours'],shade=True,color='red',label='Before',ax = ax[1]).legend(loc='upper center')\n",
    "sns.kdeplot(temp_Df['training_hours'],shade=True,color='green',label='After',ax = ax[1]).legend(loc='upper center')\n",
    "ax[1].set(title ='Distribution comparision before and after Trimming')"
   ]
  },
  {
   "cell_type": "markdown",
   "id": "fcbd9d65-259c-487c-a264-13283e368d7c",
   "metadata": {},
   "source": [
    "For now let's move on with removing the outliers in the training_hours feature and capping the outliers in the city_development_index feature"
   ]
  },
  {
   "cell_type": "code",
   "execution_count": 49,
   "id": "e16e8b00-eb9e-4acb-b0cd-bb747ca75825",
   "metadata": {},
   "outputs": [
    {
     "data": {
      "text/plain": [
       "<AxesSubplot:xlabel='training_hours'>"
      ]
     },
     "execution_count": 49,
     "metadata": {},
     "output_type": "execute_result"
    },
    {
     "data": {
      "image/png": "[encoded data removed]",
      "text/plain": [
       "<Figure size 432x288 with 1 Axes>"
      ]
     },
     "metadata": {
      "needs_background": "light"
     },
     "output_type": "display_data"
    }
   ],
   "source": [
    "# Trimming the outliers\n",
    "df = df[df['training_hours'] < Upper_lmt_th]\n",
    "sns.boxplot(x = df['training_hours'])"
   ]
  },
  {
   "cell_type": "markdown",
   "id": "5db2ab3b-6609-4f43-90e6-8459bd8aa959",
   "metadata": {
    "jp-MarkdownHeadingCollapsed": true,
    "tags": []
   },
   "source": [
    "# Understanding data through visualizations\n",
    "\n",
    "1. Does individuals with relevent experience gets more job ?\n",
    "2. Does the individuals with full time enrollment gets more job than part time enrollment or no enrollment at all?\n",
    "3. Individuals with which education level get most jobs ?\n",
    "4. Does individuals with STEM backgroun get more jobs?\n",
    "5. In which company size inidividuals gets more jobs ?\n",
    "6. Which type of company hires the most ?"
   ]
  },
  {
   "cell_type": "code",
   "execution_count": 53,
   "id": "535696e7-9f2d-49cc-94ec-50acc9ee1dbe",
   "metadata": {},
   "outputs": [
    {
     "data": {
      "text/plain": [
       "[Text(0.5, 1.0, 'Company type Vs Number of jobs')]"
      ]
     },
     "execution_count": 53,
     "metadata": {},
     "output_type": "execute_result"
    },
    {
     "data": {
      "image/png": "[encoded data removed]",
      "text/plain": [
       "<Figure size 1224x1152 with 6 Axes>"
      ]
     },
     "metadata": {
      "needs_background": "light"
     },
     "output_type": "display_data"
    }
   ],
   "source": [
    "# Let's create subplots\n",
    "fig,ax = plt.subplots(3,2 ,figsize = (17,16))\n",
    "\n",
    "temp1 = df.groupby('relevent_experience')['target'].sum()\n",
    "temp2 = df.groupby('enrolled_university')['target'].sum()\n",
    "temp3 = df.groupby('education_level')['target'].sum()\n",
    "temp4 = df.groupby('Major_disciline')['target'].sum()\n",
    "temp5 = df.groupby('Company_Size')['target'].sum()\n",
    "temp6 = df.groupby('Company_Type')['target'].sum()\n",
    "\n",
    "sns.barplot(x = temp1.index,y = temp1,ax = ax[0][0],saturation=2).set(title='Relevent experience Vs Number of jobs')\n",
    "sns.barplot(x = temp2.index,y = temp2,ax = ax[0][1],saturation=2).set(title='Univesity enrollment Vs Number of jobs')\n",
    "sns.barplot(x = temp3.index,y = temp3,ax = ax[1][0],saturation=2).set(title='Education level Vs Number of jobs')\n",
    "sns.barplot(x = temp4.index,y = temp4,ax = ax[1][1],saturation=2).set(title='Major discipline Vs Number of jobs')\n",
    "sns.barplot(x = temp5.index,y = temp5,ax = ax[2][0],saturation=2).set(title='Company Size Vs Number of jobs')\n",
    "sns.barplot(x = temp6.index,y = temp6,ax = ax[2][1],saturation=2).set(title='Company type Vs Number of jobs')"
   ]
  },
  {
   "cell_type": "markdown",
   "id": "132e213a-7cd5-49fc-a52a-fa176de922fe",
   "metadata": {
    "tags": []
   },
   "source": [
    "# Data processing before Modeling\n",
    "\n",
    "- Encode the categorical variables"
   ]
  },
  {
   "cell_type": "code",
   "execution_count": 54,
   "id": "a62a24fc-3522-4659-b0ad-4634ad44cf20",
   "metadata": {},
   "outputs": [
    {
     "data": {
      "text/html": [
       "<div>\n",
       "<style scoped>\n",
       "    .dataframe tbody tr th:only-of-type {\n",
       "        vertical-align: middle;\n",
       "    }\n",
       "\n",
       "    .dataframe tbody tr th {\n",
       "        vertical-align: top;\n",
       "    }\n",
       "\n",
       "    .dataframe thead th {\n",
       "        text-align: right;\n",
       "    }\n",
       "</style>\n",
       "<table border=\"1\" class=\"dataframe\">\n",
       "  <thead>\n",
       "    <tr style=\"text-align: right;\">\n",
       "      <th></th>\n",
       "      <th>city_development_index</th>\n",
       "      <th>relevent_experience</th>\n",
       "      <th>enrolled_university</th>\n",
       "      <th>education_level</th>\n",
       "      <th>experience</th>\n",
       "      <th>training_hours</th>\n",
       "      <th>target</th>\n",
       "      <th>Gender</th>\n",
       "      <th>Major_disciline</th>\n",
       "      <th>Company_Size</th>\n",
       "      <th>Company_Type</th>\n",
       "    </tr>\n",
       "  </thead>\n",
       "  <tbody>\n",
       "    <tr>\n",
       "      <th>0</th>\n",
       "      <td>0.920</td>\n",
       "      <td>Has relevent experience</td>\n",
       "      <td>no_enrollment</td>\n",
       "      <td>Graduate</td>\n",
       "      <td>20.0</td>\n",
       "      <td>36.0</td>\n",
       "      <td>1.0</td>\n",
       "      <td>Male</td>\n",
       "      <td>STEM</td>\n",
       "      <td>100-500</td>\n",
       "      <td>Funded Startup</td>\n",
       "    </tr>\n",
       "    <tr>\n",
       "      <th>1</th>\n",
       "      <td>0.776</td>\n",
       "      <td>No relevent experience</td>\n",
       "      <td>no_enrollment</td>\n",
       "      <td>Graduate</td>\n",
       "      <td>15.0</td>\n",
       "      <td>47.0</td>\n",
       "      <td>0.0</td>\n",
       "      <td>Male</td>\n",
       "      <td>STEM</td>\n",
       "      <td>50-99</td>\n",
       "      <td>Pvt Ltd</td>\n",
       "    </tr>\n",
       "    <tr>\n",
       "      <th>2</th>\n",
       "      <td>0.624</td>\n",
       "      <td>No relevent experience</td>\n",
       "      <td>Full time course</td>\n",
       "      <td>Graduate</td>\n",
       "      <td>5.0</td>\n",
       "      <td>83.0</td>\n",
       "      <td>0.0</td>\n",
       "      <td>Male</td>\n",
       "      <td>STEM</td>\n",
       "      <td>100-500</td>\n",
       "      <td>Funded Startup</td>\n",
       "    </tr>\n",
       "    <tr>\n",
       "      <th>4</th>\n",
       "      <td>0.767</td>\n",
       "      <td>Has relevent experience</td>\n",
       "      <td>no_enrollment</td>\n",
       "      <td>Masters</td>\n",
       "      <td>20.0</td>\n",
       "      <td>8.0</td>\n",
       "      <td>0.0</td>\n",
       "      <td>Male</td>\n",
       "      <td>STEM</td>\n",
       "      <td>100-500</td>\n",
       "      <td>Funded Startup</td>\n",
       "    </tr>\n",
       "  </tbody>\n",
       "</table>\n",
       "</div>"
      ],
      "text/plain": [
       "   city_development_index      relevent_experience enrolled_university  \\\n",
       "0                   0.920  Has relevent experience       no_enrollment   \n",
       "1                   0.776   No relevent experience       no_enrollment   \n",
       "2                   0.624   No relevent experience    Full time course   \n",
       "4                   0.767  Has relevent experience       no_enrollment   \n",
       "\n",
       "  education_level  experience  training_hours  target Gender Major_disciline  \\\n",
       "0        Graduate        20.0            36.0     1.0   Male            STEM   \n",
       "1        Graduate        15.0            47.0     0.0   Male            STEM   \n",
       "2        Graduate         5.0            83.0     0.0   Male            STEM   \n",
       "4         Masters        20.0             8.0     0.0   Male            STEM   \n",
       "\n",
       "  Company_Size    Company_Type  \n",
       "0      100-500  Funded Startup  \n",
       "1        50-99         Pvt Ltd  \n",
       "2      100-500  Funded Startup  \n",
       "4      100-500  Funded Startup  "
      ]
     },
     "execution_count": 54,
     "metadata": {},
     "output_type": "execute_result"
    }
   ],
   "source": [
    "df.head(4)"
   ]
  },
  {
   "cell_type": "code",
   "execution_count": 58,
   "id": "53a6f2d3-ac62-4fa6-91a9-b7b5bca2aa1d",
   "metadata": {},
   "outputs": [
    {
     "data": {
      "text/html": [
       "<div>\n",
       "<style scoped>\n",
       "    .dataframe tbody tr th:only-of-type {\n",
       "        vertical-align: middle;\n",
       "    }\n",
       "\n",
       "    .dataframe tbody tr th {\n",
       "        vertical-align: top;\n",
       "    }\n",
       "\n",
       "    .dataframe thead th {\n",
       "        text-align: right;\n",
       "    }\n",
       "</style>\n",
       "<table border=\"1\" class=\"dataframe\">\n",
       "  <thead>\n",
       "    <tr style=\"text-align: right;\">\n",
       "      <th></th>\n",
       "      <th>relevent_experience</th>\n",
       "      <th>enrolled_university</th>\n",
       "      <th>education_level</th>\n",
       "      <th>Gender</th>\n",
       "      <th>Major_disciline</th>\n",
       "      <th>Company_Size</th>\n",
       "      <th>Company_Type</th>\n",
       "    </tr>\n",
       "  </thead>\n",
       "  <tbody>\n",
       "    <tr>\n",
       "      <th>0</th>\n",
       "      <td>Has relevent experience</td>\n",
       "      <td>no_enrollment</td>\n",
       "      <td>Graduate</td>\n",
       "      <td>Male</td>\n",
       "      <td>STEM</td>\n",
       "      <td>100-500</td>\n",
       "      <td>Funded Startup</td>\n",
       "    </tr>\n",
       "    <tr>\n",
       "      <th>1</th>\n",
       "      <td>No relevent experience</td>\n",
       "      <td>no_enrollment</td>\n",
       "      <td>Graduate</td>\n",
       "      <td>Male</td>\n",
       "      <td>STEM</td>\n",
       "      <td>50-99</td>\n",
       "      <td>Pvt Ltd</td>\n",
       "    </tr>\n",
       "    <tr>\n",
       "      <th>2</th>\n",
       "      <td>No relevent experience</td>\n",
       "      <td>Full time course</td>\n",
       "      <td>Graduate</td>\n",
       "      <td>Male</td>\n",
       "      <td>STEM</td>\n",
       "      <td>100-500</td>\n",
       "      <td>Funded Startup</td>\n",
       "    </tr>\n",
       "    <tr>\n",
       "      <th>4</th>\n",
       "      <td>Has relevent experience</td>\n",
       "      <td>no_enrollment</td>\n",
       "      <td>Masters</td>\n",
       "      <td>Male</td>\n",
       "      <td>STEM</td>\n",
       "      <td>100-500</td>\n",
       "      <td>Funded Startup</td>\n",
       "    </tr>\n",
       "    <tr>\n",
       "      <th>5</th>\n",
       "      <td>Has relevent experience</td>\n",
       "      <td>Part time course</td>\n",
       "      <td>Graduate</td>\n",
       "      <td>Male</td>\n",
       "      <td>STEM</td>\n",
       "      <td>50-99</td>\n",
       "      <td>Funded Startup</td>\n",
       "    </tr>\n",
       "  </tbody>\n",
       "</table>\n",
       "</div>"
      ],
      "text/plain": [
       "       relevent_experience enrolled_university education_level Gender  \\\n",
       "0  Has relevent experience       no_enrollment        Graduate   Male   \n",
       "1   No relevent experience       no_enrollment        Graduate   Male   \n",
       "2   No relevent experience    Full time course        Graduate   Male   \n",
       "4  Has relevent experience       no_enrollment         Masters   Male   \n",
       "5  Has relevent experience    Part time course        Graduate   Male   \n",
       "\n",
       "  Major_disciline Company_Size    Company_Type  \n",
       "0            STEM      100-500  Funded Startup  \n",
       "1            STEM        50-99         Pvt Ltd  \n",
       "2            STEM      100-500  Funded Startup  \n",
       "4            STEM      100-500  Funded Startup  \n",
       "5            STEM        50-99  Funded Startup  "
      ]
     },
     "execution_count": 58,
     "metadata": {},
     "output_type": "execute_result"
    }
   ],
   "source": [
    "categorical_cols = df.select_dtypes(include='object')\n",
    "categorical_cols.head(5)"
   ]
  },
  {
   "cell_type": "code",
   "execution_count": 59,
   "id": "0d7528a5-744c-4b7d-9d35-94e5badfe0da",
   "metadata": {},
   "outputs": [],
   "source": [
    "# Creating 2d numpy array\n",
    "temp_relev_exp = np.array(categorical_cols['relevent_experience']).reshape(-1, 1)\n",
    "temp_enrolled_uni = np.array(categorical_cols['enrolled_university']).reshape(-1, 1)\n",
    "temp_edu_level = np.array(categorical_cols['education_level']).reshape(-1, 1)\n",
    "temp_Gender = np.array(categorical_cols['Gender']).reshape(-1, 1)\n",
    "temp_Major_disciline = np.array(categorical_cols['Major_disciline']).reshape(-1, 1)\n",
    "temp_Company_Type = np.array(categorical_cols['Company_Type']).reshape(-1, 1)\n",
    "\n",
    "\n",
    "# Creating objects of OneHotEncoder class\n",
    "encoder1 = OneHotEncoder(sparse=False)\n",
    "encoder2 = OneHotEncoder(sparse=False)\n",
    "encoder3 = OneHotEncoder(sparse=False)\n",
    "encoder4 = OneHotEncoder(sparse=False)\n",
    "encoder5 = OneHotEncoder(sparse=False)\n",
    "encoder6 = OneHotEncoder(sparse=False)\n",
    "\n",
    "# Lets encode the values\n",
    "encoded_relv_evp = encoder1.fit_transform(temp_relev_exp)\n",
    "encoded_enrolled_uni = encoder2.fit_transform(temp_enrolled_uni)\n",
    "encoded_edu_level = encoder3.fit_transform(temp_edu_level)\n",
    "encoded_gender = encoder4.fit_transform(temp_Gender)\n",
    "encoded_Major_disciline = encoder5.fit_transform(temp_Major_disciline)\n",
    "encoded_Company_Type = encoder6.fit_transform(temp_Company_Type)"
   ]
  },
  {
   "cell_type": "code",
   "execution_count": 64,
   "id": "2b793b2a-2110-41d9-a7fb-a021c0e0c526",
   "metadata": {},
   "outputs": [
    {
     "data": {
      "text/html": [
       "<div>\n",
       "<style scoped>\n",
       "    .dataframe tbody tr th:only-of-type {\n",
       "        vertical-align: middle;\n",
       "    }\n",
       "\n",
       "    .dataframe tbody tr th {\n",
       "        vertical-align: top;\n",
       "    }\n",
       "\n",
       "    .dataframe thead th {\n",
       "        text-align: right;\n",
       "    }\n",
       "</style>\n",
       "<table border=\"1\" class=\"dataframe\">\n",
       "  <thead>\n",
       "    <tr style=\"text-align: right;\">\n",
       "      <th></th>\n",
       "      <th>0</th>\n",
       "      <th>1</th>\n",
       "      <th>2</th>\n",
       "      <th>3</th>\n",
       "    </tr>\n",
       "  </thead>\n",
       "  <tbody>\n",
       "    <tr>\n",
       "      <th>0</th>\n",
       "      <td>0.0</td>\n",
       "      <td>1.0</td>\n",
       "      <td>0.0</td>\n",
       "      <td>0.0</td>\n",
       "    </tr>\n",
       "    <tr>\n",
       "      <th>1</th>\n",
       "      <td>0.0</td>\n",
       "      <td>1.0</td>\n",
       "      <td>0.0</td>\n",
       "      <td>0.0</td>\n",
       "    </tr>\n",
       "    <tr>\n",
       "      <th>2</th>\n",
       "      <td>0.0</td>\n",
       "      <td>1.0</td>\n",
       "      <td>0.0</td>\n",
       "      <td>0.0</td>\n",
       "    </tr>\n",
       "    <tr>\n",
       "      <th>3</th>\n",
       "      <td>0.0</td>\n",
       "      <td>1.0</td>\n",
       "      <td>0.0</td>\n",
       "      <td>0.0</td>\n",
       "    </tr>\n",
       "    <tr>\n",
       "      <th>4</th>\n",
       "      <td>0.0</td>\n",
       "      <td>1.0</td>\n",
       "      <td>0.0</td>\n",
       "      <td>0.0</td>\n",
       "    </tr>\n",
       "    <tr>\n",
       "      <th>...</th>\n",
       "      <td>...</td>\n",
       "      <td>...</td>\n",
       "      <td>...</td>\n",
       "      <td>...</td>\n",
       "    </tr>\n",
       "    <tr>\n",
       "      <th>16306</th>\n",
       "      <td>0.0</td>\n",
       "      <td>0.0</td>\n",
       "      <td>0.0</td>\n",
       "      <td>1.0</td>\n",
       "    </tr>\n",
       "    <tr>\n",
       "      <th>16307</th>\n",
       "      <td>0.0</td>\n",
       "      <td>0.0</td>\n",
       "      <td>0.0</td>\n",
       "      <td>1.0</td>\n",
       "    </tr>\n",
       "    <tr>\n",
       "      <th>16308</th>\n",
       "      <td>0.0</td>\n",
       "      <td>0.0</td>\n",
       "      <td>0.0</td>\n",
       "      <td>1.0</td>\n",
       "    </tr>\n",
       "    <tr>\n",
       "      <th>16309</th>\n",
       "      <td>0.0</td>\n",
       "      <td>0.0</td>\n",
       "      <td>0.0</td>\n",
       "      <td>1.0</td>\n",
       "    </tr>\n",
       "    <tr>\n",
       "      <th>16310</th>\n",
       "      <td>0.0</td>\n",
       "      <td>0.0</td>\n",
       "      <td>0.0</td>\n",
       "      <td>1.0</td>\n",
       "    </tr>\n",
       "  </tbody>\n",
       "</table>\n",
       "<p>16311 rows × 4 columns</p>\n",
       "</div>"
      ],
      "text/plain": [
       "         0    1    2    3\n",
       "0      0.0  1.0  0.0  0.0\n",
       "1      0.0  1.0  0.0  0.0\n",
       "2      0.0  1.0  0.0  0.0\n",
       "3      0.0  1.0  0.0  0.0\n",
       "4      0.0  1.0  0.0  0.0\n",
       "...    ...  ...  ...  ...\n",
       "16306  0.0  0.0  0.0  1.0\n",
       "16307  0.0  0.0  0.0  1.0\n",
       "16308  0.0  0.0  0.0  1.0\n",
       "16309  0.0  0.0  0.0  1.0\n",
       "16310  0.0  0.0  0.0  1.0\n",
       "\n",
       "[16311 rows x 4 columns]"
      ]
     },
     "execution_count": 64,
     "metadata": {},
     "output_type": "execute_result"
    }
   ],
   "source": [
    "encoded_gender"
   ]
  },
  {
   "cell_type": "code",
   "execution_count": 63,
   "id": "a3024e01-7b7f-4bca-b2d7-c63d72c47b5d",
   "metadata": {},
   "outputs": [
    {
     "ename": "ValueError",
     "evalue": "Length mismatch: Expected axis has 4 elements, new values have 3 elements",
     "output_type": "error",
     "traceback": [
      "\u001b[1;31m---------------------------------------------------------------------------\u001b[0m",
      "\u001b[1;31mValueError\u001b[0m                                Traceback (most recent call last)",
      "Input \u001b[1;32mIn [63]\u001b[0m, in \u001b[0;36m<cell line: 12>\u001b[1;34m()\u001b[0m\n\u001b[0;32m      9\u001b[0m encoded_edu_level\u001b[38;5;241m.\u001b[39mcolumns \u001b[38;5;241m=\u001b[39m [\u001b[38;5;124m'\u001b[39m\u001b[38;5;124mGraduate\u001b[39m\u001b[38;5;124m'\u001b[39m, \u001b[38;5;124m'\u001b[39m\u001b[38;5;124mHigh School\u001b[39m\u001b[38;5;124m'\u001b[39m, \u001b[38;5;124m'\u001b[39m\u001b[38;5;124mMasters\u001b[39m\u001b[38;5;124m'\u001b[39m,\u001b[38;5;124m'\u001b[39m\u001b[38;5;124mPhd\u001b[39m\u001b[38;5;124m'\u001b[39m,\u001b[38;5;124m'\u001b[39m\u001b[38;5;124mPrimary School\u001b[39m\u001b[38;5;124m'\u001b[39m]\n\u001b[0;32m     11\u001b[0m encoded_gender \u001b[38;5;241m=\u001b[39m pd\u001b[38;5;241m.\u001b[39mDataFrame(encoded_gender)\n\u001b[1;32m---> 12\u001b[0m encoded_gender\u001b[38;5;241m.\u001b[39mcolumns \u001b[38;5;241m=\u001b[39m [\u001b[38;5;124m'\u001b[39m\u001b[38;5;124mFemale\u001b[39m\u001b[38;5;124m'\u001b[39m, \u001b[38;5;124m'\u001b[39m\u001b[38;5;124mMale\u001b[39m\u001b[38;5;124m'\u001b[39m, \u001b[38;5;124m'\u001b[39m\u001b[38;5;124mOther\u001b[39m\u001b[38;5;124m'\u001b[39m]\n\u001b[0;32m     14\u001b[0m encoded_Major_disciline \u001b[38;5;241m=\u001b[39m pd\u001b[38;5;241m.\u001b[39mDataFrame(encoded_Major_disciline)\n\u001b[0;32m     15\u001b[0m encoded_Major_disciline\u001b[38;5;241m.\u001b[39mcolumns \u001b[38;5;241m=\u001b[39m [\u001b[38;5;124m'\u001b[39m\u001b[38;5;124mArts\u001b[39m\u001b[38;5;124m'\u001b[39m, \u001b[38;5;124m'\u001b[39m\u001b[38;5;124mBusiness Degree\u001b[39m\u001b[38;5;124m'\u001b[39m, \u001b[38;5;124m'\u001b[39m\u001b[38;5;124mHumanities\u001b[39m\u001b[38;5;124m'\u001b[39m, \u001b[38;5;124m'\u001b[39m\u001b[38;5;124mNo Major\u001b[39m\u001b[38;5;124m'\u001b[39m, \u001b[38;5;124m'\u001b[39m\u001b[38;5;124mOther\u001b[39m\u001b[38;5;124m'\u001b[39m,\u001b[38;5;124m'\u001b[39m\u001b[38;5;124mSTEM\u001b[39m\u001b[38;5;124m'\u001b[39m]\n",
      "File \u001b[1;32m~\\AppData\\Local\\Programs\\Python\\Python310\\lib\\site-packages\\pandas\\core\\generic.py:5596\u001b[0m, in \u001b[0;36mNDFrame.__setattr__\u001b[1;34m(self, name, value)\u001b[0m\n\u001b[0;32m   5594\u001b[0m \u001b[38;5;28;01mtry\u001b[39;00m:\n\u001b[0;32m   5595\u001b[0m     \u001b[38;5;28mobject\u001b[39m\u001b[38;5;241m.\u001b[39m\u001b[38;5;21m__getattribute__\u001b[39m(\u001b[38;5;28mself\u001b[39m, name)\n\u001b[1;32m-> 5596\u001b[0m     \u001b[38;5;28;01mreturn\u001b[39;00m \u001b[38;5;28;43mobject\u001b[39;49m\u001b[38;5;241;43m.\u001b[39;49m\u001b[38;5;21;43m__setattr__\u001b[39;49m\u001b[43m(\u001b[49m\u001b[38;5;28;43mself\u001b[39;49m\u001b[43m,\u001b[49m\u001b[43m \u001b[49m\u001b[43mname\u001b[49m\u001b[43m,\u001b[49m\u001b[43m \u001b[49m\u001b[43mvalue\u001b[49m\u001b[43m)\u001b[49m\n\u001b[0;32m   5597\u001b[0m \u001b[38;5;28;01mexcept\u001b[39;00m \u001b[38;5;167;01mAttributeError\u001b[39;00m:\n\u001b[0;32m   5598\u001b[0m     \u001b[38;5;28;01mpass\u001b[39;00m\n",
      "File \u001b[1;32m~\\AppData\\Local\\Programs\\Python\\Python310\\lib\\site-packages\\pandas\\_libs\\properties.pyx:70\u001b[0m, in \u001b[0;36mpandas._libs.properties.AxisProperty.__set__\u001b[1;34m()\u001b[0m\n",
      "File \u001b[1;32m~\\AppData\\Local\\Programs\\Python\\Python310\\lib\\site-packages\\pandas\\core\\generic.py:769\u001b[0m, in \u001b[0;36mNDFrame._set_axis\u001b[1;34m(self, axis, labels)\u001b[0m\n\u001b[0;32m    767\u001b[0m \u001b[38;5;28;01mdef\u001b[39;00m \u001b[38;5;21m_set_axis\u001b[39m(\u001b[38;5;28mself\u001b[39m, axis: \u001b[38;5;28mint\u001b[39m, labels: Index) \u001b[38;5;241m-\u001b[39m\u001b[38;5;241m>\u001b[39m \u001b[38;5;28;01mNone\u001b[39;00m:\n\u001b[0;32m    768\u001b[0m     labels \u001b[38;5;241m=\u001b[39m ensure_index(labels)\n\u001b[1;32m--> 769\u001b[0m     \u001b[38;5;28;43mself\u001b[39;49m\u001b[38;5;241;43m.\u001b[39;49m\u001b[43m_mgr\u001b[49m\u001b[38;5;241;43m.\u001b[39;49m\u001b[43mset_axis\u001b[49m\u001b[43m(\u001b[49m\u001b[43maxis\u001b[49m\u001b[43m,\u001b[49m\u001b[43m \u001b[49m\u001b[43mlabels\u001b[49m\u001b[43m)\u001b[49m\n\u001b[0;32m    770\u001b[0m     \u001b[38;5;28mself\u001b[39m\u001b[38;5;241m.\u001b[39m_clear_item_cache()\n",
      "File \u001b[1;32m~\\AppData\\Local\\Programs\\Python\\Python310\\lib\\site-packages\\pandas\\core\\internals\\managers.py:214\u001b[0m, in \u001b[0;36mBaseBlockManager.set_axis\u001b[1;34m(self, axis, new_labels)\u001b[0m\n\u001b[0;32m    212\u001b[0m \u001b[38;5;28;01mdef\u001b[39;00m \u001b[38;5;21mset_axis\u001b[39m(\u001b[38;5;28mself\u001b[39m, axis: \u001b[38;5;28mint\u001b[39m, new_labels: Index) \u001b[38;5;241m-\u001b[39m\u001b[38;5;241m>\u001b[39m \u001b[38;5;28;01mNone\u001b[39;00m:\n\u001b[0;32m    213\u001b[0m     \u001b[38;5;66;03m# Caller is responsible for ensuring we have an Index object.\u001b[39;00m\n\u001b[1;32m--> 214\u001b[0m     \u001b[38;5;28;43mself\u001b[39;49m\u001b[38;5;241;43m.\u001b[39;49m\u001b[43m_validate_set_axis\u001b[49m\u001b[43m(\u001b[49m\u001b[43maxis\u001b[49m\u001b[43m,\u001b[49m\u001b[43m \u001b[49m\u001b[43mnew_labels\u001b[49m\u001b[43m)\u001b[49m\n\u001b[0;32m    215\u001b[0m     \u001b[38;5;28mself\u001b[39m\u001b[38;5;241m.\u001b[39maxes[axis] \u001b[38;5;241m=\u001b[39m new_labels\n",
      "File \u001b[1;32m~\\AppData\\Local\\Programs\\Python\\Python310\\lib\\site-packages\\pandas\\core\\internals\\base.py:69\u001b[0m, in \u001b[0;36mDataManager._validate_set_axis\u001b[1;34m(self, axis, new_labels)\u001b[0m\n\u001b[0;32m     66\u001b[0m     \u001b[38;5;28;01mpass\u001b[39;00m\n\u001b[0;32m     68\u001b[0m \u001b[38;5;28;01melif\u001b[39;00m new_len \u001b[38;5;241m!=\u001b[39m old_len:\n\u001b[1;32m---> 69\u001b[0m     \u001b[38;5;28;01mraise\u001b[39;00m \u001b[38;5;167;01mValueError\u001b[39;00m(\n\u001b[0;32m     70\u001b[0m         \u001b[38;5;124mf\u001b[39m\u001b[38;5;124m\"\u001b[39m\u001b[38;5;124mLength mismatch: Expected axis has \u001b[39m\u001b[38;5;132;01m{\u001b[39;00mold_len\u001b[38;5;132;01m}\u001b[39;00m\u001b[38;5;124m elements, new \u001b[39m\u001b[38;5;124m\"\u001b[39m\n\u001b[0;32m     71\u001b[0m         \u001b[38;5;124mf\u001b[39m\u001b[38;5;124m\"\u001b[39m\u001b[38;5;124mvalues have \u001b[39m\u001b[38;5;132;01m{\u001b[39;00mnew_len\u001b[38;5;132;01m}\u001b[39;00m\u001b[38;5;124m elements\u001b[39m\u001b[38;5;124m\"\u001b[39m\n\u001b[0;32m     72\u001b[0m     )\n",
      "\u001b[1;31mValueError\u001b[0m: Length mismatch: Expected axis has 4 elements, new values have 3 elements"
     ]
    }
   ],
   "source": [
    "# Creating dataframes and adding columns (encoder3.categories_)\n",
    "encoded_relv_evp = pd.DataFrame(encoded_relv_evp)\n",
    "encoded_relv_evp.columns = ['Has relevent experience', 'No relevent experience']\n",
    "\n",
    "encoded_enrolled_uni = pd.DataFrame(encoded_enrolled_uni)\n",
    "encoded_enrolled_uni.columns = ['Full time', 'Part time', 'no_enrollment']\n",
    "\n",
    "encoded_edu_level = pd.DataFrame(encoded_edu_level)\n",
    "encoded_edu_level.columns = ['Graduate', 'High School', 'Masters','Phd','Primary School']\n",
    "\n",
    "encoded_gender = pd.DataFrame(encoded_gender)\n",
    "encoded_gender.columns = ['Female', 'Male', 'Other']\n",
    "\n",
    "encoded_Major_disciline = pd.DataFrame(encoded_Major_disciline)\n",
    "encoded_Major_disciline.columns = ['Arts', 'Business Degree', 'Humanities', 'No Major', 'Other','STEM']\n",
    "\n",
    "encoded_Company_Type = pd.DataFrame(encoded_Company_Type)\n",
    "encoded_Company_Type.columns = ['Early Stage Startup', 'Funded Startup', 'NGO', 'Other','Public Sector', 'Pvt Ltd']\n",
    "\n",
    "# Concatinating all the dataframes\n",
    "encoded_df = pd.concat([encoded_relv_evp, encoded_enrolled_uni, encoded_edu_level, encoded_gender,\n",
    "                        encoded_Major_disciline,encoded_Company_Type],axis=1)"
   ]
  },
  {
   "cell_type": "code",
   "execution_count": 65,
   "id": "ba31d2da-042f-4cc2-8106-8ef38d1e3e52",
   "metadata": {},
   "outputs": [
    {
     "data": {
      "text/plain": [
       "[array(['Female', 'Male', 'Other', nan], dtype=object)]"
      ]
     },
     "execution_count": 65,
     "metadata": {},
     "output_type": "execute_result"
    }
   ],
   "source": [
    "encoder4.categories_"
   ]
  },
  {
   "cell_type": "code",
   "execution_count": 25,
   "id": "4d61241f-8b26-4a42-b4ee-a92d5d51a91d",
   "metadata": {},
   "outputs": [
    {
     "data": {
      "text/html": [
       "<div>\n",
       "<style scoped>\n",
       "    .dataframe tbody tr th:only-of-type {\n",
       "        vertical-align: middle;\n",
       "    }\n",
       "\n",
       "    .dataframe tbody tr th {\n",
       "        vertical-align: top;\n",
       "    }\n",
       "\n",
       "    .dataframe thead th {\n",
       "        text-align: right;\n",
       "    }\n",
       "</style>\n",
       "<table border=\"1\" class=\"dataframe\">\n",
       "  <thead>\n",
       "    <tr style=\"text-align: right;\">\n",
       "      <th></th>\n",
       "      <th>city_development_index</th>\n",
       "      <th>relevent_experience</th>\n",
       "      <th>enrolled_university</th>\n",
       "      <th>education_level</th>\n",
       "      <th>experience</th>\n",
       "      <th>training_hours</th>\n",
       "      <th>target</th>\n",
       "      <th>Female</th>\n",
       "      <th>Male</th>\n",
       "      <th>Other</th>\n",
       "      <th>...</th>\n",
       "      <th>Humanities</th>\n",
       "      <th>No Major</th>\n",
       "      <th>Other</th>\n",
       "      <th>STEM</th>\n",
       "      <th>Early Stage Startup</th>\n",
       "      <th>Funded Startup</th>\n",
       "      <th>NGO</th>\n",
       "      <th>Other</th>\n",
       "      <th>Public Sector</th>\n",
       "      <th>Pvt Ltd</th>\n",
       "    </tr>\n",
       "  </thead>\n",
       "  <tbody>\n",
       "    <tr>\n",
       "      <th>0</th>\n",
       "      <td>0.920</td>\n",
       "      <td>Has relevent experience</td>\n",
       "      <td>no_enrollment</td>\n",
       "      <td>Graduate</td>\n",
       "      <td>20.0</td>\n",
       "      <td>36.0</td>\n",
       "      <td>1.0</td>\n",
       "      <td>0.0</td>\n",
       "      <td>1.0</td>\n",
       "      <td>0.0</td>\n",
       "      <td>...</td>\n",
       "      <td>0.0</td>\n",
       "      <td>0.0</td>\n",
       "      <td>0.0</td>\n",
       "      <td>1.0</td>\n",
       "      <td>0.0</td>\n",
       "      <td>1.0</td>\n",
       "      <td>0.0</td>\n",
       "      <td>0.0</td>\n",
       "      <td>0.0</td>\n",
       "      <td>0.0</td>\n",
       "    </tr>\n",
       "    <tr>\n",
       "      <th>1</th>\n",
       "      <td>0.776</td>\n",
       "      <td>No relevent experience</td>\n",
       "      <td>no_enrollment</td>\n",
       "      <td>Graduate</td>\n",
       "      <td>15.0</td>\n",
       "      <td>47.0</td>\n",
       "      <td>0.0</td>\n",
       "      <td>0.0</td>\n",
       "      <td>1.0</td>\n",
       "      <td>0.0</td>\n",
       "      <td>...</td>\n",
       "      <td>0.0</td>\n",
       "      <td>0.0</td>\n",
       "      <td>0.0</td>\n",
       "      <td>1.0</td>\n",
       "      <td>0.0</td>\n",
       "      <td>0.0</td>\n",
       "      <td>0.0</td>\n",
       "      <td>0.0</td>\n",
       "      <td>0.0</td>\n",
       "      <td>1.0</td>\n",
       "    </tr>\n",
       "    <tr>\n",
       "      <th>2</th>\n",
       "      <td>0.624</td>\n",
       "      <td>No relevent experience</td>\n",
       "      <td>Full time course</td>\n",
       "      <td>Graduate</td>\n",
       "      <td>5.0</td>\n",
       "      <td>83.0</td>\n",
       "      <td>0.0</td>\n",
       "      <td>0.0</td>\n",
       "      <td>1.0</td>\n",
       "      <td>0.0</td>\n",
       "      <td>...</td>\n",
       "      <td>0.0</td>\n",
       "      <td>0.0</td>\n",
       "      <td>0.0</td>\n",
       "      <td>1.0</td>\n",
       "      <td>0.0</td>\n",
       "      <td>1.0</td>\n",
       "      <td>0.0</td>\n",
       "      <td>0.0</td>\n",
       "      <td>0.0</td>\n",
       "      <td>0.0</td>\n",
       "    </tr>\n",
       "    <tr>\n",
       "      <th>4</th>\n",
       "      <td>0.767</td>\n",
       "      <td>Has relevent experience</td>\n",
       "      <td>no_enrollment</td>\n",
       "      <td>Masters</td>\n",
       "      <td>20.0</td>\n",
       "      <td>8.0</td>\n",
       "      <td>0.0</td>\n",
       "      <td>0.0</td>\n",
       "      <td>1.0</td>\n",
       "      <td>0.0</td>\n",
       "      <td>...</td>\n",
       "      <td>0.0</td>\n",
       "      <td>0.0</td>\n",
       "      <td>0.0</td>\n",
       "      <td>1.0</td>\n",
       "      <td>0.0</td>\n",
       "      <td>1.0</td>\n",
       "      <td>0.0</td>\n",
       "      <td>0.0</td>\n",
       "      <td>0.0</td>\n",
       "      <td>0.0</td>\n",
       "    </tr>\n",
       "    <tr>\n",
       "      <th>5</th>\n",
       "      <td>0.764</td>\n",
       "      <td>Has relevent experience</td>\n",
       "      <td>Part time course</td>\n",
       "      <td>Graduate</td>\n",
       "      <td>11.0</td>\n",
       "      <td>24.0</td>\n",
       "      <td>1.0</td>\n",
       "      <td>0.0</td>\n",
       "      <td>1.0</td>\n",
       "      <td>0.0</td>\n",
       "      <td>...</td>\n",
       "      <td>0.0</td>\n",
       "      <td>0.0</td>\n",
       "      <td>0.0</td>\n",
       "      <td>1.0</td>\n",
       "      <td>0.0</td>\n",
       "      <td>1.0</td>\n",
       "      <td>0.0</td>\n",
       "      <td>0.0</td>\n",
       "      <td>0.0</td>\n",
       "      <td>0.0</td>\n",
       "    </tr>\n",
       "  </tbody>\n",
       "</table>\n",
       "<p>5 rows × 22 columns</p>\n",
       "</div>"
      ],
      "text/plain": [
       "   city_development_index      relevent_experience enrolled_university  \\\n",
       "0                   0.920  Has relevent experience       no_enrollment   \n",
       "1                   0.776   No relevent experience       no_enrollment   \n",
       "2                   0.624   No relevent experience    Full time course   \n",
       "4                   0.767  Has relevent experience       no_enrollment   \n",
       "5                   0.764  Has relevent experience    Part time course   \n",
       "\n",
       "  education_level  experience  training_hours  target  Female  Male  Other  \\\n",
       "0        Graduate        20.0            36.0     1.0     0.0   1.0    0.0   \n",
       "1        Graduate        15.0            47.0     0.0     0.0   1.0    0.0   \n",
       "2        Graduate         5.0            83.0     0.0     0.0   1.0    0.0   \n",
       "4         Masters        20.0             8.0     0.0     0.0   1.0    0.0   \n",
       "5        Graduate        11.0            24.0     1.0     0.0   1.0    0.0   \n",
       "\n",
       "   ...  Humanities  No Major  Other  STEM  Early Stage Startup  \\\n",
       "0  ...         0.0       0.0    0.0   1.0                  0.0   \n",
       "1  ...         0.0       0.0    0.0   1.0                  0.0   \n",
       "2  ...         0.0       0.0    0.0   1.0                  0.0   \n",
       "4  ...         0.0       0.0    0.0   1.0                  0.0   \n",
       "5  ...         0.0       0.0    0.0   1.0                  0.0   \n",
       "\n",
       "   Funded Startup  NGO  Other  Public Sector  Pvt Ltd  \n",
       "0             1.0  0.0    0.0            0.0      0.0  \n",
       "1             0.0  0.0    0.0            0.0      1.0  \n",
       "2             1.0  0.0    0.0            0.0      0.0  \n",
       "4             1.0  0.0    0.0            0.0      0.0  \n",
       "5             1.0  0.0    0.0            0.0      0.0  \n",
       "\n",
       "[5 rows x 22 columns]"
      ]
     },
     "execution_count": 25,
     "metadata": {},
     "output_type": "execute_result"
    }
   ],
   "source": [
    "# Concatinating encoded_df and df \n",
    "df = df.drop(['gender','major_discipline','company_size','company_type'],axis = 1)\n",
    "df = pd.concat([df,encoded_df],axis=1)\n",
    "df.head(5)"
   ]
  },
  {
   "cell_type": "markdown",
   "id": "5643d11c-b398-48d0-b68e-aa2b1045b4cd",
   "metadata": {},
   "source": [
    "# Data analysis part 2\n"
   ]
  },
  {
   "cell_type": "code",
   "execution_count": null,
   "id": "eaf800a9-dac7-42ae-abdc-f68c1a00c0b9",
   "metadata": {},
   "outputs": [],
   "source": []
  },
  {
   "cell_type": "code",
   "execution_count": null,
   "id": "7eb20eef-e295-4a97-8c13-7e2a0b6b30a8",
   "metadata": {},
   "outputs": [],
   "source": []
  },
  {
   "cell_type": "code",
   "execution_count": null,
   "id": "2d7389fa-d2ee-4969-b924-9315742ad51b",
   "metadata": {},
   "outputs": [],
   "source": []
  },
  {
   "cell_type": "code",
   "execution_count": null,
   "id": "a98a93ae-d5b1-453c-bf5a-34a2265ac01d",
   "metadata": {},
   "outputs": [],
   "source": []
  },
  {
   "cell_type": "code",
   "execution_count": 29,
   "id": "f20ca2a4",
   "metadata": {},
   "outputs": [],
   "source": [
    "# Encoding company size\n",
    "map_comp_size = {'<10':0,'10/49':1,'50-99':2,'100-500':3,'500-999':4,'1000-4999':5,'5000-9999':6,'10000+':7 }\n",
    "df['company_size'] = df['company_size'].map(map_comp_size)"
   ]
  },
  {
   "cell_type": "code",
   "execution_count": 20,
   "id": "62801d5e",
   "metadata": {},
   "outputs": [],
   "source": [
    "# Encoding enrolled_university column \n",
    "\n",
    "map_eu = {'Full time course':2 ,'Part time course':1, 'no_enrollment':0}\n",
    "df['enrolled_university'] = df['enrolled_university'].map(map_eu)"
   ]
  },
  {
   "cell_type": "code",
   "execution_count": 21,
   "id": "a374f791",
   "metadata": {},
   "outputs": [],
   "source": [
    "# Encoding education_level column\n",
    "\n",
    "map_el = {'Primary School':0, 'High School':1, 'Graduate':2,'Masters':3,'Phd':4}\n",
    "df['education_level'] = df['education_level'].map(map_el)"
   ]
  },
  {
   "cell_type": "code",
   "execution_count": 22,
   "id": "b95986b8",
   "metadata": {},
   "outputs": [],
   "source": [
    "# Encoding relevant experience column \n",
    "\n",
    "map_re = {'Has relevent experience':1,'No relevent experience':0}\n",
    "df['relevent_experience'] = df['relevent_experience'].map(map_re)"
   ]
  },
  {
   "cell_type": "code",
   "execution_count": 23,
   "id": "bccf41e3",
   "metadata": {},
   "outputs": [],
   "source": []
  },
  {
   "cell_type": "code",
   "execution_count": null,
   "id": "c870a31d-ad44-4fed-a4b4-dbf70ab16d80",
   "metadata": {},
   "outputs": [],
   "source": []
  },
  {
   "cell_type": "code",
   "execution_count": 66,
   "id": "a318f393",
   "metadata": {},
   "outputs": [],
   "source": [
    "# Now some visualization or analysis purpose let us convert the encoded categorical data to categories\n",
    "# map_re = {1.0:'Has relevent experience',0.0:'No relevent experience'}\n",
    "# new_df['relevent_experience'] = new_df['relevent_experience'].map(map_re)"
   ]
  },
  {
   "cell_type": "code",
   "execution_count": 70,
   "id": "d3ebf616",
   "metadata": {},
   "outputs": [],
   "source": [
    "# map_eu = {2.0:'Full time course' ,1.0:'Part time course', 0.0:'no_enrollment'}\n",
    "# new_df['enrolled_university'] = new_df['enrolled_university'].map(map_eu)"
   ]
  },
  {
   "cell_type": "code",
   "execution_count": 72,
   "id": "ed3d6f1e",
   "metadata": {},
   "outputs": [],
   "source": [
    "# map_el = {0.0:'Primary School',1.1: 'High School', 2.0:'Graduate',3.0:'Masters',4.0:'Phd'}\n",
    "# new_df['education_level'] = new_df['education_level'].map(map_el)"
   ]
  },
  {
   "cell_type": "code",
   "execution_count": 80,
   "id": "4adb2f11",
   "metadata": {},
   "outputs": [],
   "source": [
    "# new_df['company_size'] = new_df['company_size'].astype(np.int32)\n",
    "# map_cs = {0:'<10',1:'10/49',2:'50-99',3:'100-500',4:'500-999',5:'1000-4999',6:'5000-9999',7:'10000+'}\n",
    "# new_df['company_size'] = new_df['company_size'].map(map_cs)"
   ]
  }
 ],
 "metadata": {
  "kernelspec": {
   "display_name": "Python 3 (ipykernel)",
   "language": "python",
   "name": "python3"
  },
  "language_info": {
   "codemirror_mode": {
    "name": "ipython",
    "version": 3
   },
   "file_extension": ".py",
   "mimetype": "text/x-python",
   "name": "python",
   "nbconvert_exporter": "python",
   "pygments_lexer": "ipython3",
   "version": "3.10.8"
  }
 },
 "nbformat": 4,
 "nbformat_minor": 5
}
