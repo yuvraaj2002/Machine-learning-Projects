{
 "cells": [
  {
   "cell_type": "markdown",
   "id": "27db24d6-541c-4f60-9569-9ad403792a58",
   "metadata": {},
   "source": [
    "# Importing the libraries"
   ]
  },
  {
   "cell_type": "code",
   "execution_count": 1,
   "id": "42fc0dd5-0213-4270-b9cc-f00d86d5c869",
   "metadata": {},
   "outputs": [],
   "source": [
    "import pandas as pd\n",
    "import numpy as np\n",
    "import matplotlib.pyplot as plt\n",
    "import seaborn as sns\n",
    "\n",
    "# Reading the file\n",
    "df = pd.read_csv('smartphones data.csv')"
   ]
  },
  {
   "cell_type": "code",
   "execution_count": 2,
   "id": "e2037ac9-7e3a-4cd0-8c77-457c4b2c1af4",
   "metadata": {},
   "outputs": [
    {
     "data": {
      "text/plain": [
       "(1020, 11)"
      ]
     },
     "execution_count": 2,
     "metadata": {},
     "output_type": "execute_result"
    }
   ],
   "source": [
    "# Checking the shape of dataframe\n",
    "df.shape"
   ]
  },
  {
   "cell_type": "code",
   "execution_count": 3,
   "id": "5e783055-873e-4e43-84d0-882a023e12ca",
   "metadata": {},
   "outputs": [
    {
     "data": {
      "text/html": [
       "<div>\n",
       "<style scoped>\n",
       "    .dataframe tbody tr th:only-of-type {\n",
       "        vertical-align: middle;\n",
       "    }\n",
       "\n",
       "    .dataframe tbody tr th {\n",
       "        vertical-align: top;\n",
       "    }\n",
       "\n",
       "    .dataframe thead th {\n",
       "        text-align: right;\n",
       "    }\n",
       "</style>\n",
       "<table border=\"1\" class=\"dataframe\">\n",
       "  <thead>\n",
       "    <tr style=\"text-align: right;\">\n",
       "      <th></th>\n",
       "      <th>model</th>\n",
       "      <th>price</th>\n",
       "      <th>rating</th>\n",
       "      <th>sim</th>\n",
       "      <th>processor</th>\n",
       "      <th>ram</th>\n",
       "      <th>battery</th>\n",
       "      <th>display</th>\n",
       "      <th>camera</th>\n",
       "      <th>card</th>\n",
       "      <th>os</th>\n",
       "    </tr>\n",
       "  </thead>\n",
       "  <tbody>\n",
       "    <tr>\n",
       "      <th>0</th>\n",
       "      <td>OnePlus 11 5G</td>\n",
       "      <td>₹54,999</td>\n",
       "      <td>89.0</td>\n",
       "      <td>Dual Sim, 3G, 4G, 5G, VoLTE, Wi-Fi, NFC</td>\n",
       "      <td>Snapdragon 8 Gen2, Octa Core, 3.2 GHz Processor</td>\n",
       "      <td>12 GB RAM, 256 GB inbuilt</td>\n",
       "      <td>5000 mAh Battery with 100W Fast Charging</td>\n",
       "      <td>6.7 inches, 1440 x 3216 px, 120 Hz Display wit...</td>\n",
       "      <td>50 MP + 48 MP + 32 MP Triple Rear &amp; 16 MP Fron...</td>\n",
       "      <td>Memory Card Not Supported</td>\n",
       "      <td>Android v13</td>\n",
       "    </tr>\n",
       "    <tr>\n",
       "      <th>1</th>\n",
       "      <td>OnePlus Nord CE 2 Lite 5G</td>\n",
       "      <td>₹19,989</td>\n",
       "      <td>81.0</td>\n",
       "      <td>Dual Sim, 3G, 4G, 5G, VoLTE, Wi-Fi</td>\n",
       "      <td>Snapdragon 695, Octa Core, 2.2 GHz Processor</td>\n",
       "      <td>6 GB RAM, 128 GB inbuilt</td>\n",
       "      <td>5000 mAh Battery with 33W Fast Charging</td>\n",
       "      <td>6.59 inches, 1080 x 2412 px, 120 Hz Display wi...</td>\n",
       "      <td>64 MP + 2 MP + 2 MP Triple Rear &amp; 16 MP Front ...</td>\n",
       "      <td>Memory Card (Hybrid), upto 1 TB</td>\n",
       "      <td>Android v12</td>\n",
       "    </tr>\n",
       "    <tr>\n",
       "      <th>2</th>\n",
       "      <td>Samsung Galaxy A14 5G</td>\n",
       "      <td>₹16,499</td>\n",
       "      <td>75.0</td>\n",
       "      <td>Dual Sim, 3G, 4G, 5G, VoLTE, Wi-Fi</td>\n",
       "      <td>Exynos 1330, Octa Core, 2.4 GHz Processor</td>\n",
       "      <td>4 GB RAM, 64 GB inbuilt</td>\n",
       "      <td>5000 mAh Battery with 15W Fast Charging</td>\n",
       "      <td>6.6 inches, 1080 x 2408 px, 90 Hz Display with...</td>\n",
       "      <td>50 MP + 2 MP + 2 MP Triple Rear &amp; 13 MP Front ...</td>\n",
       "      <td>Memory Card Supported, upto 1 TB</td>\n",
       "      <td>Android v13</td>\n",
       "    </tr>\n",
       "    <tr>\n",
       "      <th>3</th>\n",
       "      <td>Motorola Moto G62 5G</td>\n",
       "      <td>₹14,999</td>\n",
       "      <td>81.0</td>\n",
       "      <td>Dual Sim, 3G, 4G, 5G, VoLTE, Wi-Fi</td>\n",
       "      <td>Snapdragon  695, Octa Core, 2.2 GHz Processor</td>\n",
       "      <td>6 GB RAM, 128 GB inbuilt</td>\n",
       "      <td>5000 mAh Battery with Fast Charging</td>\n",
       "      <td>6.55 inches, 1080 x 2400 px, 120 Hz Display wi...</td>\n",
       "      <td>50 MP + 8 MP + 2 MP Triple Rear &amp; 16 MP Front ...</td>\n",
       "      <td>Memory Card (Hybrid), upto 1 TB</td>\n",
       "      <td>Android v12</td>\n",
       "    </tr>\n",
       "  </tbody>\n",
       "</table>\n",
       "</div>"
      ],
      "text/plain": [
       "                       model    price  rating  \\\n",
       "0              OnePlus 11 5G  ₹54,999    89.0   \n",
       "1  OnePlus Nord CE 2 Lite 5G  ₹19,989    81.0   \n",
       "2      Samsung Galaxy A14 5G  ₹16,499    75.0   \n",
       "3       Motorola Moto G62 5G  ₹14,999    81.0   \n",
       "\n",
       "                                       sim  \\\n",
       "0  Dual Sim, 3G, 4G, 5G, VoLTE, Wi-Fi, NFC   \n",
       "1       Dual Sim, 3G, 4G, 5G, VoLTE, Wi-Fi   \n",
       "2       Dual Sim, 3G, 4G, 5G, VoLTE, Wi-Fi   \n",
       "3       Dual Sim, 3G, 4G, 5G, VoLTE, Wi-Fi   \n",
       "\n",
       "                                         processor                        ram  \\\n",
       "0  Snapdragon 8 Gen2, Octa Core, 3.2 GHz Processor  12 GB RAM, 256 GB inbuilt   \n",
       "1     Snapdragon 695, Octa Core, 2.2 GHz Processor   6 GB RAM, 128 GB inbuilt   \n",
       "2        Exynos 1330, Octa Core, 2.4 GHz Processor    4 GB RAM, 64 GB inbuilt   \n",
       "3    Snapdragon  695, Octa Core, 2.2 GHz Processor   6 GB RAM, 128 GB inbuilt   \n",
       "\n",
       "                                    battery  \\\n",
       "0  5000 mAh Battery with 100W Fast Charging   \n",
       "1   5000 mAh Battery with 33W Fast Charging   \n",
       "2   5000 mAh Battery with 15W Fast Charging   \n",
       "3       5000 mAh Battery with Fast Charging   \n",
       "\n",
       "                                             display  \\\n",
       "0  6.7 inches, 1440 x 3216 px, 120 Hz Display wit...   \n",
       "1  6.59 inches, 1080 x 2412 px, 120 Hz Display wi...   \n",
       "2  6.6 inches, 1080 x 2408 px, 90 Hz Display with...   \n",
       "3  6.55 inches, 1080 x 2400 px, 120 Hz Display wi...   \n",
       "\n",
       "                                              camera  \\\n",
       "0  50 MP + 48 MP + 32 MP Triple Rear & 16 MP Fron...   \n",
       "1  64 MP + 2 MP + 2 MP Triple Rear & 16 MP Front ...   \n",
       "2  50 MP + 2 MP + 2 MP Triple Rear & 13 MP Front ...   \n",
       "3  50 MP + 8 MP + 2 MP Triple Rear & 16 MP Front ...   \n",
       "\n",
       "                               card           os  \n",
       "0         Memory Card Not Supported  Android v13  \n",
       "1   Memory Card (Hybrid), upto 1 TB  Android v12  \n",
       "2  Memory Card Supported, upto 1 TB  Android v13  \n",
       "3   Memory Card (Hybrid), upto 1 TB  Android v12  "
      ]
     },
     "execution_count": 3,
     "metadata": {},
     "output_type": "execute_result"
    }
   ],
   "source": [
    "# Reading first 4 rows of the dataframe\n",
    "df.head(4)"
   ]
  },
  {
   "cell_type": "code",
   "execution_count": 4,
   "id": "2b3476e1-ea96-46b3-8cda-9b5caee78e7c",
   "metadata": {},
   "outputs": [
    {
     "name": "stdout",
     "output_type": "stream",
     "text": [
      "<class 'pandas.core.frame.DataFrame'>\n",
      "RangeIndex: 1020 entries, 0 to 1019\n",
      "Data columns (total 11 columns):\n",
      " #   Column     Non-Null Count  Dtype  \n",
      "---  ------     --------------  -----  \n",
      " 0   model      1020 non-null   object \n",
      " 1   price      1020 non-null   object \n",
      " 2   rating     879 non-null    float64\n",
      " 3   sim        1020 non-null   object \n",
      " 4   processor  1020 non-null   object \n",
      " 5   ram        1020 non-null   object \n",
      " 6   battery    1020 non-null   object \n",
      " 7   display    1020 non-null   object \n",
      " 8   camera     1019 non-null   object \n",
      " 9   card       1013 non-null   object \n",
      " 10  os         1003 non-null   object \n",
      "dtypes: float64(1), object(10)\n",
      "memory usage: 87.8+ KB\n"
     ]
    }
   ],
   "source": [
    "# Let's check data type of the features\n",
    "df.info()"
   ]
  },
  {
   "cell_type": "code",
   "execution_count": 5,
   "id": "8e2d32c2-874b-4ae2-a0f0-1e68aeb47a86",
   "metadata": {},
   "outputs": [
    {
     "data": {
      "text/plain": [
       "0"
      ]
     },
     "execution_count": 5,
     "metadata": {},
     "output_type": "execute_result"
    }
   ],
   "source": [
    "# Let's check any duplicated values\n",
    "df.duplicated().sum()"
   ]
  },
  {
   "cell_type": "code",
   "execution_count": 6,
   "id": "16f4880f-02bf-4a25-af0e-7356b4fc5284",
   "metadata": {},
   "outputs": [
    {
     "data": {
      "text/plain": [
       "model         0.000000\n",
       "price         0.000000\n",
       "rating       13.823529\n",
       "sim           0.000000\n",
       "processor     0.000000\n",
       "ram           0.000000\n",
       "battery       0.000000\n",
       "display       0.000000\n",
       "camera        0.098039\n",
       "card          0.686275\n",
       "os            1.666667\n",
       "dtype: float64"
      ]
     },
     "execution_count": 6,
     "metadata": {},
     "output_type": "execute_result"
    }
   ],
   "source": [
    "# Let's check percentage of missing vaulues\n",
    "df.isnull().mean()*100"
   ]
  },
  {
   "cell_type": "markdown",
   "id": "6291dc9c-8b4c-44e3-be64-9cc3b6cd5111",
   "metadata": {},
   "source": [
    "# Data cleaning and processing\n",
    "\n",
    "1. **model** - some brands are written diiferently like OPPO in model column `consistency`\n",
    "2. **price** - has unneccesary '₹' symbol and has comma between numbers and phone Namotel at index 608 has a price of 99 `Done`\n",
    "4. **ratings** - missing values `completeness`\n",
    "5. **processor** - has some incorrect values for some samsung phones(row # -642,647,649,659,667,701,750,759,819,859,883,884,919,927,929,932,1002) `validity`\n",
    "6. There is ipod on row 756 `validity`\n",
    "7. **memory** - incorrect values in rows (441,485,534,553,584,610,613,642,647,649,659,667,701,750,759,819,859,884,919,927,929,932,990,1002) `validity`\n",
    "8. **battery** - incorrect values in rows(113,151,309,365,378,441,450,553,584,610,613,630,642,647,649,659,667,701,750,756,759,764,819,855,859,884,915,916,927,929,932,990,1002) `validity`\n",
    "9. **display** - sometimes frequency is not available `completeness`\n",
    "10. **display** - incorrect values in rows(378,441,450,553,584,610,613,630,642,647,649,659,667,701,750,759,764,819,859,884,915,916,927,929,932,990,1002) `validity`\n",
    "11. certain phones are foldable and the info is scattered `validity`\n",
    "12. **camera** - words like Dual, Triple and Quad are used to represent number of cameras and front and rear cameras are separated by '&'\n",
    "13. **camera** - problem with rows (100,113,151,157,161,238,273,308,309,323,324,365,367,378,394,441,450,484,506,534,553,571,572,575,584,610,613,615,630,642,647,649,659,667,684,687,705,711,723,728,750,756,759,764,792,819,846,854,855,858,883,884,896,915,916,927,929,932,945,956,990,995,1002,1016\n",
    ") `validity`\n",
    "14. **card** - sometimes contains info about os and camera `validity`\n",
    "15. **os** - sometimes contains info about bluetooth and fm radio `validity`\n",
    "16. **os** - issue with rows (324,378) `validity`\n",
    "17. **os** - sometimes contains os version name like lollipop `consistency`\n",
    "18. missing values in camera, card and os `completeness`\n",
    "19. datatype  of price and rating is incorrect `validity`"
   ]
  },
  {
   "cell_type": "code",
   "execution_count": 7,
   "id": "7e41aa0e-2db0-4a4a-8956-dc27f082dbfa",
   "metadata": {},
   "outputs": [],
   "source": [
    "# let's remove the Rupee symbol and commas in price feature\n",
    "def treat_price(value):\n",
    "    rs = value[1:]\n",
    "    rs = int(rs.replace(\",\",\"\"))\n",
    "    return rs\n",
    "\n",
    "# Applying the function on price feature \n",
    "df['price'] = df['price'].apply(treat_price)\n",
    "\n",
    "# Removing the row with price = 99, because it is not possible\n",
    "df.drop(index = 608,inplace=True)"
   ]
  },
  {
   "cell_type": "markdown",
   "id": "8eb322ef-522d-4a8c-8725-f7651ea6bbfa",
   "metadata": {},
   "source": [
    "Now we will create 3 features out of sim feature { Has_5g , Has_dual_Sim, Is_NFC and Has_Volte } \n",
    "\n",
    "- NFC stands for Near Field Communication, which is a short-range wireless communication technology used in smartphones and other devices. NFC allows devices to exchange data with each other when they are close together, typically within a few centimeters. It operates at a frequency of 13.56 MHz and is designed for low-power, high-speed communication.\n",
    "- Volte is used to provide high-quality voice calls over a 4G LTE data network, which results in improved call quality, faster call setup times, and the ability to make calls and use data services simultaneously on a smartphone."
   ]
  },
  {
   "cell_type": "code",
   "execution_count": 8,
   "id": "f7cb80ac-fd9f-4834-971b-864a93982d62",
   "metadata": {},
   "outputs": [],
   "source": [
    "# Let's create Has_5g,Has_NFC and Has_dual_sim and Has_Volte feature\n",
    "Has_5G = []\n",
    "for value in df['sim']:\n",
    "    value = value.split(',')\n",
    "    if ' 5G' in value:\n",
    "        Has_5G.append(1)\n",
    "    else:\n",
    "        Has_5G.append(0)\n",
    "        \n",
    "Has_NFC = []\n",
    "for value in df['sim']:\n",
    "    value = value.split(',')\n",
    "    if ' NFC' in value:\n",
    "        Has_NFC.append(1)\n",
    "    else:\n",
    "        Has_NFC.append(0)\n",
    "\n",
    "Has_dual_sim = []\n",
    "for value in df['sim']:\n",
    "    value = value.split(',')\n",
    "    if 'Dual Sim' in value:\n",
    "        Has_dual_sim.append(1)\n",
    "    else:\n",
    "        Has_dual_sim.append(0)\n",
    "        \n",
    "Has_VoLTE = []\n",
    "for value in df['sim']:\n",
    "    value = value.split(',')\n",
    "    if ' VoLTE' in value:\n",
    "        Has_VoLTE.append(1)\n",
    "    else:\n",
    "        Has_VoLTE.append(0)  \n",
    "        \n",
    "Has_Wifi = []\n",
    "for value in df['sim']:\n",
    "    value = value.split(',')\n",
    "    if ' Wi-Fi' in value:\n",
    "        Has_Wifi.append(1)\n",
    "    else:\n",
    "        Has_Wifi.append(0)\n",
    "\n",
    "# Creating new features\n",
    "df['Has_5G'] = Has_5G\n",
    "df['Has_NFC'] = Has_NFC\n",
    "df['Has_dual_sim'] = Has_dual_sim\n",
    "df['Has_VoLTE'] = Has_VoLTE\n",
    "df['Has_Wifi'] = Has_Wifi"
   ]
  },
  {
   "cell_type": "code",
   "execution_count": 9,
   "id": "3209be9e-182f-49f9-98ad-0e20cd38ff48",
   "metadata": {},
   "outputs": [],
   "source": [
    "# Let's now drop the sim feature\n",
    "df.drop(['sim'],axis=1,inplace=True)"
   ]
  },
  {
   "cell_type": "markdown",
   "id": "a5dbe334-b621-4314-ac19-62c33c67a902",
   "metadata": {},
   "source": [
    "From the manual analysis of the data, there are certain rows in which there is some problem. So we have stored all the indexes in which there is some problem"
   ]
  },
  {
   "cell_type": "code",
   "execution_count": 10,
   "id": "9a25c8bb-942b-4587-98ee-dd23414f251f",
   "metadata": {},
   "outputs": [],
   "source": [
    "processor_rows = set((640,645,647,657,665,699,748,757,817,857,881,882,917,925,927,930,1000))\n",
    "ram_rows = new = set((439,483,532,551,582,608,611,640,645,647,657,665,699,748,757,817,857,882,917,925,927,930,988,1000))\n",
    "battery_rows = set((111,149,307,363,376,439,448,551,582,608,611,628,640,645,647,657,665,699,748,754,757,762,817,853,857,882,913,914,925,927,930,988,1000))\n",
    "display_rows = set((376,439,448,551,582,608,611,628,640,645,647,657,665,699,748,757,762,817,857,882,913,914,925,927,930,988,1000))\n",
    "camera_rows = set((98,111,149,155,159,236,271,306,307,321,322,363,365,376,392,439,448,482,504,532,551,569,570,573,582,608,611,613,628,640,645,647,657,665,682,685,703,709,721,726,748,754,757,762,790,817,844,852,853,856,881,882,894,913,914,925,927,930,943,954,988,993,1000,1014))"
   ]
  },
  {
   "cell_type": "code",
   "execution_count": 11,
   "id": "be6ddfe5-8c38-4bd8-8127-65151a0d00b4",
   "metadata": {},
   "outputs": [],
   "source": [
    "df = df.reset_index()\n",
    "\n",
    "# All the rows in which there are all the problems\n",
    "Defect = df[df['index'].isin(processor_rows & ram_rows & battery_rows & display_rows & camera_rows)]"
   ]
  },
  {
   "cell_type": "code",
   "execution_count": 22,
   "id": "7d873b5a-f88e-4533-828a-077c6b97ddf0",
   "metadata": {},
   "outputs": [
    {
     "data": {
      "image/png": "[encoded data removed]",
      "text/plain": [
       "<Figure size 432x288 with 1 Axes>"
      ]
     },
     "metadata": {
      "needs_background": "light"
     },
     "output_type": "display_data"
    }
   ],
   "source": [
    "sns.barplot(x = Defect['model'],y = Defect['price'],data = Defect)\n",
    "plt.xticks(rotation='vertical')\n",
    "plt.show()"
   ]
  },
  {
   "cell_type": "markdown",
   "id": "e667401a-a429-4120-960e-cd6af10620ed",
   "metadata": {},
   "source": [
    "From the research all the phones in which the price is less than 2500 are not smartphones, and since in this project we are focusing on the smartphones thus we will ignore these phones"
   ]
  },
  {
   "cell_type": "code",
   "execution_count": 23,
   "id": "e4a188c6-4be4-4ee0-842b-e7e790c4ccee",
   "metadata": {},
   "outputs": [],
   "source": [
    "df = df[df['price'] >= 2500]"
   ]
  },
  {
   "cell_type": "code",
   "execution_count": null,
   "id": "4590db32-b168-4544-9338-5193a606c978",
   "metadata": {},
   "outputs": [],
   "source": []
  },
  {
   "cell_type": "code",
   "execution_count": 33,
   "id": "4071ec61-e1a3-44d9-8b0a-40dd9c199c96",
   "metadata": {},
   "outputs": [
    {
     "data": {
      "text/plain": [
       "<AxesSubplot:ylabel='Has_dual_sim'>"
      ]
     },
     "execution_count": 33,
     "metadata": {},
     "output_type": "execute_result"
    },
    {
     "data": {
      "image/png": "[encoded data removed]",
      "text/plain": [
       "<Figure size 1080x648 with 3 Axes>"
      ]
     },
     "metadata": {},
     "output_type": "display_data"
    }
   ],
   "source": [
    "ex = [0,0.1]\n",
    "fig,ax = plt.subplots(1,3,figsize=(15,9))\n",
    "\n",
    "df['Has_5G'].value_counts().plot(kind='pie',autopct='%.2f',explode=ex,ax = ax[0])\n",
    "df['Has_NFC'].value_counts().plot(kind='pie',autopct='%.2f',explode=ex,ax = ax[1])\n",
    "df['Has_dual_sim'].value_counts().plot(kind='pie',autopct='%.2f',ax = ax[2])"
   ]
  },
  {
   "cell_type": "code",
   "execution_count": 29,
   "id": "7d805ddf-98a6-48f7-9725-8ab5be3ad8ae",
   "metadata": {},
   "outputs": [
    {
     "data": {
      "text/plain": [
       "<AxesSubplot:ylabel='Has_Wifi'>"
      ]
     },
     "execution_count": 29,
     "metadata": {},
     "output_type": "execute_result"
    },
    {
     "data": {
      "image/png": "[encoded data removed]",
      "text/plain": [
       "<Figure size 1080x288 with 2 Axes>"
      ]
     },
     "metadata": {},
     "output_type": "display_data"
    }
   ],
   "source": [
    "ex = [0,0]\n",
    "fig,ax = plt.subplots(1,2,figsize=(15,4))\n",
    "\n",
    "df['Has_VoLTE'].value_counts().plot(kind='pie',autopct='%.2f',explode=ex,ax = ax[0])\n",
    "df['Has_Wifi'].value_counts().plot(kind='pie',autopct='%.2f',explode=ex,ax = ax[1])"
   ]
  },
  {
   "cell_type": "code",
   "execution_count": 14,
   "id": "0da6d761-953b-4f76-9ac8-53d03143b0f1",
   "metadata": {},
   "outputs": [
    {
     "data": {
      "text/plain": [
       "<AxesSubplot:>"
      ]
     },
     "execution_count": 14,
     "metadata": {},
     "output_type": "execute_result"
    },
    {
     "data": {
      "image/png": "[encoded data removed]",
      "text/plain": [
       "<Figure size 432x288 with 2 Axes>"
      ]
     },
     "metadata": {
      "needs_background": "light"
     },
     "output_type": "display_data"
    }
   ],
   "source": [
    "sns.heatmap(df.corr(),annot=True)"
   ]
  },
  {
   "cell_type": "code",
   "execution_count": null,
   "id": "33669e81-367d-4128-9d6d-a8857ce4476f",
   "metadata": {},
   "outputs": [],
   "source": []
  },
  {
   "cell_type": "code",
   "execution_count": null,
   "id": "d0e10dce-c76e-47ca-bf3e-e1c0b175d1be",
   "metadata": {},
   "outputs": [],
   "source": []
  },
  {
   "cell_type": "code",
   "execution_count": 13,
   "id": "91ad3ca2-6264-441d-b271-4fef0c91bbe6",
   "metadata": {},
   "outputs": [
    {
     "data": {
      "text/html": [
       "<div>\n",
       "<style scoped>\n",
       "    .dataframe tbody tr th:only-of-type {\n",
       "        vertical-align: middle;\n",
       "    }\n",
       "\n",
       "    .dataframe tbody tr th {\n",
       "        vertical-align: top;\n",
       "    }\n",
       "\n",
       "    .dataframe thead th {\n",
       "        text-align: right;\n",
       "    }\n",
       "</style>\n",
       "<table border=\"1\" class=\"dataframe\">\n",
       "  <thead>\n",
       "    <tr style=\"text-align: right;\">\n",
       "      <th></th>\n",
       "      <th>model</th>\n",
       "      <th>price</th>\n",
       "      <th>rating</th>\n",
       "      <th>sim</th>\n",
       "      <th>processor</th>\n",
       "      <th>ram</th>\n",
       "      <th>battery</th>\n",
       "      <th>display</th>\n",
       "      <th>camera</th>\n",
       "      <th>card</th>\n",
       "      <th>os</th>\n",
       "      <th>Has_5G</th>\n",
       "      <th>Has_NFC</th>\n",
       "      <th>Has_dual_sim</th>\n",
       "      <th>Has_VoLTE</th>\n",
       "      <th>Has_Wifi</th>\n",
       "    </tr>\n",
       "  </thead>\n",
       "  <tbody>\n",
       "    <tr>\n",
       "      <th>0</th>\n",
       "      <td>OnePlus 11 5G</td>\n",
       "      <td>₹54,999</td>\n",
       "      <td>89.0</td>\n",
       "      <td>Dual Sim, 3G, 4G, 5G, VoLTE, Wi-Fi, NFC</td>\n",
       "      <td>Snapdragon 8 Gen2, Octa Core, 3.2 GHz Processor</td>\n",
       "      <td>12 GB RAM, 256 GB inbuilt</td>\n",
       "      <td>5000 mAh Battery with 100W Fast Charging</td>\n",
       "      <td>6.7 inches, 1440 x 3216 px, 120 Hz Display wit...</td>\n",
       "      <td>50 MP + 48 MP + 32 MP Triple Rear &amp; 16 MP Fron...</td>\n",
       "      <td>Memory Card Not Supported</td>\n",
       "      <td>Android v13</td>\n",
       "      <td>1</td>\n",
       "      <td>1</td>\n",
       "      <td>1</td>\n",
       "      <td>1</td>\n",
       "      <td>1</td>\n",
       "    </tr>\n",
       "    <tr>\n",
       "      <th>1</th>\n",
       "      <td>OnePlus Nord CE 2 Lite 5G</td>\n",
       "      <td>₹19,989</td>\n",
       "      <td>81.0</td>\n",
       "      <td>Dual Sim, 3G, 4G, 5G, VoLTE, Wi-Fi</td>\n",
       "      <td>Snapdragon 695, Octa Core, 2.2 GHz Processor</td>\n",
       "      <td>6 GB RAM, 128 GB inbuilt</td>\n",
       "      <td>5000 mAh Battery with 33W Fast Charging</td>\n",
       "      <td>6.59 inches, 1080 x 2412 px, 120 Hz Display wi...</td>\n",
       "      <td>64 MP + 2 MP + 2 MP Triple Rear &amp; 16 MP Front ...</td>\n",
       "      <td>Memory Card (Hybrid), upto 1 TB</td>\n",
       "      <td>Android v12</td>\n",
       "      <td>1</td>\n",
       "      <td>0</td>\n",
       "      <td>1</td>\n",
       "      <td>1</td>\n",
       "      <td>1</td>\n",
       "    </tr>\n",
       "    <tr>\n",
       "      <th>2</th>\n",
       "      <td>Samsung Galaxy A14 5G</td>\n",
       "      <td>₹16,499</td>\n",
       "      <td>75.0</td>\n",
       "      <td>Dual Sim, 3G, 4G, 5G, VoLTE, Wi-Fi</td>\n",
       "      <td>Exynos 1330, Octa Core, 2.4 GHz Processor</td>\n",
       "      <td>4 GB RAM, 64 GB inbuilt</td>\n",
       "      <td>5000 mAh Battery with 15W Fast Charging</td>\n",
       "      <td>6.6 inches, 1080 x 2408 px, 90 Hz Display with...</td>\n",
       "      <td>50 MP + 2 MP + 2 MP Triple Rear &amp; 13 MP Front ...</td>\n",
       "      <td>Memory Card Supported, upto 1 TB</td>\n",
       "      <td>Android v13</td>\n",
       "      <td>1</td>\n",
       "      <td>0</td>\n",
       "      <td>1</td>\n",
       "      <td>1</td>\n",
       "      <td>1</td>\n",
       "    </tr>\n",
       "    <tr>\n",
       "      <th>3</th>\n",
       "      <td>Motorola Moto G62 5G</td>\n",
       "      <td>₹14,999</td>\n",
       "      <td>81.0</td>\n",
       "      <td>Dual Sim, 3G, 4G, 5G, VoLTE, Wi-Fi</td>\n",
       "      <td>Snapdragon  695, Octa Core, 2.2 GHz Processor</td>\n",
       "      <td>6 GB RAM, 128 GB inbuilt</td>\n",
       "      <td>5000 mAh Battery with Fast Charging</td>\n",
       "      <td>6.55 inches, 1080 x 2400 px, 120 Hz Display wi...</td>\n",
       "      <td>50 MP + 8 MP + 2 MP Triple Rear &amp; 16 MP Front ...</td>\n",
       "      <td>Memory Card (Hybrid), upto 1 TB</td>\n",
       "      <td>Android v12</td>\n",
       "      <td>1</td>\n",
       "      <td>0</td>\n",
       "      <td>1</td>\n",
       "      <td>1</td>\n",
       "      <td>1</td>\n",
       "    </tr>\n",
       "  </tbody>\n",
       "</table>\n",
       "</div>"
      ],
      "text/plain": [
       "                       model    price  rating  \\\n",
       "0              OnePlus 11 5G  ₹54,999    89.0   \n",
       "1  OnePlus Nord CE 2 Lite 5G  ₹19,989    81.0   \n",
       "2      Samsung Galaxy A14 5G  ₹16,499    75.0   \n",
       "3       Motorola Moto G62 5G  ₹14,999    81.0   \n",
       "\n",
       "                                       sim  \\\n",
       "0  Dual Sim, 3G, 4G, 5G, VoLTE, Wi-Fi, NFC   \n",
       "1       Dual Sim, 3G, 4G, 5G, VoLTE, Wi-Fi   \n",
       "2       Dual Sim, 3G, 4G, 5G, VoLTE, Wi-Fi   \n",
       "3       Dual Sim, 3G, 4G, 5G, VoLTE, Wi-Fi   \n",
       "\n",
       "                                         processor                        ram  \\\n",
       "0  Snapdragon 8 Gen2, Octa Core, 3.2 GHz Processor  12 GB RAM, 256 GB inbuilt   \n",
       "1     Snapdragon 695, Octa Core, 2.2 GHz Processor   6 GB RAM, 128 GB inbuilt   \n",
       "2        Exynos 1330, Octa Core, 2.4 GHz Processor    4 GB RAM, 64 GB inbuilt   \n",
       "3    Snapdragon  695, Octa Core, 2.2 GHz Processor   6 GB RAM, 128 GB inbuilt   \n",
       "\n",
       "                                    battery  \\\n",
       "0  5000 mAh Battery with 100W Fast Charging   \n",
       "1   5000 mAh Battery with 33W Fast Charging   \n",
       "2   5000 mAh Battery with 15W Fast Charging   \n",
       "3       5000 mAh Battery with Fast Charging   \n",
       "\n",
       "                                             display  \\\n",
       "0  6.7 inches, 1440 x 3216 px, 120 Hz Display wit...   \n",
       "1  6.59 inches, 1080 x 2412 px, 120 Hz Display wi...   \n",
       "2  6.6 inches, 1080 x 2408 px, 90 Hz Display with...   \n",
       "3  6.55 inches, 1080 x 2400 px, 120 Hz Display wi...   \n",
       "\n",
       "                                              camera  \\\n",
       "0  50 MP + 48 MP + 32 MP Triple Rear & 16 MP Fron...   \n",
       "1  64 MP + 2 MP + 2 MP Triple Rear & 16 MP Front ...   \n",
       "2  50 MP + 2 MP + 2 MP Triple Rear & 13 MP Front ...   \n",
       "3  50 MP + 8 MP + 2 MP Triple Rear & 16 MP Front ...   \n",
       "\n",
       "                               card           os  Has_5G  Has_NFC  \\\n",
       "0         Memory Card Not Supported  Android v13       1        1   \n",
       "1   Memory Card (Hybrid), upto 1 TB  Android v12       1        0   \n",
       "2  Memory Card Supported, upto 1 TB  Android v13       1        0   \n",
       "3   Memory Card (Hybrid), upto 1 TB  Android v12       1        0   \n",
       "\n",
       "   Has_dual_sim  Has_VoLTE  Has_Wifi  \n",
       "0             1          1         1  \n",
       "1             1          1         1  \n",
       "2             1          1         1  \n",
       "3             1          1         1  "
      ]
     },
     "execution_count": 13,
     "metadata": {},
     "output_type": "execute_result"
    }
   ],
   "source": [
    "df.head(4)"
   ]
  },
  {
   "cell_type": "markdown",
   "id": "89ff9615-5fea-46c2-b52a-175c85599eb2",
   "metadata": {},
   "source": [
    "## Data Assessing\n",
    "\n",
    "\n",
    "\n",
    "\n",
    "\n",
    "### Tidiness Issues\n",
    "\n",
    "1. **sim** - can be split into 3 cols has_5g, has_NFC, has_IR_Blaster\n",
    "2. **ram** - can be split into 2 cols RAM and ROM\n",
    "3. **processor** - can be split into processor name, cores and cpu speed.\n",
    "4. **battery** - can be split into battery capacity, fast_charging_available\n",
    "5. **display** - can be split into size, resolution_width, resolution_height and frequency\n",
    "6. **camera** - can be split into front and rear camera\n",
    "7. **card** - can be split into supported, extended_upto"
   ]
  },
  {
   "cell_type": "code",
   "execution_count": null,
   "id": "b7b8d3ba-68f3-4257-a062-70dd262719ad",
   "metadata": {},
   "outputs": [],
   "source": []
  }
 ],
 "metadata": {
  "kernelspec": {
   "display_name": "Python 3 (ipykernel)",
   "language": "python",
   "name": "python3"
  },
  "language_info": {
   "codemirror_mode": {
    "name": "ipython",
    "version": 3
   },
   "file_extension": ".py",
   "mimetype": "text/x-python",
   "name": "python",
   "nbconvert_exporter": "python",
   "pygments_lexer": "ipython3",
   "version": "3.10.8"
  }
 },
 "nbformat": 4,
 "nbformat_minor": 5
}
